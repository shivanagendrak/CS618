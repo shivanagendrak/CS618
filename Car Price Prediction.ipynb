{
 "cells": [
  {
   "cell_type": "code",
   "execution_count": 17,
   "id": "2359d385",
   "metadata": {},
   "outputs": [],
   "source": [
    "import pandas as pd\n",
    "import numpy as np\n",
    "import matplotlib.pyplot as plt\n",
    "import seaborn as sns\n",
    "import os\n",
    "import warnings\n",
    "\n",
    "%matplotlib inline\n",
    "pd.set_option(\"display.max_rows\",None,\"display.max_columns\", None)\n",
    "warnings.simplefilter(action='ignore')\n",
    "plt.style.use('seaborn')"
   ]
  },
  {
   "cell_type": "code",
   "execution_count": 18,
   "id": "9a3e4564",
   "metadata": {},
   "outputs": [],
   "source": [
    "df = pd.read_csv('C:\\Mostafa\\My work\\SHU\\Late Spring 2023\\DEEP LEARNING CS-618-A\\Class codes\\linear regression/car data.csv')"
   ]
  },
  {
   "cell_type": "code",
   "execution_count": 19,
   "id": "0181589a",
   "metadata": {},
   "outputs": [
    {
     "data": {
      "text/html": [
       "<div>\n",
       "<style scoped>\n",
       "    .dataframe tbody tr th:only-of-type {\n",
       "        vertical-align: middle;\n",
       "    }\n",
       "\n",
       "    .dataframe tbody tr th {\n",
       "        vertical-align: top;\n",
       "    }\n",
       "\n",
       "    .dataframe thead th {\n",
       "        text-align: right;\n",
       "    }\n",
       "</style>\n",
       "<table border=\"1\" class=\"dataframe\">\n",
       "  <thead>\n",
       "    <tr style=\"text-align: right;\">\n",
       "      <th></th>\n",
       "      <th>Car_Name</th>\n",
       "      <th>Year</th>\n",
       "      <th>Selling_Price</th>\n",
       "      <th>Present_Price</th>\n",
       "      <th>Kms_Driven</th>\n",
       "      <th>Fuel_Type</th>\n",
       "      <th>Seller_Type</th>\n",
       "      <th>Transmission</th>\n",
       "      <th>Owner</th>\n",
       "    </tr>\n",
       "  </thead>\n",
       "  <tbody>\n",
       "    <tr>\n",
       "      <th>0</th>\n",
       "      <td>ritz</td>\n",
       "      <td>2014</td>\n",
       "      <td>3.35</td>\n",
       "      <td>5.59</td>\n",
       "      <td>27000</td>\n",
       "      <td>Petrol</td>\n",
       "      <td>Dealer</td>\n",
       "      <td>Manual</td>\n",
       "      <td>0</td>\n",
       "    </tr>\n",
       "    <tr>\n",
       "      <th>1</th>\n",
       "      <td>sx4</td>\n",
       "      <td>2013</td>\n",
       "      <td>4.75</td>\n",
       "      <td>9.54</td>\n",
       "      <td>43000</td>\n",
       "      <td>Diesel</td>\n",
       "      <td>Dealer</td>\n",
       "      <td>Manual</td>\n",
       "      <td>0</td>\n",
       "    </tr>\n",
       "    <tr>\n",
       "      <th>2</th>\n",
       "      <td>ciaz</td>\n",
       "      <td>2017</td>\n",
       "      <td>7.25</td>\n",
       "      <td>9.85</td>\n",
       "      <td>6900</td>\n",
       "      <td>Petrol</td>\n",
       "      <td>Dealer</td>\n",
       "      <td>Manual</td>\n",
       "      <td>0</td>\n",
       "    </tr>\n",
       "    <tr>\n",
       "      <th>3</th>\n",
       "      <td>wagon r</td>\n",
       "      <td>2011</td>\n",
       "      <td>2.85</td>\n",
       "      <td>4.15</td>\n",
       "      <td>5200</td>\n",
       "      <td>Petrol</td>\n",
       "      <td>Dealer</td>\n",
       "      <td>Manual</td>\n",
       "      <td>0</td>\n",
       "    </tr>\n",
       "    <tr>\n",
       "      <th>4</th>\n",
       "      <td>swift</td>\n",
       "      <td>2014</td>\n",
       "      <td>4.60</td>\n",
       "      <td>6.87</td>\n",
       "      <td>42450</td>\n",
       "      <td>Diesel</td>\n",
       "      <td>Dealer</td>\n",
       "      <td>Manual</td>\n",
       "      <td>0</td>\n",
       "    </tr>\n",
       "  </tbody>\n",
       "</table>\n",
       "</div>"
      ],
      "text/plain": [
       "  Car_Name  Year  Selling_Price  Present_Price  Kms_Driven Fuel_Type  \\\n",
       "0     ritz  2014           3.35           5.59       27000    Petrol   \n",
       "1      sx4  2013           4.75           9.54       43000    Diesel   \n",
       "2     ciaz  2017           7.25           9.85        6900    Petrol   \n",
       "3  wagon r  2011           2.85           4.15        5200    Petrol   \n",
       "4    swift  2014           4.60           6.87       42450    Diesel   \n",
       "\n",
       "  Seller_Type Transmission  Owner  \n",
       "0      Dealer       Manual      0  \n",
       "1      Dealer       Manual      0  \n",
       "2      Dealer       Manual      0  \n",
       "3      Dealer       Manual      0  \n",
       "4      Dealer       Manual      0  "
      ]
     },
     "execution_count": 19,
     "metadata": {},
     "output_type": "execute_result"
    }
   ],
   "source": [
    "df.head()"
   ]
  },
  {
   "cell_type": "code",
   "execution_count": 20,
   "id": "75fb8331",
   "metadata": {},
   "outputs": [
    {
     "data": {
      "text/plain": [
       "(301, 9)"
      ]
     },
     "execution_count": 20,
     "metadata": {},
     "output_type": "execute_result"
    }
   ],
   "source": [
    "df.shape"
   ]
  },
  {
   "cell_type": "code",
   "execution_count": 21,
   "id": "9aa71d38",
   "metadata": {},
   "outputs": [
    {
     "name": "stdout",
     "output_type": "stream",
     "text": [
      "<class 'pandas.core.frame.DataFrame'>\n",
      "RangeIndex: 301 entries, 0 to 300\n",
      "Data columns (total 9 columns):\n",
      " #   Column         Non-Null Count  Dtype  \n",
      "---  ------         --------------  -----  \n",
      " 0   Car_Name       301 non-null    object \n",
      " 1   Year           301 non-null    int64  \n",
      " 2   Selling_Price  301 non-null    float64\n",
      " 3   Present_Price  301 non-null    float64\n",
      " 4   Kms_Driven     301 non-null    int64  \n",
      " 5   Fuel_Type      301 non-null    object \n",
      " 6   Seller_Type    301 non-null    object \n",
      " 7   Transmission   301 non-null    object \n",
      " 8   Owner          301 non-null    int64  \n",
      "dtypes: float64(2), int64(3), object(4)\n",
      "memory usage: 21.3+ KB\n"
     ]
    }
   ],
   "source": [
    "df.info()"
   ]
  },
  {
   "cell_type": "code",
   "execution_count": 22,
   "id": "e3d93dd3",
   "metadata": {},
   "outputs": [
    {
     "data": {
      "text/html": [
       "<div>\n",
       "<style scoped>\n",
       "    .dataframe tbody tr th:only-of-type {\n",
       "        vertical-align: middle;\n",
       "    }\n",
       "\n",
       "    .dataframe tbody tr th {\n",
       "        vertical-align: top;\n",
       "    }\n",
       "\n",
       "    .dataframe thead th {\n",
       "        text-align: right;\n",
       "    }\n",
       "</style>\n",
       "<table border=\"1\" class=\"dataframe\">\n",
       "  <thead>\n",
       "    <tr style=\"text-align: right;\">\n",
       "      <th></th>\n",
       "      <th>Year</th>\n",
       "      <th>Selling_Price</th>\n",
       "      <th>Present_Price</th>\n",
       "      <th>Kms_Driven</th>\n",
       "      <th>Owner</th>\n",
       "    </tr>\n",
       "  </thead>\n",
       "  <tbody>\n",
       "    <tr>\n",
       "      <th>count</th>\n",
       "      <td>301.000000</td>\n",
       "      <td>301.000000</td>\n",
       "      <td>301.000000</td>\n",
       "      <td>301.000000</td>\n",
       "      <td>301.000000</td>\n",
       "    </tr>\n",
       "    <tr>\n",
       "      <th>mean</th>\n",
       "      <td>2013.627907</td>\n",
       "      <td>4.661296</td>\n",
       "      <td>7.628472</td>\n",
       "      <td>36947.205980</td>\n",
       "      <td>0.043189</td>\n",
       "    </tr>\n",
       "    <tr>\n",
       "      <th>std</th>\n",
       "      <td>2.891554</td>\n",
       "      <td>5.082812</td>\n",
       "      <td>8.644115</td>\n",
       "      <td>38886.883882</td>\n",
       "      <td>0.247915</td>\n",
       "    </tr>\n",
       "    <tr>\n",
       "      <th>min</th>\n",
       "      <td>2003.000000</td>\n",
       "      <td>0.100000</td>\n",
       "      <td>0.320000</td>\n",
       "      <td>500.000000</td>\n",
       "      <td>0.000000</td>\n",
       "    </tr>\n",
       "    <tr>\n",
       "      <th>25%</th>\n",
       "      <td>2012.000000</td>\n",
       "      <td>0.900000</td>\n",
       "      <td>1.200000</td>\n",
       "      <td>15000.000000</td>\n",
       "      <td>0.000000</td>\n",
       "    </tr>\n",
       "    <tr>\n",
       "      <th>50%</th>\n",
       "      <td>2014.000000</td>\n",
       "      <td>3.600000</td>\n",
       "      <td>6.400000</td>\n",
       "      <td>32000.000000</td>\n",
       "      <td>0.000000</td>\n",
       "    </tr>\n",
       "    <tr>\n",
       "      <th>75%</th>\n",
       "      <td>2016.000000</td>\n",
       "      <td>6.000000</td>\n",
       "      <td>9.900000</td>\n",
       "      <td>48767.000000</td>\n",
       "      <td>0.000000</td>\n",
       "    </tr>\n",
       "    <tr>\n",
       "      <th>max</th>\n",
       "      <td>2018.000000</td>\n",
       "      <td>35.000000</td>\n",
       "      <td>92.600000</td>\n",
       "      <td>500000.000000</td>\n",
       "      <td>3.000000</td>\n",
       "    </tr>\n",
       "  </tbody>\n",
       "</table>\n",
       "</div>"
      ],
      "text/plain": [
       "              Year  Selling_Price  Present_Price     Kms_Driven       Owner\n",
       "count   301.000000     301.000000     301.000000     301.000000  301.000000\n",
       "mean   2013.627907       4.661296       7.628472   36947.205980    0.043189\n",
       "std       2.891554       5.082812       8.644115   38886.883882    0.247915\n",
       "min    2003.000000       0.100000       0.320000     500.000000    0.000000\n",
       "25%    2012.000000       0.900000       1.200000   15000.000000    0.000000\n",
       "50%    2014.000000       3.600000       6.400000   32000.000000    0.000000\n",
       "75%    2016.000000       6.000000       9.900000   48767.000000    0.000000\n",
       "max    2018.000000      35.000000      92.600000  500000.000000    3.000000"
      ]
     },
     "execution_count": 22,
     "metadata": {},
     "output_type": "execute_result"
    }
   ],
   "source": [
    "df.describe()"
   ]
  },
  {
   "cell_type": "code",
   "execution_count": 23,
   "id": "323d6c39",
   "metadata": {},
   "outputs": [
    {
     "data": {
      "text/plain": [
       "Car_Name         0\n",
       "Year             0\n",
       "Selling_Price    0\n",
       "Present_Price    0\n",
       "Kms_Driven       0\n",
       "Fuel_Type        0\n",
       "Seller_Type      0\n",
       "Transmission     0\n",
       "Owner            0\n",
       "dtype: int64"
      ]
     },
     "execution_count": 23,
     "metadata": {},
     "output_type": "execute_result"
    }
   ],
   "source": [
    "df.isna().sum()"
   ]
  },
  {
   "cell_type": "markdown",
   "id": "fdcc1c1d",
   "metadata": {},
   "source": [
    "## Data Preprocessing\n"
   ]
  },
  {
   "cell_type": "code",
   "execution_count": 24,
   "id": "720b94fd",
   "metadata": {},
   "outputs": [],
   "source": [
    "df['Age'] = 2021 - df['Year']\n",
    "df.drop('Year', axis=1, inplace=True)"
   ]
  },
  {
   "cell_type": "code",
   "execution_count": 25,
   "id": "aeb3075e",
   "metadata": {},
   "outputs": [
    {
     "data": {
      "text/html": [
       "<div>\n",
       "<style scoped>\n",
       "    .dataframe tbody tr th:only-of-type {\n",
       "        vertical-align: middle;\n",
       "    }\n",
       "\n",
       "    .dataframe tbody tr th {\n",
       "        vertical-align: top;\n",
       "    }\n",
       "\n",
       "    .dataframe thead th {\n",
       "        text-align: right;\n",
       "    }\n",
       "</style>\n",
       "<table border=\"1\" class=\"dataframe\">\n",
       "  <thead>\n",
       "    <tr style=\"text-align: right;\">\n",
       "      <th></th>\n",
       "      <th>Car_Name</th>\n",
       "      <th>Selling_Price</th>\n",
       "      <th>Present_Price</th>\n",
       "      <th>Kms_Driven</th>\n",
       "      <th>Fuel_Type</th>\n",
       "      <th>Seller_Type</th>\n",
       "      <th>Transmission</th>\n",
       "      <th>Owner</th>\n",
       "      <th>Age</th>\n",
       "    </tr>\n",
       "  </thead>\n",
       "  <tbody>\n",
       "    <tr>\n",
       "      <th>0</th>\n",
       "      <td>ritz</td>\n",
       "      <td>3.35</td>\n",
       "      <td>5.59</td>\n",
       "      <td>27000</td>\n",
       "      <td>Petrol</td>\n",
       "      <td>Dealer</td>\n",
       "      <td>Manual</td>\n",
       "      <td>0</td>\n",
       "      <td>7</td>\n",
       "    </tr>\n",
       "    <tr>\n",
       "      <th>1</th>\n",
       "      <td>sx4</td>\n",
       "      <td>4.75</td>\n",
       "      <td>9.54</td>\n",
       "      <td>43000</td>\n",
       "      <td>Diesel</td>\n",
       "      <td>Dealer</td>\n",
       "      <td>Manual</td>\n",
       "      <td>0</td>\n",
       "      <td>8</td>\n",
       "    </tr>\n",
       "    <tr>\n",
       "      <th>2</th>\n",
       "      <td>ciaz</td>\n",
       "      <td>7.25</td>\n",
       "      <td>9.85</td>\n",
       "      <td>6900</td>\n",
       "      <td>Petrol</td>\n",
       "      <td>Dealer</td>\n",
       "      <td>Manual</td>\n",
       "      <td>0</td>\n",
       "      <td>4</td>\n",
       "    </tr>\n",
       "    <tr>\n",
       "      <th>3</th>\n",
       "      <td>wagon r</td>\n",
       "      <td>2.85</td>\n",
       "      <td>4.15</td>\n",
       "      <td>5200</td>\n",
       "      <td>Petrol</td>\n",
       "      <td>Dealer</td>\n",
       "      <td>Manual</td>\n",
       "      <td>0</td>\n",
       "      <td>10</td>\n",
       "    </tr>\n",
       "    <tr>\n",
       "      <th>4</th>\n",
       "      <td>swift</td>\n",
       "      <td>4.60</td>\n",
       "      <td>6.87</td>\n",
       "      <td>42450</td>\n",
       "      <td>Diesel</td>\n",
       "      <td>Dealer</td>\n",
       "      <td>Manual</td>\n",
       "      <td>0</td>\n",
       "      <td>7</td>\n",
       "    </tr>\n",
       "  </tbody>\n",
       "</table>\n",
       "</div>"
      ],
      "text/plain": [
       "  Car_Name  Selling_Price  Present_Price  Kms_Driven Fuel_Type Seller_Type  \\\n",
       "0     ritz           3.35           5.59       27000    Petrol      Dealer   \n",
       "1      sx4           4.75           9.54       43000    Diesel      Dealer   \n",
       "2     ciaz           7.25           9.85        6900    Petrol      Dealer   \n",
       "3  wagon r           2.85           4.15        5200    Petrol      Dealer   \n",
       "4    swift           4.60           6.87       42450    Diesel      Dealer   \n",
       "\n",
       "  Transmission  Owner  Age  \n",
       "0       Manual      0    7  \n",
       "1       Manual      0    8  \n",
       "2       Manual      0    4  \n",
       "3       Manual      0   10  \n",
       "4       Manual      0    7  "
      ]
     },
     "execution_count": 25,
     "metadata": {},
     "output_type": "execute_result"
    }
   ],
   "source": [
    "df.head()"
   ]
  },
  {
   "cell_type": "code",
   "execution_count": 26,
   "id": "27835359",
   "metadata": {},
   "outputs": [],
   "source": [
    "df.rename(columns = {'Selling_Price':'Selling_Price(lacs)', 'Present_Price':'Present_Price(lacs)', 'Owner':'Past_Owners'}, inplace=True)"
   ]
  },
  {
   "cell_type": "code",
   "execution_count": 27,
   "id": "b0548835",
   "metadata": {},
   "outputs": [
    {
     "data": {
      "text/html": [
       "<div>\n",
       "<style scoped>\n",
       "    .dataframe tbody tr th:only-of-type {\n",
       "        vertical-align: middle;\n",
       "    }\n",
       "\n",
       "    .dataframe tbody tr th {\n",
       "        vertical-align: top;\n",
       "    }\n",
       "\n",
       "    .dataframe thead th {\n",
       "        text-align: right;\n",
       "    }\n",
       "</style>\n",
       "<table border=\"1\" class=\"dataframe\">\n",
       "  <thead>\n",
       "    <tr style=\"text-align: right;\">\n",
       "      <th></th>\n",
       "      <th>Car_Name</th>\n",
       "      <th>Selling_Price(lacs)</th>\n",
       "      <th>Present_Price(lacs)</th>\n",
       "      <th>Kms_Driven</th>\n",
       "      <th>Fuel_Type</th>\n",
       "      <th>Seller_Type</th>\n",
       "      <th>Transmission</th>\n",
       "      <th>Past_Owners</th>\n",
       "      <th>Age</th>\n",
       "    </tr>\n",
       "  </thead>\n",
       "  <tbody>\n",
       "    <tr>\n",
       "      <th>0</th>\n",
       "      <td>ritz</td>\n",
       "      <td>3.35</td>\n",
       "      <td>5.59</td>\n",
       "      <td>27000</td>\n",
       "      <td>Petrol</td>\n",
       "      <td>Dealer</td>\n",
       "      <td>Manual</td>\n",
       "      <td>0</td>\n",
       "      <td>7</td>\n",
       "    </tr>\n",
       "    <tr>\n",
       "      <th>1</th>\n",
       "      <td>sx4</td>\n",
       "      <td>4.75</td>\n",
       "      <td>9.54</td>\n",
       "      <td>43000</td>\n",
       "      <td>Diesel</td>\n",
       "      <td>Dealer</td>\n",
       "      <td>Manual</td>\n",
       "      <td>0</td>\n",
       "      <td>8</td>\n",
       "    </tr>\n",
       "    <tr>\n",
       "      <th>2</th>\n",
       "      <td>ciaz</td>\n",
       "      <td>7.25</td>\n",
       "      <td>9.85</td>\n",
       "      <td>6900</td>\n",
       "      <td>Petrol</td>\n",
       "      <td>Dealer</td>\n",
       "      <td>Manual</td>\n",
       "      <td>0</td>\n",
       "      <td>4</td>\n",
       "    </tr>\n",
       "    <tr>\n",
       "      <th>3</th>\n",
       "      <td>wagon r</td>\n",
       "      <td>2.85</td>\n",
       "      <td>4.15</td>\n",
       "      <td>5200</td>\n",
       "      <td>Petrol</td>\n",
       "      <td>Dealer</td>\n",
       "      <td>Manual</td>\n",
       "      <td>0</td>\n",
       "      <td>10</td>\n",
       "    </tr>\n",
       "    <tr>\n",
       "      <th>4</th>\n",
       "      <td>swift</td>\n",
       "      <td>4.60</td>\n",
       "      <td>6.87</td>\n",
       "      <td>42450</td>\n",
       "      <td>Diesel</td>\n",
       "      <td>Dealer</td>\n",
       "      <td>Manual</td>\n",
       "      <td>0</td>\n",
       "      <td>7</td>\n",
       "    </tr>\n",
       "  </tbody>\n",
       "</table>\n",
       "</div>"
      ],
      "text/plain": [
       "  Car_Name  Selling_Price(lacs)  Present_Price(lacs)  Kms_Driven Fuel_Type  \\\n",
       "0     ritz                 3.35                 5.59       27000    Petrol   \n",
       "1      sx4                 4.75                 9.54       43000    Diesel   \n",
       "2     ciaz                 7.25                 9.85        6900    Petrol   \n",
       "3  wagon r                 2.85                 4.15        5200    Petrol   \n",
       "4    swift                 4.60                 6.87       42450    Diesel   \n",
       "\n",
       "  Seller_Type Transmission  Past_Owners  Age  \n",
       "0      Dealer       Manual            0    7  \n",
       "1      Dealer       Manual            0    8  \n",
       "2      Dealer       Manual            0    4  \n",
       "3      Dealer       Manual            0   10  \n",
       "4      Dealer       Manual            0    7  "
      ]
     },
     "execution_count": 27,
     "metadata": {},
     "output_type": "execute_result"
    }
   ],
   "source": [
    "df.head()"
   ]
  },
  {
   "cell_type": "code",
   "execution_count": 28,
   "id": "d1e6c244",
   "metadata": {},
   "outputs": [
    {
     "data": {
      "text/plain": [
       "Index(['Car_Name', 'Selling_Price(lacs)', 'Present_Price(lacs)', 'Kms_Driven',\n",
       "       'Fuel_Type', 'Seller_Type', 'Transmission', 'Past_Owners', 'Age'],\n",
       "      dtype='object')"
      ]
     },
     "execution_count": 28,
     "metadata": {},
     "output_type": "execute_result"
    }
   ],
   "source": [
    "df.columns"
   ]
  },
  {
   "cell_type": "markdown",
   "id": "0b29a056",
   "metadata": {},
   "source": [
    "## Visualizing the data"
   ]
  },
  {
   "cell_type": "code",
   "execution_count": 29,
   "id": "2af1c253",
   "metadata": {},
   "outputs": [
    {
     "data": {
      "image/png": "[encoded data removed]",
      "text/plain": [
       "<Figure size 720x288 with 2 Axes>"
      ]
     },
     "metadata": {},
     "output_type": "display_data"
    },
    {
     "data": {
      "image/png": "[encoded data removed]",
      "text/plain": [
       "<Figure size 720x288 with 2 Axes>"
      ]
     },
     "metadata": {},
     "output_type": "display_data"
    }
   ],
   "source": [
    "cat_cols = ['Fuel_Type', 'Seller_Type', 'Transmission', 'Past_Owners']\n",
    "i = 0\n",
    "while i < 4:\n",
    "    fig = plt.figure(figsize=[10,4])\n",
    "    \n",
    "    plt.subplot(1,2,1)\n",
    "    sns.countplot(x=cat_cols[i], data=df)\n",
    "    i +=1\n",
    "    \n",
    "    plt.subplot(1,2,2)\n",
    "    sns.countplot(x=cat_cols[i], data=df)\n",
    "    i += 1\n",
    "    \n",
    "    plt.show()"
   ]
  },
  {
   "cell_type": "code",
   "execution_count": 30,
   "id": "7858be34",
   "metadata": {},
   "outputs": [
    {
     "data": {
      "text/html": [
       "<div>\n",
       "<style scoped>\n",
       "    .dataframe tbody tr th:only-of-type {\n",
       "        vertical-align: middle;\n",
       "    }\n",
       "\n",
       "    .dataframe tbody tr th {\n",
       "        vertical-align: top;\n",
       "    }\n",
       "\n",
       "    .dataframe thead th {\n",
       "        text-align: right;\n",
       "    }\n",
       "</style>\n",
       "<table border=\"1\" class=\"dataframe\">\n",
       "  <thead>\n",
       "    <tr style=\"text-align: right;\">\n",
       "      <th></th>\n",
       "      <th>Car_Name</th>\n",
       "      <th>Selling_Price(lacs)</th>\n",
       "      <th>Present_Price(lacs)</th>\n",
       "      <th>Kms_Driven</th>\n",
       "      <th>Fuel_Type</th>\n",
       "      <th>Seller_Type</th>\n",
       "      <th>Transmission</th>\n",
       "      <th>Past_Owners</th>\n",
       "      <th>Age</th>\n",
       "    </tr>\n",
       "  </thead>\n",
       "  <tbody>\n",
       "    <tr>\n",
       "      <th>64</th>\n",
       "      <td>fortuner</td>\n",
       "      <td>33.0</td>\n",
       "      <td>36.23</td>\n",
       "      <td>6000</td>\n",
       "      <td>Diesel</td>\n",
       "      <td>Dealer</td>\n",
       "      <td>Automatic</td>\n",
       "      <td>0</td>\n",
       "      <td>4</td>\n",
       "    </tr>\n",
       "    <tr>\n",
       "      <th>86</th>\n",
       "      <td>land cruiser</td>\n",
       "      <td>35.0</td>\n",
       "      <td>92.60</td>\n",
       "      <td>78000</td>\n",
       "      <td>Diesel</td>\n",
       "      <td>Dealer</td>\n",
       "      <td>Manual</td>\n",
       "      <td>0</td>\n",
       "      <td>11</td>\n",
       "    </tr>\n",
       "  </tbody>\n",
       "</table>\n",
       "</div>"
      ],
      "text/plain": [
       "        Car_Name  Selling_Price(lacs)  Present_Price(lacs)  Kms_Driven  \\\n",
       "64      fortuner                 33.0                36.23        6000   \n",
       "86  land cruiser                 35.0                92.60       78000   \n",
       "\n",
       "   Fuel_Type Seller_Type Transmission  Past_Owners  Age  \n",
       "64    Diesel      Dealer    Automatic            0    4  \n",
       "86    Diesel      Dealer       Manual            0   11  "
      ]
     },
     "execution_count": 30,
     "metadata": {},
     "output_type": "execute_result"
    }
   ],
   "source": [
    "df[df['Present_Price(lacs)']>df['Present_Price(lacs)'].quantile(0.99)]"
   ]
  },
  {
   "cell_type": "code",
   "execution_count": 31,
   "id": "704b8d92",
   "metadata": {},
   "outputs": [
    {
     "data": {
      "text/html": [
       "<div>\n",
       "<style scoped>\n",
       "    .dataframe tbody tr th:only-of-type {\n",
       "        vertical-align: middle;\n",
       "    }\n",
       "\n",
       "    .dataframe tbody tr th {\n",
       "        vertical-align: top;\n",
       "    }\n",
       "\n",
       "    .dataframe thead th {\n",
       "        text-align: right;\n",
       "    }\n",
       "</style>\n",
       "<table border=\"1\" class=\"dataframe\">\n",
       "  <thead>\n",
       "    <tr style=\"text-align: right;\">\n",
       "      <th></th>\n",
       "      <th>Car_Name</th>\n",
       "      <th>Selling_Price(lacs)</th>\n",
       "      <th>Present_Price(lacs)</th>\n",
       "      <th>Kms_Driven</th>\n",
       "      <th>Fuel_Type</th>\n",
       "      <th>Seller_Type</th>\n",
       "      <th>Transmission</th>\n",
       "      <th>Past_Owners</th>\n",
       "      <th>Age</th>\n",
       "    </tr>\n",
       "  </thead>\n",
       "  <tbody>\n",
       "    <tr>\n",
       "      <th>63</th>\n",
       "      <td>fortuner</td>\n",
       "      <td>23.5</td>\n",
       "      <td>35.96</td>\n",
       "      <td>47000</td>\n",
       "      <td>Diesel</td>\n",
       "      <td>Dealer</td>\n",
       "      <td>Automatic</td>\n",
       "      <td>0</td>\n",
       "      <td>6</td>\n",
       "    </tr>\n",
       "    <tr>\n",
       "      <th>64</th>\n",
       "      <td>fortuner</td>\n",
       "      <td>33.0</td>\n",
       "      <td>36.23</td>\n",
       "      <td>6000</td>\n",
       "      <td>Diesel</td>\n",
       "      <td>Dealer</td>\n",
       "      <td>Automatic</td>\n",
       "      <td>0</td>\n",
       "      <td>4</td>\n",
       "    </tr>\n",
       "    <tr>\n",
       "      <th>86</th>\n",
       "      <td>land cruiser</td>\n",
       "      <td>35.0</td>\n",
       "      <td>92.60</td>\n",
       "      <td>78000</td>\n",
       "      <td>Diesel</td>\n",
       "      <td>Dealer</td>\n",
       "      <td>Manual</td>\n",
       "      <td>0</td>\n",
       "      <td>11</td>\n",
       "    </tr>\n",
       "  </tbody>\n",
       "</table>\n",
       "</div>"
      ],
      "text/plain": [
       "        Car_Name  Selling_Price(lacs)  Present_Price(lacs)  Kms_Driven  \\\n",
       "63      fortuner                 23.5                35.96       47000   \n",
       "64      fortuner                 33.0                36.23        6000   \n",
       "86  land cruiser                 35.0                92.60       78000   \n",
       "\n",
       "   Fuel_Type Seller_Type Transmission  Past_Owners  Age  \n",
       "63    Diesel      Dealer    Automatic            0    6  \n",
       "64    Diesel      Dealer    Automatic            0    4  \n",
       "86    Diesel      Dealer       Manual            0   11  "
      ]
     },
     "execution_count": 31,
     "metadata": {},
     "output_type": "execute_result"
    }
   ],
   "source": [
    "df[df['Selling_Price(lacs)'] > df['Selling_Price(lacs)'].quantile(0.99)]"
   ]
  },
  {
   "cell_type": "code",
   "execution_count": 32,
   "id": "a9d14f3b",
   "metadata": {},
   "outputs": [
    {
     "data": {
      "text/html": [
       "<div>\n",
       "<style scoped>\n",
       "    .dataframe tbody tr th:only-of-type {\n",
       "        vertical-align: middle;\n",
       "    }\n",
       "\n",
       "    .dataframe tbody tr th {\n",
       "        vertical-align: top;\n",
       "    }\n",
       "\n",
       "    .dataframe thead th {\n",
       "        text-align: right;\n",
       "    }\n",
       "</style>\n",
       "<table border=\"1\" class=\"dataframe\">\n",
       "  <thead>\n",
       "    <tr style=\"text-align: right;\">\n",
       "      <th></th>\n",
       "      <th>Car_Name</th>\n",
       "      <th>Selling_Price(lacs)</th>\n",
       "      <th>Present_Price(lacs)</th>\n",
       "      <th>Kms_Driven</th>\n",
       "      <th>Fuel_Type</th>\n",
       "      <th>Seller_Type</th>\n",
       "      <th>Transmission</th>\n",
       "      <th>Past_Owners</th>\n",
       "      <th>Age</th>\n",
       "    </tr>\n",
       "  </thead>\n",
       "  <tbody>\n",
       "    <tr>\n",
       "      <th>84</th>\n",
       "      <td>innova</td>\n",
       "      <td>3.49</td>\n",
       "      <td>13.46</td>\n",
       "      <td>197176</td>\n",
       "      <td>Diesel</td>\n",
       "      <td>Dealer</td>\n",
       "      <td>Manual</td>\n",
       "      <td>0</td>\n",
       "      <td>16</td>\n",
       "    </tr>\n",
       "    <tr>\n",
       "      <th>179</th>\n",
       "      <td>Honda Karizma</td>\n",
       "      <td>0.31</td>\n",
       "      <td>1.05</td>\n",
       "      <td>213000</td>\n",
       "      <td>Petrol</td>\n",
       "      <td>Individual</td>\n",
       "      <td>Manual</td>\n",
       "      <td>0</td>\n",
       "      <td>11</td>\n",
       "    </tr>\n",
       "    <tr>\n",
       "      <th>196</th>\n",
       "      <td>Activa 3g</td>\n",
       "      <td>0.17</td>\n",
       "      <td>0.52</td>\n",
       "      <td>500000</td>\n",
       "      <td>Petrol</td>\n",
       "      <td>Individual</td>\n",
       "      <td>Automatic</td>\n",
       "      <td>0</td>\n",
       "      <td>13</td>\n",
       "    </tr>\n",
       "  </tbody>\n",
       "</table>\n",
       "</div>"
      ],
      "text/plain": [
       "          Car_Name  Selling_Price(lacs)  Present_Price(lacs)  Kms_Driven  \\\n",
       "84          innova                 3.49                13.46      197176   \n",
       "179  Honda Karizma                 0.31                 1.05      213000   \n",
       "196      Activa 3g                 0.17                 0.52      500000   \n",
       "\n",
       "    Fuel_Type Seller_Type Transmission  Past_Owners  Age  \n",
       "84     Diesel      Dealer       Manual            0   16  \n",
       "179    Petrol  Individual       Manual            0   11  \n",
       "196    Petrol  Individual    Automatic            0   13  "
      ]
     },
     "execution_count": 32,
     "metadata": {},
     "output_type": "execute_result"
    }
   ],
   "source": [
    "df[df['Kms_Driven'] > df['Kms_Driven'].quantile(0.99)]"
   ]
  },
  {
   "cell_type": "code",
   "execution_count": 33,
   "id": "e40cb63d",
   "metadata": {},
   "outputs": [
    {
     "data": {
      "image/png": "[encoded data removed]",
      "text/plain": [
       "<Figure size 576x396 with 2 Axes>"
      ]
     },
     "metadata": {},
     "output_type": "display_data"
    }
   ],
   "source": [
    "sns.heatmap(df.corr(), annot = True, cmap='RdBu')\n",
    "plt.show()"
   ]
  },
  {
   "cell_type": "code",
   "execution_count": 34,
   "id": "d8684b04",
   "metadata": {},
   "outputs": [
    {
     "data": {
      "text/plain": [
       "Selling_Price(lacs)    1.000000\n",
       "Present_Price(lacs)    0.878983\n",
       "Kms_Driven             0.029187\n",
       "Past_Owners           -0.088344\n",
       "Age                   -0.236141\n",
       "Name: Selling_Price(lacs), dtype: float64"
      ]
     },
     "execution_count": 34,
     "metadata": {},
     "output_type": "execute_result"
    }
   ],
   "source": [
    "df.corr()['Selling_Price(lacs)']"
   ]
  },
  {
   "cell_type": "code",
   "execution_count": 35,
   "id": "ab1c709b",
   "metadata": {},
   "outputs": [
    {
     "data": {
      "text/html": [
       "<div>\n",
       "<style scoped>\n",
       "    .dataframe tbody tr th:only-of-type {\n",
       "        vertical-align: middle;\n",
       "    }\n",
       "\n",
       "    .dataframe tbody tr th {\n",
       "        vertical-align: top;\n",
       "    }\n",
       "\n",
       "    .dataframe thead th {\n",
       "        text-align: right;\n",
       "    }\n",
       "</style>\n",
       "<table border=\"1\" class=\"dataframe\">\n",
       "  <thead>\n",
       "    <tr style=\"text-align: right;\">\n",
       "      <th>Fuel_Type</th>\n",
       "      <th>CNG</th>\n",
       "      <th>Diesel</th>\n",
       "      <th>Petrol</th>\n",
       "    </tr>\n",
       "    <tr>\n",
       "      <th>Seller_Type</th>\n",
       "      <th></th>\n",
       "      <th></th>\n",
       "      <th></th>\n",
       "    </tr>\n",
       "  </thead>\n",
       "  <tbody>\n",
       "    <tr>\n",
       "      <th>Dealer</th>\n",
       "      <td>3.1</td>\n",
       "      <td>10.181525</td>\n",
       "      <td>5.252388</td>\n",
       "    </tr>\n",
       "    <tr>\n",
       "      <th>Individual</th>\n",
       "      <td>NaN</td>\n",
       "      <td>16.000000</td>\n",
       "      <td>0.726857</td>\n",
       "    </tr>\n",
       "  </tbody>\n",
       "</table>\n",
       "</div>"
      ],
      "text/plain": [
       "Fuel_Type    CNG     Diesel    Petrol\n",
       "Seller_Type                          \n",
       "Dealer       3.1  10.181525  5.252388\n",
       "Individual   NaN  16.000000  0.726857"
      ]
     },
     "execution_count": 35,
     "metadata": {},
     "output_type": "execute_result"
    }
   ],
   "source": [
    "df.pivot_table(values='Selling_Price(lacs)', index = 'Seller_Type', columns='Fuel_Type')"
   ]
  },
  {
   "cell_type": "code",
   "execution_count": 36,
   "id": "e95e750c",
   "metadata": {},
   "outputs": [],
   "source": [
    "# Creating dummies for categorical values\n",
    "df.drop(labels='Car_Name', axis=1, inplace = True)"
   ]
  },
  {
   "cell_type": "code",
   "execution_count": 37,
   "id": "0eab8585",
   "metadata": {},
   "outputs": [
    {
     "data": {
      "text/html": [
       "<div>\n",
       "<style scoped>\n",
       "    .dataframe tbody tr th:only-of-type {\n",
       "        vertical-align: middle;\n",
       "    }\n",
       "\n",
       "    .dataframe tbody tr th {\n",
       "        vertical-align: top;\n",
       "    }\n",
       "\n",
       "    .dataframe thead th {\n",
       "        text-align: right;\n",
       "    }\n",
       "</style>\n",
       "<table border=\"1\" class=\"dataframe\">\n",
       "  <thead>\n",
       "    <tr style=\"text-align: right;\">\n",
       "      <th></th>\n",
       "      <th>Selling_Price(lacs)</th>\n",
       "      <th>Present_Price(lacs)</th>\n",
       "      <th>Kms_Driven</th>\n",
       "      <th>Fuel_Type</th>\n",
       "      <th>Seller_Type</th>\n",
       "      <th>Transmission</th>\n",
       "      <th>Past_Owners</th>\n",
       "      <th>Age</th>\n",
       "    </tr>\n",
       "  </thead>\n",
       "  <tbody>\n",
       "    <tr>\n",
       "      <th>0</th>\n",
       "      <td>3.35</td>\n",
       "      <td>5.59</td>\n",
       "      <td>27000</td>\n",
       "      <td>Petrol</td>\n",
       "      <td>Dealer</td>\n",
       "      <td>Manual</td>\n",
       "      <td>0</td>\n",
       "      <td>7</td>\n",
       "    </tr>\n",
       "    <tr>\n",
       "      <th>1</th>\n",
       "      <td>4.75</td>\n",
       "      <td>9.54</td>\n",
       "      <td>43000</td>\n",
       "      <td>Diesel</td>\n",
       "      <td>Dealer</td>\n",
       "      <td>Manual</td>\n",
       "      <td>0</td>\n",
       "      <td>8</td>\n",
       "    </tr>\n",
       "    <tr>\n",
       "      <th>2</th>\n",
       "      <td>7.25</td>\n",
       "      <td>9.85</td>\n",
       "      <td>6900</td>\n",
       "      <td>Petrol</td>\n",
       "      <td>Dealer</td>\n",
       "      <td>Manual</td>\n",
       "      <td>0</td>\n",
       "      <td>4</td>\n",
       "    </tr>\n",
       "    <tr>\n",
       "      <th>3</th>\n",
       "      <td>2.85</td>\n",
       "      <td>4.15</td>\n",
       "      <td>5200</td>\n",
       "      <td>Petrol</td>\n",
       "      <td>Dealer</td>\n",
       "      <td>Manual</td>\n",
       "      <td>0</td>\n",
       "      <td>10</td>\n",
       "    </tr>\n",
       "    <tr>\n",
       "      <th>4</th>\n",
       "      <td>4.60</td>\n",
       "      <td>6.87</td>\n",
       "      <td>42450</td>\n",
       "      <td>Diesel</td>\n",
       "      <td>Dealer</td>\n",
       "      <td>Manual</td>\n",
       "      <td>0</td>\n",
       "      <td>7</td>\n",
       "    </tr>\n",
       "  </tbody>\n",
       "</table>\n",
       "</div>"
      ],
      "text/plain": [
       "   Selling_Price(lacs)  Present_Price(lacs)  Kms_Driven Fuel_Type Seller_Type  \\\n",
       "0                 3.35                 5.59       27000    Petrol      Dealer   \n",
       "1                 4.75                 9.54       43000    Diesel      Dealer   \n",
       "2                 7.25                 9.85        6900    Petrol      Dealer   \n",
       "3                 2.85                 4.15        5200    Petrol      Dealer   \n",
       "4                 4.60                 6.87       42450    Diesel      Dealer   \n",
       "\n",
       "  Transmission  Past_Owners  Age  \n",
       "0       Manual            0    7  \n",
       "1       Manual            0    8  \n",
       "2       Manual            0    4  \n",
       "3       Manual            0   10  \n",
       "4       Manual            0    7  "
      ]
     },
     "execution_count": 37,
     "metadata": {},
     "output_type": "execute_result"
    }
   ],
   "source": [
    "df.head()"
   ]
  },
  {
   "cell_type": "code",
   "execution_count": 38,
   "id": "4be99acc",
   "metadata": {},
   "outputs": [],
   "source": [
    "df = pd.get_dummies(data=df, drop_first=True)"
   ]
  },
  {
   "cell_type": "code",
   "execution_count": 39,
   "id": "c326909f",
   "metadata": {},
   "outputs": [
    {
     "data": {
      "text/html": [
       "<div>\n",
       "<style scoped>\n",
       "    .dataframe tbody tr th:only-of-type {\n",
       "        vertical-align: middle;\n",
       "    }\n",
       "\n",
       "    .dataframe tbody tr th {\n",
       "        vertical-align: top;\n",
       "    }\n",
       "\n",
       "    .dataframe thead th {\n",
       "        text-align: right;\n",
       "    }\n",
       "</style>\n",
       "<table border=\"1\" class=\"dataframe\">\n",
       "  <thead>\n",
       "    <tr style=\"text-align: right;\">\n",
       "      <th></th>\n",
       "      <th>Selling_Price(lacs)</th>\n",
       "      <th>Present_Price(lacs)</th>\n",
       "      <th>Kms_Driven</th>\n",
       "      <th>Past_Owners</th>\n",
       "      <th>Age</th>\n",
       "      <th>Fuel_Type_Diesel</th>\n",
       "      <th>Fuel_Type_Petrol</th>\n",
       "      <th>Seller_Type_Individual</th>\n",
       "      <th>Transmission_Manual</th>\n",
       "    </tr>\n",
       "  </thead>\n",
       "  <tbody>\n",
       "    <tr>\n",
       "      <th>0</th>\n",
       "      <td>3.35</td>\n",
       "      <td>5.59</td>\n",
       "      <td>27000</td>\n",
       "      <td>0</td>\n",
       "      <td>7</td>\n",
       "      <td>0</td>\n",
       "      <td>1</td>\n",
       "      <td>0</td>\n",
       "      <td>1</td>\n",
       "    </tr>\n",
       "    <tr>\n",
       "      <th>1</th>\n",
       "      <td>4.75</td>\n",
       "      <td>9.54</td>\n",
       "      <td>43000</td>\n",
       "      <td>0</td>\n",
       "      <td>8</td>\n",
       "      <td>1</td>\n",
       "      <td>0</td>\n",
       "      <td>0</td>\n",
       "      <td>1</td>\n",
       "    </tr>\n",
       "    <tr>\n",
       "      <th>2</th>\n",
       "      <td>7.25</td>\n",
       "      <td>9.85</td>\n",
       "      <td>6900</td>\n",
       "      <td>0</td>\n",
       "      <td>4</td>\n",
       "      <td>0</td>\n",
       "      <td>1</td>\n",
       "      <td>0</td>\n",
       "      <td>1</td>\n",
       "    </tr>\n",
       "    <tr>\n",
       "      <th>3</th>\n",
       "      <td>2.85</td>\n",
       "      <td>4.15</td>\n",
       "      <td>5200</td>\n",
       "      <td>0</td>\n",
       "      <td>10</td>\n",
       "      <td>0</td>\n",
       "      <td>1</td>\n",
       "      <td>0</td>\n",
       "      <td>1</td>\n",
       "    </tr>\n",
       "    <tr>\n",
       "      <th>4</th>\n",
       "      <td>4.60</td>\n",
       "      <td>6.87</td>\n",
       "      <td>42450</td>\n",
       "      <td>0</td>\n",
       "      <td>7</td>\n",
       "      <td>1</td>\n",
       "      <td>0</td>\n",
       "      <td>0</td>\n",
       "      <td>1</td>\n",
       "    </tr>\n",
       "  </tbody>\n",
       "</table>\n",
       "</div>"
      ],
      "text/plain": [
       "   Selling_Price(lacs)  Present_Price(lacs)  Kms_Driven  Past_Owners  Age  \\\n",
       "0                 3.35                 5.59       27000            0    7   \n",
       "1                 4.75                 9.54       43000            0    8   \n",
       "2                 7.25                 9.85        6900            0    4   \n",
       "3                 2.85                 4.15        5200            0   10   \n",
       "4                 4.60                 6.87       42450            0    7   \n",
       "\n",
       "   Fuel_Type_Diesel  Fuel_Type_Petrol  Seller_Type_Individual  \\\n",
       "0                 0                 1                       0   \n",
       "1                 1                 0                       0   \n",
       "2                 0                 1                       0   \n",
       "3                 0                 1                       0   \n",
       "4                 1                 0                       0   \n",
       "\n",
       "   Transmission_Manual  \n",
       "0                    1  \n",
       "1                    1  \n",
       "2                    1  \n",
       "3                    1  \n",
       "4                    1  "
      ]
     },
     "execution_count": 39,
     "metadata": {},
     "output_type": "execute_result"
    }
   ],
   "source": [
    "df.head()"
   ]
  },
  {
   "cell_type": "markdown",
   "id": "b44292ac",
   "metadata": {},
   "source": [
    "## Train and Test"
   ]
  },
  {
   "cell_type": "code",
   "execution_count": 40,
   "id": "131d2c32",
   "metadata": {},
   "outputs": [],
   "source": [
    "# Train Test Split\n",
    "X = df.iloc[:,1:].values\n",
    "y = df.iloc[:,:1].values"
   ]
  },
  {
   "cell_type": "code",
   "execution_count": 41,
   "id": "07251d68",
   "metadata": {},
   "outputs": [
    {
     "name": "stdout",
     "output_type": "stream",
     "text": [
      "[[5.5900e+00 2.7000e+04 0.0000e+00 ... 1.0000e+00 0.0000e+00 1.0000e+00]\n",
      " [9.5400e+00 4.3000e+04 0.0000e+00 ... 0.0000e+00 0.0000e+00 1.0000e+00]\n",
      " [9.8500e+00 6.9000e+03 0.0000e+00 ... 1.0000e+00 0.0000e+00 1.0000e+00]\n",
      " ...\n",
      " [1.1000e+01 8.7934e+04 0.0000e+00 ... 1.0000e+00 0.0000e+00 1.0000e+00]\n",
      " [1.2500e+01 9.0000e+03 0.0000e+00 ... 0.0000e+00 0.0000e+00 1.0000e+00]\n",
      " [5.9000e+00 5.4640e+03 0.0000e+00 ... 1.0000e+00 0.0000e+00 1.0000e+00]]\n"
     ]
    }
   ],
   "source": [
    "print(X)"
   ]
  },
  {
   "cell_type": "code",
   "execution_count": 42,
   "id": "ee715b5f",
   "metadata": {},
   "outputs": [
    {
     "name": "stdout",
     "output_type": "stream",
     "text": [
      "[[ 3.35]\n",
      " [ 4.75]\n",
      " [ 7.25]\n",
      " [ 2.85]\n",
      " [ 4.6 ]\n",
      " [ 9.25]\n",
      " [ 6.75]\n",
      " [ 6.5 ]\n",
      " [ 8.75]\n",
      " [ 7.45]\n",
      " [ 2.85]\n",
      " [ 6.85]\n",
      " [ 7.5 ]\n",
      " [ 6.1 ]\n",
      " [ 2.25]\n",
      " [ 7.75]\n",
      " [ 7.25]\n",
      " [ 7.75]\n",
      " [ 3.25]\n",
      " [ 2.65]\n",
      " [ 2.85]\n",
      " [ 4.9 ]\n",
      " [ 4.4 ]\n",
      " [ 2.5 ]\n",
      " [ 2.9 ]\n",
      " [ 3.  ]\n",
      " [ 4.15]\n",
      " [ 6.  ]\n",
      " [ 1.95]\n",
      " [ 7.45]\n",
      " [ 3.1 ]\n",
      " [ 2.35]\n",
      " [ 4.95]\n",
      " [ 6.  ]\n",
      " [ 5.5 ]\n",
      " [ 2.95]\n",
      " [ 4.65]\n",
      " [ 0.35]\n",
      " [ 3.  ]\n",
      " [ 2.25]\n",
      " [ 5.85]\n",
      " [ 2.55]\n",
      " [ 1.95]\n",
      " [ 5.5 ]\n",
      " [ 1.25]\n",
      " [ 7.5 ]\n",
      " [ 2.65]\n",
      " [ 1.05]\n",
      " [ 5.8 ]\n",
      " [ 7.75]\n",
      " [14.9 ]\n",
      " [23.  ]\n",
      " [18.  ]\n",
      " [16.  ]\n",
      " [ 2.75]\n",
      " [ 3.6 ]\n",
      " [ 4.5 ]\n",
      " [ 4.75]\n",
      " [ 4.1 ]\n",
      " [19.99]\n",
      " [ 6.95]\n",
      " [ 4.5 ]\n",
      " [18.75]\n",
      " [23.5 ]\n",
      " [33.  ]\n",
      " [ 4.75]\n",
      " [19.75]\n",
      " [ 9.25]\n",
      " [ 4.35]\n",
      " [14.25]\n",
      " [ 3.95]\n",
      " [ 4.5 ]\n",
      " [ 7.45]\n",
      " [ 2.65]\n",
      " [ 4.9 ]\n",
      " [ 3.95]\n",
      " [ 5.5 ]\n",
      " [ 1.5 ]\n",
      " [ 5.25]\n",
      " [14.5 ]\n",
      " [14.73]\n",
      " [ 4.75]\n",
      " [23.  ]\n",
      " [12.5 ]\n",
      " [ 3.49]\n",
      " [ 2.5 ]\n",
      " [35.  ]\n",
      " [ 5.9 ]\n",
      " [ 3.45]\n",
      " [ 4.75]\n",
      " [ 3.8 ]\n",
      " [11.25]\n",
      " [ 3.51]\n",
      " [23.  ]\n",
      " [ 4.  ]\n",
      " [ 5.85]\n",
      " [20.75]\n",
      " [17.  ]\n",
      " [ 7.05]\n",
      " [ 9.65]\n",
      " [ 1.75]\n",
      " [ 1.7 ]\n",
      " [ 1.65]\n",
      " [ 1.45]\n",
      " [ 1.35]\n",
      " [ 1.35]\n",
      " [ 1.35]\n",
      " [ 1.25]\n",
      " [ 1.2 ]\n",
      " [ 1.2 ]\n",
      " [ 1.2 ]\n",
      " [ 1.15]\n",
      " [ 1.15]\n",
      " [ 1.15]\n",
      " [ 1.15]\n",
      " [ 1.11]\n",
      " [ 1.1 ]\n",
      " [ 1.1 ]\n",
      " [ 1.1 ]\n",
      " [ 1.05]\n",
      " [ 1.05]\n",
      " [ 1.05]\n",
      " [ 1.05]\n",
      " [ 1.  ]\n",
      " [ 0.95]\n",
      " [ 0.9 ]\n",
      " [ 0.9 ]\n",
      " [ 0.75]\n",
      " [ 0.8 ]\n",
      " [ 0.78]\n",
      " [ 0.75]\n",
      " [ 0.75]\n",
      " [ 0.75]\n",
      " [ 0.72]\n",
      " [ 0.65]\n",
      " [ 0.65]\n",
      " [ 0.65]\n",
      " [ 0.65]\n",
      " [ 0.6 ]\n",
      " [ 0.6 ]\n",
      " [ 0.6 ]\n",
      " [ 0.6 ]\n",
      " [ 0.6 ]\n",
      " [ 0.6 ]\n",
      " [ 0.6 ]\n",
      " [ 0.6 ]\n",
      " [ 0.55]\n",
      " [ 0.55]\n",
      " [ 0.52]\n",
      " [ 0.51]\n",
      " [ 0.5 ]\n",
      " [ 0.5 ]\n",
      " [ 0.5 ]\n",
      " [ 0.5 ]\n",
      " [ 0.5 ]\n",
      " [ 0.48]\n",
      " [ 0.48]\n",
      " [ 0.48]\n",
      " [ 0.48]\n",
      " [ 0.45]\n",
      " [ 0.45]\n",
      " [ 0.45]\n",
      " [ 0.45]\n",
      " [ 0.45]\n",
      " [ 0.45]\n",
      " [ 0.45]\n",
      " [ 0.45]\n",
      " [ 0.42]\n",
      " [ 0.42]\n",
      " [ 0.4 ]\n",
      " [ 0.4 ]\n",
      " [ 0.4 ]\n",
      " [ 0.4 ]\n",
      " [ 0.4 ]\n",
      " [ 0.38]\n",
      " [ 0.38]\n",
      " [ 0.35]\n",
      " [ 0.35]\n",
      " [ 0.35]\n",
      " [ 0.31]\n",
      " [ 0.3 ]\n",
      " [ 0.3 ]\n",
      " [ 0.3 ]\n",
      " [ 0.27]\n",
      " [ 0.25]\n",
      " [ 0.25]\n",
      " [ 0.25]\n",
      " [ 0.25]\n",
      " [ 0.25]\n",
      " [ 0.2 ]\n",
      " [ 0.2 ]\n",
      " [ 0.2 ]\n",
      " [ 0.2 ]\n",
      " [ 0.2 ]\n",
      " [ 0.2 ]\n",
      " [ 0.18]\n",
      " [ 0.17]\n",
      " [ 0.16]\n",
      " [ 0.15]\n",
      " [ 0.12]\n",
      " [ 0.1 ]\n",
      " [ 3.25]\n",
      " [ 4.4 ]\n",
      " [ 2.95]\n",
      " [ 2.75]\n",
      " [ 5.25]\n",
      " [ 5.75]\n",
      " [ 5.15]\n",
      " [ 7.9 ]\n",
      " [ 4.85]\n",
      " [ 3.1 ]\n",
      " [11.75]\n",
      " [11.25]\n",
      " [ 2.9 ]\n",
      " [ 5.25]\n",
      " [ 4.5 ]\n",
      " [ 2.9 ]\n",
      " [ 3.15]\n",
      " [ 6.45]\n",
      " [ 4.5 ]\n",
      " [ 3.5 ]\n",
      " [ 4.5 ]\n",
      " [ 6.  ]\n",
      " [ 8.25]\n",
      " [ 5.11]\n",
      " [ 2.7 ]\n",
      " [ 5.25]\n",
      " [ 2.55]\n",
      " [ 4.95]\n",
      " [ 3.1 ]\n",
      " [ 6.15]\n",
      " [ 9.25]\n",
      " [11.45]\n",
      " [ 3.9 ]\n",
      " [ 5.5 ]\n",
      " [ 9.1 ]\n",
      " [ 3.1 ]\n",
      " [11.25]\n",
      " [ 4.8 ]\n",
      " [ 2.  ]\n",
      " [ 5.35]\n",
      " [ 4.75]\n",
      " [ 4.4 ]\n",
      " [ 6.25]\n",
      " [ 5.95]\n",
      " [ 5.2 ]\n",
      " [ 3.75]\n",
      " [ 5.95]\n",
      " [ 4.  ]\n",
      " [ 5.25]\n",
      " [12.9 ]\n",
      " [ 5.  ]\n",
      " [ 5.4 ]\n",
      " [ 7.2 ]\n",
      " [ 5.25]\n",
      " [ 3.  ]\n",
      " [10.25]\n",
      " [ 8.5 ]\n",
      " [ 8.4 ]\n",
      " [ 3.9 ]\n",
      " [ 9.15]\n",
      " [ 5.5 ]\n",
      " [ 4.  ]\n",
      " [ 6.6 ]\n",
      " [ 4.  ]\n",
      " [ 6.5 ]\n",
      " [ 3.65]\n",
      " [ 8.35]\n",
      " [ 4.8 ]\n",
      " [ 6.7 ]\n",
      " [ 4.1 ]\n",
      " [ 3.  ]\n",
      " [ 7.5 ]\n",
      " [ 2.25]\n",
      " [ 5.3 ]\n",
      " [10.9 ]\n",
      " [ 8.65]\n",
      " [ 9.7 ]\n",
      " [ 6.  ]\n",
      " [ 6.25]\n",
      " [ 5.25]\n",
      " [ 2.1 ]\n",
      " [ 8.25]\n",
      " [ 8.99]\n",
      " [ 3.5 ]\n",
      " [ 7.4 ]\n",
      " [ 5.65]\n",
      " [ 5.75]\n",
      " [ 8.4 ]\n",
      " [10.11]\n",
      " [ 4.5 ]\n",
      " [ 5.4 ]\n",
      " [ 6.4 ]\n",
      " [ 3.25]\n",
      " [ 3.75]\n",
      " [ 8.55]\n",
      " [ 9.5 ]\n",
      " [ 4.  ]\n",
      " [ 3.35]\n",
      " [11.5 ]\n",
      " [ 5.3 ]]\n"
     ]
    }
   ],
   "source": [
    " print(y)"
   ]
  },
  {
   "cell_type": "code",
   "execution_count": 43,
   "id": "d0a9dde6",
   "metadata": {},
   "outputs": [
    {
     "name": "stdout",
     "output_type": "stream",
     "text": [
      "(301, 8) (301, 1)\n"
     ]
    }
   ],
   "source": [
    "print(X.shape, y.shape)"
   ]
  },
  {
   "cell_type": "code",
   "execution_count": 44,
   "id": "50a3200e",
   "metadata": {},
   "outputs": [],
   "source": [
    "from sklearn.model_selection import train_test_split\n",
    "X_train, X_test, y_train, y_test = train_test_split(X,y,test_size=0.2, random_state=1)"
   ]
  },
  {
   "cell_type": "markdown",
   "id": "36f36ea0",
   "metadata": {},
   "source": [
    "## Scaling "
   ]
  },
  {
   "cell_type": "code",
   "execution_count": 45,
   "id": "df5dfd61",
   "metadata": {},
   "outputs": [],
   "source": [
    "from sklearn.preprocessing import StandardScaler\n",
    "sc = StandardScaler()\n",
    "X_train = sc.fit_transform(X_train)\n",
    "X_test = sc.transform(X_test)"
   ]
  },
  {
   "cell_type": "code",
   "execution_count": 46,
   "id": "0de82783",
   "metadata": {},
   "outputs": [
    {
     "name": "stdout",
     "output_type": "stream",
     "text": [
      "(301, 8) (240, 8) (61, 8)\n"
     ]
    }
   ],
   "source": [
    "print(X.shape, X_train.shape, X_test.shape)"
   ]
  },
  {
   "cell_type": "code",
   "execution_count": 47,
   "id": "327e983b",
   "metadata": {},
   "outputs": [
    {
     "name": "stdout",
     "output_type": "stream",
     "text": [
      "(301, 1) (240, 1) (61, 1)\n"
     ]
    }
   ],
   "source": [
    "print(y.shape, y_train.shape, y_test.shape)"
   ]
  },
  {
   "cell_type": "markdown",
   "id": "29e31b66",
   "metadata": {},
   "source": [
    "## Building the model"
   ]
  },
  {
   "cell_type": "code",
   "execution_count": 48,
   "id": "bc1a4d34",
   "metadata": {},
   "outputs": [],
   "source": [
    "from tensorflow.keras.models import Sequential\n",
    "from tensorflow.keras.layers import Dense\n",
    "model = Sequential()\n",
    "model.add(Dense(30, activation='relu'))\n",
    "model.add(Dense(10, activation='relu'))\n",
    "model.add(Dense(1)) # O/P\n",
    "\n",
    "model.compile(optimizer='rmsprop', loss='mse')"
   ]
  },
  {
   "cell_type": "code",
   "execution_count": 49,
   "id": "7cf7423b",
   "metadata": {},
   "outputs": [
    {
     "name": "stdout",
     "output_type": "stream",
     "text": [
      "Epoch 1/100\n",
      "8/8 [==============================] - 2s 53ms/step - loss: 48.1964 - val_loss: 39.1428\n",
      "Epoch 2/100\n",
      "8/8 [==============================] - 0s 10ms/step - loss: 44.4257 - val_loss: 35.8076\n",
      "Epoch 3/100\n",
      "8/8 [==============================] - 0s 12ms/step - loss: 41.3249 - val_loss: 33.1773\n",
      "Epoch 4/100\n",
      "8/8 [==============================] - 0s 12ms/step - loss: 38.7833 - val_loss: 30.9731\n",
      "Epoch 5/100\n",
      "8/8 [==============================] - 0s 13ms/step - loss: 36.5095 - val_loss: 28.8838\n",
      "Epoch 6/100\n",
      "8/8 [==============================] - 0s 12ms/step - loss: 34.2190 - val_loss: 26.5996\n",
      "Epoch 7/100\n",
      "8/8 [==============================] - 0s 13ms/step - loss: 31.8057 - val_loss: 24.4827\n",
      "Epoch 8/100\n",
      "8/8 [==============================] - 0s 12ms/step - loss: 29.5102 - val_loss: 22.0402\n",
      "Epoch 9/100\n",
      "8/8 [==============================] - 0s 11ms/step - loss: 27.1137 - val_loss: 19.8481\n",
      "Epoch 10/100\n",
      "8/8 [==============================] - 0s 14ms/step - loss: 24.8975 - val_loss: 17.7857\n",
      "Epoch 11/100\n",
      "8/8 [==============================] - 0s 13ms/step - loss: 22.7429 - val_loss: 15.8891\n",
      "Epoch 12/100\n",
      "8/8 [==============================] - 0s 12ms/step - loss: 20.7110 - val_loss: 14.0606\n",
      "Epoch 13/100\n",
      "8/8 [==============================] - 0s 13ms/step - loss: 18.6544 - val_loss: 12.0072\n",
      "Epoch 14/100\n",
      "8/8 [==============================] - 0s 11ms/step - loss: 16.4798 - val_loss: 10.1612\n",
      "Epoch 15/100\n",
      "8/8 [==============================] - 0s 12ms/step - loss: 14.6021 - val_loss: 8.7118\n",
      "Epoch 16/100\n",
      "8/8 [==============================] - 0s 12ms/step - loss: 13.0561 - val_loss: 7.4353\n",
      "Epoch 17/100\n",
      "8/8 [==============================] - 0s 12ms/step - loss: 11.5623 - val_loss: 6.2880\n",
      "Epoch 18/100\n",
      "8/8 [==============================] - 0s 12ms/step - loss: 10.1520 - val_loss: 5.1842\n",
      "Epoch 19/100\n",
      "8/8 [==============================] - 0s 12ms/step - loss: 8.8962 - val_loss: 4.4628\n",
      "Epoch 20/100\n",
      "8/8 [==============================] - 0s 12ms/step - loss: 7.9253 - val_loss: 3.9175\n",
      "Epoch 21/100\n",
      "8/8 [==============================] - 0s 13ms/step - loss: 7.1019 - val_loss: 3.4563\n",
      "Epoch 22/100\n",
      "8/8 [==============================] - 0s 12ms/step - loss: 6.3397 - val_loss: 3.0852\n",
      "Epoch 23/100\n",
      "8/8 [==============================] - 0s 11ms/step - loss: 5.6820 - val_loss: 2.7918\n",
      "Epoch 24/100\n",
      "8/8 [==============================] - 0s 17ms/step - loss: 5.1009 - val_loss: 2.6073\n",
      "Epoch 25/100\n",
      "8/8 [==============================] - 0s 12ms/step - loss: 4.5723 - val_loss: 2.5197\n",
      "Epoch 26/100\n",
      "8/8 [==============================] - 0s 12ms/step - loss: 4.1335 - val_loss: 2.3013\n",
      "Epoch 27/100\n",
      "8/8 [==============================] - 0s 12ms/step - loss: 3.7855 - val_loss: 2.2455\n",
      "Epoch 28/100\n",
      "8/8 [==============================] - 0s 13ms/step - loss: 3.4226 - val_loss: 2.0969\n",
      "Epoch 29/100\n",
      "8/8 [==============================] - 0s 13ms/step - loss: 3.1833 - val_loss: 2.0770\n",
      "Epoch 30/100\n",
      "8/8 [==============================] - 0s 12ms/step - loss: 2.8777 - val_loss: 2.0442\n",
      "Epoch 31/100\n",
      "8/8 [==============================] - 0s 12ms/step - loss: 2.6587 - val_loss: 1.9665\n",
      "Epoch 32/100\n",
      "8/8 [==============================] - 0s 11ms/step - loss: 2.4529 - val_loss: 1.8498\n",
      "Epoch 33/100\n",
      "8/8 [==============================] - 0s 12ms/step - loss: 2.2560 - val_loss: 1.7607\n",
      "Epoch 34/100\n",
      "8/8 [==============================] - 0s 11ms/step - loss: 2.0732 - val_loss: 1.7484\n",
      "Epoch 35/100\n",
      "8/8 [==============================] - 0s 13ms/step - loss: 1.9314 - val_loss: 1.7050\n",
      "Epoch 36/100\n",
      "8/8 [==============================] - 0s 11ms/step - loss: 1.7767 - val_loss: 1.6227\n",
      "Epoch 37/100\n",
      "8/8 [==============================] - 0s 12ms/step - loss: 1.6178 - val_loss: 1.6490\n",
      "Epoch 38/100\n",
      "8/8 [==============================] - 0s 15ms/step - loss: 1.4827 - val_loss: 1.7397\n",
      "Epoch 39/100\n",
      "8/8 [==============================] - 0s 14ms/step - loss: 1.3889 - val_loss: 1.6795\n",
      "Epoch 40/100\n",
      "8/8 [==============================] - 0s 14ms/step - loss: 1.2749 - val_loss: 1.5185\n",
      "Epoch 41/100\n",
      "8/8 [==============================] - 0s 13ms/step - loss: 1.2146 - val_loss: 1.6125\n",
      "Epoch 42/100\n",
      "8/8 [==============================] - 0s 13ms/step - loss: 1.1280 - val_loss: 1.5721\n",
      "Epoch 43/100\n",
      "8/8 [==============================] - 0s 13ms/step - loss: 1.0795 - val_loss: 1.6490\n",
      "Epoch 44/100\n",
      "8/8 [==============================] - 0s 13ms/step - loss: 1.0094 - val_loss: 1.4297\n",
      "Epoch 45/100\n",
      "8/8 [==============================] - 0s 14ms/step - loss: 0.9587 - val_loss: 1.7300\n",
      "Epoch 46/100\n",
      "8/8 [==============================] - 0s 12ms/step - loss: 0.9634 - val_loss: 1.4430\n",
      "Epoch 47/100\n",
      "8/8 [==============================] - 0s 12ms/step - loss: 0.9116 - val_loss: 1.4537\n",
      "Epoch 48/100\n",
      "8/8 [==============================] - 0s 12ms/step - loss: 0.8781 - val_loss: 1.4566\n",
      "Epoch 49/100\n",
      "8/8 [==============================] - 0s 12ms/step - loss: 0.8523 - val_loss: 1.3479\n",
      "Epoch 50/100\n",
      "8/8 [==============================] - 0s 12ms/step - loss: 0.8380 - val_loss: 1.5055\n",
      "Epoch 51/100\n",
      "8/8 [==============================] - 0s 12ms/step - loss: 0.8339 - val_loss: 1.3819\n",
      "Epoch 52/100\n",
      "8/8 [==============================] - 0s 12ms/step - loss: 0.7867 - val_loss: 1.3692\n",
      "Epoch 53/100\n",
      "8/8 [==============================] - 0s 11ms/step - loss: 0.7579 - val_loss: 1.4674\n",
      "Epoch 54/100\n",
      "8/8 [==============================] - 0s 12ms/step - loss: 0.7552 - val_loss: 1.4489\n",
      "Epoch 55/100\n",
      "8/8 [==============================] - 0s 11ms/step - loss: 0.7370 - val_loss: 1.5159\n",
      "Epoch 56/100\n",
      "8/8 [==============================] - 0s 11ms/step - loss: 0.7246 - val_loss: 1.5654\n",
      "Epoch 57/100\n",
      "8/8 [==============================] - 0s 12ms/step - loss: 0.7225 - val_loss: 1.5177\n",
      "Epoch 58/100\n",
      "8/8 [==============================] - 0s 11ms/step - loss: 0.6884 - val_loss: 1.3959\n",
      "Epoch 59/100\n",
      "8/8 [==============================] - 0s 12ms/step - loss: 0.6784 - val_loss: 1.4985\n",
      "Epoch 60/100\n",
      "8/8 [==============================] - 0s 12ms/step - loss: 0.6719 - val_loss: 1.6299\n",
      "Epoch 61/100\n",
      "8/8 [==============================] - 0s 13ms/step - loss: 0.6871 - val_loss: 1.6896\n",
      "Epoch 62/100\n",
      "8/8 [==============================] - 0s 11ms/step - loss: 0.6489 - val_loss: 1.5325\n",
      "Epoch 63/100\n",
      "8/8 [==============================] - 0s 12ms/step - loss: 0.6336 - val_loss: 1.5996\n",
      "Epoch 64/100\n",
      "8/8 [==============================] - 0s 12ms/step - loss: 0.6278 - val_loss: 1.6048\n",
      "Epoch 65/100\n",
      "8/8 [==============================] - 0s 12ms/step - loss: 0.6127 - val_loss: 1.4834\n",
      "Epoch 66/100\n",
      "8/8 [==============================] - 0s 11ms/step - loss: 0.5962 - val_loss: 1.5281\n",
      "Epoch 67/100\n",
      "8/8 [==============================] - 0s 11ms/step - loss: 0.6057 - val_loss: 1.4069\n",
      "Epoch 68/100\n",
      "8/8 [==============================] - 0s 11ms/step - loss: 0.5729 - val_loss: 1.6637\n",
      "Epoch 69/100\n",
      "8/8 [==============================] - 0s 11ms/step - loss: 0.5933 - val_loss: 1.6968\n",
      "Epoch 70/100\n",
      "8/8 [==============================] - 0s 11ms/step - loss: 0.5775 - val_loss: 1.5313\n",
      "Epoch 71/100\n",
      "8/8 [==============================] - 0s 12ms/step - loss: 0.5696 - val_loss: 1.7117\n",
      "Epoch 72/100\n",
      "8/8 [==============================] - 0s 11ms/step - loss: 0.5546 - val_loss: 1.5455\n",
      "Epoch 73/100\n",
      "8/8 [==============================] - 0s 12ms/step - loss: 0.5467 - val_loss: 1.5323\n",
      "Epoch 74/100\n",
      "8/8 [==============================] - 0s 11ms/step - loss: 0.5400 - val_loss: 1.5225\n",
      "Epoch 75/100\n",
      "8/8 [==============================] - 0s 11ms/step - loss: 0.5427 - val_loss: 1.5428\n",
      "Epoch 76/100\n",
      "8/8 [==============================] - 0s 11ms/step - loss: 0.5282 - val_loss: 1.5227\n",
      "Epoch 77/100\n",
      "8/8 [==============================] - 0s 12ms/step - loss: 0.5296 - val_loss: 1.6699\n",
      "Epoch 78/100\n",
      "8/8 [==============================] - 0s 12ms/step - loss: 0.5166 - val_loss: 1.5632\n",
      "Epoch 79/100\n",
      "8/8 [==============================] - 0s 11ms/step - loss: 0.5313 - val_loss: 1.5838\n",
      "Epoch 80/100\n",
      "8/8 [==============================] - 0s 12ms/step - loss: 0.5137 - val_loss: 1.5711\n",
      "Epoch 81/100\n",
      "8/8 [==============================] - 0s 12ms/step - loss: 0.5042 - val_loss: 1.5200\n",
      "Epoch 82/100\n",
      "8/8 [==============================] - 0s 10ms/step - loss: 0.4946 - val_loss: 1.6092\n",
      "Epoch 83/100\n",
      "8/8 [==============================] - 0s 12ms/step - loss: 0.4967 - val_loss: 1.6319\n",
      "Epoch 84/100\n",
      "8/8 [==============================] - 0s 11ms/step - loss: 0.4885 - val_loss: 1.7767\n",
      "Epoch 85/100\n",
      "8/8 [==============================] - 0s 11ms/step - loss: 0.4982 - val_loss: 1.5933\n",
      "Epoch 86/100\n",
      "8/8 [==============================] - 0s 11ms/step - loss: 0.4760 - val_loss: 1.6002\n",
      "Epoch 87/100\n",
      "8/8 [==============================] - 0s 12ms/step - loss: 0.4812 - val_loss: 1.6528\n",
      "Epoch 88/100\n",
      "8/8 [==============================] - 0s 13ms/step - loss: 0.4726 - val_loss: 1.7021\n",
      "Epoch 89/100\n",
      "8/8 [==============================] - 0s 13ms/step - loss: 0.4798 - val_loss: 1.5852\n",
      "Epoch 90/100\n",
      "8/8 [==============================] - 0s 12ms/step - loss: 0.4825 - val_loss: 1.7231\n",
      "Epoch 91/100\n",
      "8/8 [==============================] - 0s 12ms/step - loss: 0.4654 - val_loss: 1.6669\n",
      "Epoch 92/100\n",
      "8/8 [==============================] - 0s 12ms/step - loss: 0.4481 - val_loss: 1.9324\n",
      "Epoch 93/100\n",
      "8/8 [==============================] - 0s 11ms/step - loss: 0.4699 - val_loss: 1.7451\n",
      "Epoch 94/100\n",
      "8/8 [==============================] - 0s 13ms/step - loss: 0.4593 - val_loss: 1.7257\n",
      "Epoch 95/100\n",
      "8/8 [==============================] - 0s 16ms/step - loss: 0.4604 - val_loss: 1.7511\n",
      "Epoch 96/100\n",
      "8/8 [==============================] - 0s 11ms/step - loss: 0.4402 - val_loss: 1.7452\n",
      "Epoch 97/100\n",
      "8/8 [==============================] - 0s 13ms/step - loss: 0.4581 - val_loss: 1.9251\n",
      "Epoch 98/100\n",
      "8/8 [==============================] - 0s 14ms/step - loss: 0.4434 - val_loss: 1.6743\n",
      "Epoch 99/100\n",
      "8/8 [==============================] - 0s 15ms/step - loss: 0.4398 - val_loss: 1.7576\n",
      "Epoch 100/100\n",
      "8/8 [==============================] - 0s 14ms/step - loss: 0.4395 - val_loss: 1.9073\n"
     ]
    },
    {
     "data": {
      "text/plain": [
       "<keras.callbacks.History at 0x13577656d00>"
      ]
     },
     "execution_count": 49,
     "metadata": {},
     "output_type": "execute_result"
    }
   ],
   "source": [
    "model.fit(X_train, y_train, epochs=100, validation_data=(X_test,y_test))"
   ]
  },
  {
   "cell_type": "code",
   "execution_count": 50,
   "id": "4dff97c8",
   "metadata": {},
   "outputs": [
    {
     "name": "stdout",
     "output_type": "stream",
     "text": [
      "Model: \"sequential\"\n",
      "_________________________________________________________________\n",
      " Layer (type)                Output Shape              Param #   \n",
      "=================================================================\n",
      " dense (Dense)               (None, 30)                270       \n",
      "                                                                 \n",
      " dense_1 (Dense)             (None, 10)                310       \n",
      "                                                                 \n",
      " dense_2 (Dense)             (None, 1)                 11        \n",
      "                                                                 \n",
      "=================================================================\n",
      "Total params: 591\n",
      "Trainable params: 591\n",
      "Non-trainable params: 0\n",
      "_________________________________________________________________\n"
     ]
    }
   ],
   "source": [
    "model.summary()"
   ]
  },
  {
   "cell_type": "code",
   "execution_count": 51,
   "id": "92adbdf3",
   "metadata": {},
   "outputs": [],
   "source": [
    "loss_df = pd.DataFrame(model.history.history)"
   ]
  },
  {
   "cell_type": "code",
   "execution_count": 52,
   "id": "101a6c92",
   "metadata": {},
   "outputs": [
    {
     "data": {
      "text/plain": [
       "<AxesSubplot:>"
      ]
     },
     "execution_count": 52,
     "metadata": {},
     "output_type": "execute_result"
    },
    {
     "data": {
      "image/png": "[encoded data removed]",
      "text/plain": [
       "<Figure size 576x396 with 1 Axes>"
      ]
     },
     "metadata": {},
     "output_type": "display_data"
    }
   ],
   "source": [
    "loss_df.plot()"
   ]
  },
  {
   "cell_type": "markdown",
   "id": "067bfa0a",
   "metadata": {},
   "source": [
    "## Model Evaluation"
   ]
  },
  {
   "cell_type": "code",
   "execution_count": 53,
   "id": "432fb246",
   "metadata": {},
   "outputs": [
    {
     "name": "stdout",
     "output_type": "stream",
     "text": [
      "2/2 [==============================] - 0s 6ms/step - loss: 1.9073\n"
     ]
    },
    {
     "data": {
      "text/plain": [
       "1.9072693586349487"
      ]
     },
     "execution_count": 53,
     "metadata": {},
     "output_type": "execute_result"
    }
   ],
   "source": [
    "model.evaluate(X_test, y_test)"
   ]
  },
  {
   "cell_type": "code",
   "execution_count": 56,
   "id": "d48be865",
   "metadata": {},
   "outputs": [
    {
     "name": "stdout",
     "output_type": "stream",
     "text": [
      "8/8 [==============================] - 0s 3ms/step\n"
     ]
    }
   ],
   "source": [
    "train_pred = model.predict(X_train)\n",
    "#print(pred_train)"
   ]
  },
  {
   "cell_type": "code",
   "execution_count": 57,
   "id": "33712dd3",
   "metadata": {},
   "outputs": [
    {
     "name": "stdout",
     "output_type": "stream",
     "text": [
      "2/2 [==============================] - 0s 9ms/step\n"
     ]
    }
   ],
   "source": [
    "test_pred = model.predict(X_test)"
   ]
  },
  {
   "cell_type": "code",
   "execution_count": 58,
   "id": "1cfcf5ef",
   "metadata": {},
   "outputs": [],
   "source": [
    "from sklearn.metrics import r2_score"
   ]
  },
  {
   "cell_type": "markdown",
   "id": "140d6f52",
   "metadata": {},
   "source": [
    "# R Squared : R-squared measures the strength of the relationship between your model and the dependent variable on a convenient 0 – 100% scale."
   ]
  },
  {
   "cell_type": "code",
   "execution_count": 61,
   "id": "adec585d",
   "metadata": {},
   "outputs": [
    {
     "name": "stdout",
     "output_type": "stream",
     "text": [
      "R Squared value of train dataL:  0.9842568285370855\n"
     ]
    }
   ],
   "source": [
    "r2_train = r2_score(y_train, train_pred)\n",
    "print(\"R Squared value of train dataL: \",r2_train)"
   ]
  },
  {
   "cell_type": "code",
   "execution_count": 62,
   "id": "75fd68c2",
   "metadata": {},
   "outputs": [
    {
     "name": "stdout",
     "output_type": "stream",
     "text": [
      "R Squared value of test data: 0.9120838259496646\n"
     ]
    }
   ],
   "source": [
    "r2_test = r2_score(y_test, test_pred)\n",
    "print(\"R Squared value of test data:\", r2_test)"
   ]
  },
  {
   "cell_type": "code",
   "execution_count": 64,
   "id": "246de66f",
   "metadata": {},
   "outputs": [
    {
     "name": "stdout",
     "output_type": "stream",
     "text": [
      "Difference between two scores:  0.07\n"
     ]
    }
   ],
   "source": [
    "diff_r2_scores = r2_train - r2_test\n",
    "print(\"Difference between two scores: \", diff_r2_scores.round(2))"
   ]
  },
  {
   "cell_type": "code",
   "execution_count": null,
   "id": "7d10e7c9",
   "metadata": {},
   "outputs": [],
   "source": []
  }
 ],
 "metadata": {
  "kernelspec": {
   "display_name": "Python 3 (ipykernel)",
   "language": "python",
   "name": "python3"
  },
  "language_info": {
   "codemirror_mode": {
    "name": "ipython",
    "version": 3
   },
   "file_extension": ".py",
   "mimetype": "text/x-python",
   "name": "python",
   "nbconvert_exporter": "python",
   "pygments_lexer": "ipython3",
   "version": "3.9.7"
  }
 },
 "nbformat": 4,
 "nbformat_minor": 5
}
