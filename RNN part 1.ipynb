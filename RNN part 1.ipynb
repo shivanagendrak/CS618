{
 "cells": [
  {
   "cell_type": "code",
   "execution_count": 38,
   "id": "364e2864",
   "metadata": {},
   "outputs": [],
   "source": [
    "from IPython.display import Image\n",
    "%matplotlib inline"
   ]
  },
  {
   "cell_type": "code",
   "execution_count": 39,
   "id": "4a0a3a41",
   "metadata": {},
   "outputs": [],
   "source": [
    "from tensorflow_datasets.core.deprecated.text.subword_text_encoder import SubwordTextEncoder\n",
    "from tensorflow_datasets.core.deprecated.text.text_encoder import ByteTextEncoder\n",
    "from tensorflow_datasets.core.deprecated.text.text_encoder import TextEncoder\n",
    "from tensorflow_datasets.core.deprecated.text.text_encoder import TextEncoderConfig\n",
    "from tensorflow_datasets.core.deprecated.text.text_encoder import Tokenizer\n",
    "from tensorflow_datasets.core.deprecated.text.text_encoder import TokenTextEncoder\n"
   ]
  },
  {
   "cell_type": "code",
   "execution_count": 40,
   "id": "911c536b",
   "metadata": {},
   "outputs": [],
   "source": [
    "import tensorflow_datasets.core.deprecated.text"
   ]
  },
  {
   "cell_type": "code",
   "execution_count": 41,
   "id": "7cccf135",
   "metadata": {},
   "outputs": [],
   "source": [
    "import tensorflow_datasets as tfds"
   ]
  },
  {
   "cell_type": "code",
   "execution_count": 42,
   "id": "4894f2ff",
   "metadata": {},
   "outputs": [
    {
     "name": "stdout",
     "output_type": "stream",
     "text": [
      "W_xh shape: (5, 2)\n",
      "W_oo shape: (2, 2)\n",
      "b_h shape: (2,)\n"
     ]
    }
   ],
   "source": [
    "import tensorflow as tf\n",
    "tf.random.set_seed(1)\n",
    "\n",
    "rnn_layer = tf.keras.layers.SimpleRNN(\n",
    "    units=2, use_bias=True, \n",
    "    return_sequences=True)\n",
    "rnn_layer.build(input_shape=(None, None, 5))\n",
    "\n",
    "w_xh, w_oo, b_h = rnn_layer.weights\n",
    "\n",
    "print('W_xh shape:', w_xh.shape)\n",
    "print('W_oo shape:', w_oo.shape)\n",
    "print('b_h shape:', b_h.shape)"
   ]
  },
  {
   "cell_type": "code",
   "execution_count": 43,
   "id": "f234f30d",
   "metadata": {},
   "outputs": [
    {
     "name": "stdout",
     "output_type": "stream",
     "text": [
      "Time step 0 =>\n",
      "   Input           : [[1. 1. 1. 1. 1.]]\n",
      "   Hidden          : [[ 1.1342226 -1.3992448]]\n",
      "   Output (manual) : [[ 0.81245947 -0.8851882 ]]\n",
      "   SimpleRNN output: [ 0.81245947 -0.8851882 ]\n",
      "\n",
      "Time step 1 =>\n",
      "   Input           : [[2. 2. 2. 2. 2.]]\n",
      "   Hidden          : [[ 2.2684453 -2.7984896]]\n",
      "   Output (manual) : [[ 0.9792591 -0.9212185]]\n",
      "   SimpleRNN output: [ 0.9792591 -0.9212185]\n",
      "\n",
      "Time step 2 =>\n",
      "   Input           : [[3. 3. 3. 3. 3.]]\n",
      "   Hidden          : [[ 3.402668 -4.197734]]\n",
      "   Output (manual) : [[ 0.99736917 -0.99341047]]\n",
      "   SimpleRNN output: [ 0.99736917 -0.99341047]\n",
      "\n"
     ]
    }
   ],
   "source": [
    "x_seq = tf.convert_to_tensor(\n",
    "    [[1.0]*5, [2.0]*5, [3.0]*5],\n",
    "    dtype=tf.float32)\n",
    "\n",
    "\n",
    "## output of SimepleRNN:\n",
    "output = rnn_layer(tf.reshape(x_seq, shape=(1, 3, 5)))\n",
    "\n",
    "## manually computing the output:\n",
    "out_man = []\n",
    "for t in range(len(x_seq)):\n",
    "    xt = tf.reshape(x_seq[t], (1, 5))\n",
    "    print('Time step {} =>'.format(t))\n",
    "    print('   Input           :', xt.numpy())\n",
    "    \n",
    "    ht = tf.matmul(xt, w_xh) + b_h    \n",
    "    print('   Hidden          :', ht.numpy())\n",
    "    \n",
    "    if t>0:\n",
    "        prev_o = out_man[t-1]\n",
    "    else:\n",
    "        prev_o = tf.zeros(shape=(ht.shape))\n",
    "        \n",
    "    ot = ht + tf.matmul(prev_o, w_oo)\n",
    "    ot = tf.math.tanh(ot)\n",
    "    out_man.append(ot)\n",
    "    print('   Output (manual) :', ot.numpy())\n",
    "    print('   SimpleRNN output:'.format(t), output[0][t].numpy())\n",
    "    print()"
   ]
  },
  {
   "cell_type": "markdown",
   "id": "368d6729",
   "metadata": {},
   "source": [
    "# Implementing RNNs for sequence modeling in TensorFlow\n",
    "## Project one: predicting the sentiment of IMDb movie reviews\n",
    "### Preparing the movie review data"
   ]
  },
  {
   "cell_type": "code",
   "execution_count": 44,
   "id": "25e896c0",
   "metadata": {},
   "outputs": [],
   "source": [
    "import tensorflow as tf\n",
    "import tensorflow_datasets as tfds\n",
    "import numpy as np\n",
    "import pandas as pd"
   ]
  },
  {
   "cell_type": "code",
   "execution_count": 45,
   "id": "72a42069",
   "metadata": {},
   "outputs": [
    {
     "data": {
      "text/html": [
       "<div>\n",
       "<style scoped>\n",
       "    .dataframe tbody tr th:only-of-type {\n",
       "        vertical-align: middle;\n",
       "    }\n",
       "\n",
       "    .dataframe tbody tr th {\n",
       "        vertical-align: top;\n",
       "    }\n",
       "\n",
       "    .dataframe thead th {\n",
       "        text-align: right;\n",
       "    }\n",
       "</style>\n",
       "<table border=\"1\" class=\"dataframe\">\n",
       "  <thead>\n",
       "    <tr style=\"text-align: right;\">\n",
       "      <th></th>\n",
       "      <th>review</th>\n",
       "      <th>sentiment</th>\n",
       "    </tr>\n",
       "  </thead>\n",
       "  <tbody>\n",
       "    <tr>\n",
       "      <th>49995</th>\n",
       "      <td>OK, lets start with the best. the building. al...</td>\n",
       "      <td>0</td>\n",
       "    </tr>\n",
       "    <tr>\n",
       "      <th>49996</th>\n",
       "      <td>The British 'heritage film' industry is out of...</td>\n",
       "      <td>0</td>\n",
       "    </tr>\n",
       "    <tr>\n",
       "      <th>49997</th>\n",
       "      <td>I don't even know where to begin on this one. ...</td>\n",
       "      <td>0</td>\n",
       "    </tr>\n",
       "    <tr>\n",
       "      <th>49998</th>\n",
       "      <td>Richard Tyler is a little boy who is scared of...</td>\n",
       "      <td>0</td>\n",
       "    </tr>\n",
       "    <tr>\n",
       "      <th>49999</th>\n",
       "      <td>I waited long to watch this movie. Also becaus...</td>\n",
       "      <td>1</td>\n",
       "    </tr>\n",
       "  </tbody>\n",
       "</table>\n",
       "</div>"
      ],
      "text/plain": [
       "                                                  review  sentiment\n",
       "49995  OK, lets start with the best. the building. al...          0\n",
       "49996  The British 'heritage film' industry is out of...          0\n",
       "49997  I don't even know where to begin on this one. ...          0\n",
       "49998  Richard Tyler is a little boy who is scared of...          0\n",
       "49999  I waited long to watch this movie. Also becaus...          1"
      ]
     },
     "execution_count": 45,
     "metadata": {},
     "output_type": "execute_result"
    }
   ],
   "source": [
    "df = pd.read_csv('C:/Mostafa/My work/Deep learning/Class codes/movie_data.csv', encoding='utf-8')\n",
    "\n",
    "df.tail()"
   ]
  },
  {
   "cell_type": "code",
   "execution_count": 46,
   "id": "bcd8c66f",
   "metadata": {},
   "outputs": [
    {
     "name": "stdout",
     "output_type": "stream",
     "text": [
      "b'In 1974, the teenager Martha Moxley (Maggie Grace)' 1\n",
      "b'OK... so... I really like Kris Kristofferson and h' 0\n",
      "b'***SPOILER*** Do not read this, if you think about' 0\n"
     ]
    }
   ],
   "source": [
    "# Step 1: Create a dataset\n",
    "\n",
    "target = df.pop('sentiment')\n",
    "\n",
    "ds_raw = tf.data.Dataset.from_tensor_slices(\n",
    "    (df.values, target.values))\n",
    "\n",
    "## inspection:\n",
    "for ex in ds_raw.take(3):\n",
    "    tf.print(ex[0].numpy()[0][:50], ex[1])"
   ]
  },
  {
   "cell_type": "markdown",
   "id": "008ff5d8",
   "metadata": {},
   "source": [
    "# Train/validaiton/test splits"
   ]
  },
  {
   "cell_type": "code",
   "execution_count": 47,
   "id": "4c80679b",
   "metadata": {},
   "outputs": [],
   "source": [
    "tf.random.set_seed(1)\n",
    "\n",
    "ds_raw = ds_raw.shuffle(\n",
    "    50000, reshuffle_each_iteration=False)\n",
    "\n",
    "ds_raw_test = ds_raw.take(25000)\n",
    "ds_raw_train_valid = ds_raw.skip(25000)\n",
    "ds_raw_train = ds_raw_train_valid.take(20000)\n",
    "ds_raw_valid = ds_raw_train_valid.skip(20000)"
   ]
  },
  {
   "cell_type": "markdown",
   "id": "aa573363",
   "metadata": {},
   "source": [
    "Tokenizer and Encoder\n",
    "tfds.features.text.Tokenizer: https://www.tensorflow.org/datasets/api_docs/python/tfds/features/text/Tokenizer\n",
    "tfds.features.text.TokenTextEncoder: https://www.tensorflow.org/datasets/api_docs/python/tfds/features/text/TokenTextEncoder"
   ]
  },
  {
   "cell_type": "markdown",
   "id": "625532c5",
   "metadata": {},
   "source": [
    "# Encoding sequences: keeping the last 100 items in each sequence"
   ]
  },
  {
   "cell_type": "code",
   "execution_count": 48,
   "id": "ab9d8326",
   "metadata": {},
   "outputs": [
    {
     "name": "stdout",
     "output_type": "stream",
     "text": [
      "Vocab-size: 87007\n"
     ]
    }
   ],
   "source": [
    "## Step 2: find unique tokens (words)\n",
    "\n",
    "from collections import Counter\n",
    "\n",
    "try:\n",
    "    tokenizer = tfds.features.text.Tokenizer()\n",
    "except AttributeError:\n",
    "    tokenizer = tfds.deprecated.text.Tokenizer()\n",
    "    \n",
    "token_counts = Counter()\n",
    "\n",
    "for example in ds_raw_train:\n",
    "    tokens = tokenizer.tokenize(example[0].numpy()[0])\n",
    "    token_counts.update(tokens)\n",
    "    \n",
    "print('Vocab-size:', len(token_counts))"
   ]
  },
  {
   "cell_type": "code",
   "execution_count": 49,
   "id": "a9e3e29c",
   "metadata": {},
   "outputs": [
    {
     "data": {
      "text/plain": [
       "[232, 9, 270, 1123]"
      ]
     },
     "execution_count": 49,
     "metadata": {},
     "output_type": "execute_result"
    }
   ],
   "source": [
    "## Step 3: encoding each unique token into integers\n",
    "\n",
    "try:\n",
    "    encoder = tfds.features.text.TokenTextEncoder(token_counts)\n",
    "except AttributeError:\n",
    "    encoder = tfds.deprecated.text.TokenTextEncoder(token_counts)\n",
    "\n",
    "example_str = 'This is an example!'\n",
    "encoder.encode(example_str)"
   ]
  },
  {
   "cell_type": "code",
   "execution_count": 50,
   "id": "45f5549f",
   "metadata": {},
   "outputs": [],
   "source": [
    "## Step 3-A: define the function for transformation\n",
    "\n",
    "def encode(text_tensor, label):\n",
    "    text = text_tensor.numpy()[0]\n",
    "    encoded_text = encoder.encode(text)\n",
    "    return encoded_text, label\n",
    "\n",
    "## Step 3-B: wrap the encode function to a TF Op.\n",
    "def encode_map_fn(text, label):\n",
    "    return tf.py_function(encode, inp=[text, label], \n",
    "                          Tout=(tf.int64, tf.int64))"
   ]
  },
  {
   "cell_type": "code",
   "execution_count": 51,
   "id": "238603c0",
   "metadata": {},
   "outputs": [
    {
     "name": "stdout",
     "output_type": "stream",
     "text": [
      "Sequence length: (24,)\n",
      "Sequence length: (179,)\n",
      "Sequence length: (262,)\n",
      "Sequence length: (535,)\n",
      "Sequence length: (130,)\n"
     ]
    },
    {
     "data": {
      "text/plain": [
       "(<tf.Tensor: shape=(130,), dtype=int64, numpy=\n",
       " array([  579,  1296,    32,   425,    40,   763,  9267,    65,   280,\n",
       "          308,     6,   481,   155,   473,     2,     3,   684,     9,\n",
       "          781,   176,   959,   730,  3917,    67,  9905,    13,   277,\n",
       "           24,    35,   371, 16368,     6,    14, 17231,    29,   187,\n",
       "         1651,   489,   503,   480,   143,    32,   270,  5851,  2402,\n",
       "           13,  3592,  3443,   425,  3313,   256,   257,  1577,   117,\n",
       "            8,   698,   270,   564,    56,     8,    42,  7517,  2629,\n",
       "          820,    25,    60,    79,   343,    32,   645,    14,   528,\n",
       "          241,    32,  1980,     8,    56,     8,    42,  1364,   573,\n",
       "         5183,    43,    12,  3870,    32,   312,   642,   251,  1401,\n",
       "        17232,     8,   698,   257,   750,     2,     9,    76,   235,\n",
       "            8,    42,   235,   840,   666,   258, 17233,   419,    32,\n",
       "        17234,   585,   420,   840,    25,    40,    13,    14,   198,\n",
       "          266,   623,   173,   179,  4103,   216,    25,   616, 14185,\n",
       "          186,    35, 16250,   120], dtype=int64)>,\n",
       " <tf.Tensor: shape=(), dtype=int64, numpy=0>)"
      ]
     },
     "execution_count": 51,
     "metadata": {},
     "output_type": "execute_result"
    }
   ],
   "source": [
    "ds_train = ds_raw_train.map(encode_map_fn)\n",
    "ds_valid = ds_raw_valid.map(encode_map_fn)\n",
    "ds_test = ds_raw_test.map(encode_map_fn)\n",
    "\n",
    "tf.random.set_seed(1)\n",
    "for example in ds_train.shuffle(1000).take(5):\n",
    "    print('Sequence length:', example[0].shape)\n",
    "    \n",
    "example"
   ]
  },
  {
   "cell_type": "code",
   "execution_count": 52,
   "id": "06ec7875",
   "metadata": {},
   "outputs": [
    {
     "name": "stdout",
     "output_type": "stream",
     "text": [
      "Individual size: (119,)\n",
      "Individual size: (688,)\n",
      "Individual size: (308,)\n",
      "Individual size: (204,)\n",
      "Individual size: (326,)\n",
      "Individual size: (240,)\n",
      "Individual size: (127,)\n",
      "Individual size: (453,)\n",
      "Batch dimension: (4, 688)\n",
      "Batch dimension: (4, 453)\n"
     ]
    }
   ],
   "source": [
    "## Take a small subset\n",
    "\n",
    "ds_subset = ds_train.take(8)\n",
    "for example in ds_subset:\n",
    "    print('Individual size:', example[0].shape)\n",
    "\n",
    "## batching the datasets\n",
    "ds_batched = ds_subset.padded_batch(\n",
    "    4, padded_shapes=([-1], []))\n",
    "\n",
    "for batch in ds_batched:\n",
    "    print('Batch dimension:', batch[0].shape)"
   ]
  },
  {
   "cell_type": "code",
   "execution_count": 53,
   "id": "fb5619ab",
   "metadata": {},
   "outputs": [],
   "source": [
    "## batching the datasets\n",
    "train_data = ds_train.padded_batch(\n",
    "    32, padded_shapes=([-1],[]))\n",
    "\n",
    "valid_data = ds_valid.padded_batch(\n",
    "    32, padded_shapes=([-1],[]))\n",
    "\n",
    "test_data = ds_test.padded_batch(\n",
    "    32, padded_shapes=([-1],[]))"
   ]
  },
  {
   "cell_type": "code",
   "execution_count": 54,
   "id": "1bb3627e",
   "metadata": {},
   "outputs": [
    {
     "name": "stdout",
     "output_type": "stream",
     "text": [
      "Model: \"sequential_4\"\n",
      "_________________________________________________________________\n",
      " Layer (type)                Output Shape              Param #   \n",
      "=================================================================\n",
      " embed-layer (Embedding)     (None, 20, 6)             600       \n",
      "                                                                 \n",
      "=================================================================\n",
      "Total params: 600\n",
      "Trainable params: 600\n",
      "Non-trainable params: 0\n",
      "_________________________________________________________________\n"
     ]
    }
   ],
   "source": [
    "from tensorflow.keras.layers import Embedding\n",
    "\n",
    "\n",
    "model = tf.keras.Sequential()\n",
    "\n",
    "model.add(Embedding(input_dim=100,\n",
    "                    output_dim=6,\n",
    "                    input_length=20,\n",
    "                    name='embed-layer'))\n",
    "\n",
    "model.summary()"
   ]
  },
  {
   "cell_type": "markdown",
   "id": "762f2262",
   "metadata": {},
   "source": [
    "# Building an RNN model\n",
    "### Keras RNN layers:\n",
    "\n",
    "##### tf.keras.layers.SimpleRNN(units, return_sequences=False)\n",
    "##### tf.keras.layers.LSTM(..)\n",
    "##### tf.keras.layers.GRU(..)\n",
    "##### tf.keras.layers.Bidirectional()\n",
    "##### Determine return_sequenes=?\n",
    "\n",
    "##### In a multi-layer RNN, all RNN layers except the last one should have return_sequenes=True\n",
    "##### For the last RNN layer, decide based on the type of problem:\n",
    "##### many-to-many: -> return_sequences=True\n",
    "##### many-to-one : -> return_sequenes=False"
   ]
  },
  {
   "cell_type": "code",
   "execution_count": 55,
   "id": "c18a0a92",
   "metadata": {},
   "outputs": [
    {
     "name": "stdout",
     "output_type": "stream",
     "text": [
      "Model: \"sequential_5\"\n",
      "_________________________________________________________________\n",
      " Layer (type)                Output Shape              Param #   \n",
      "=================================================================\n",
      " embedding_3 (Embedding)     (None, None, 32)          32000     \n",
      "                                                                 \n",
      " simple_rnn_4 (SimpleRNN)    (None, None, 32)          2080      \n",
      "                                                                 \n",
      " simple_rnn_5 (SimpleRNN)    (None, 32)                2080      \n",
      "                                                                 \n",
      " dense_3 (Dense)             (None, 1)                 33        \n",
      "                                                                 \n",
      "=================================================================\n",
      "Total params: 36,193\n",
      "Trainable params: 36,193\n",
      "Non-trainable params: 0\n",
      "_________________________________________________________________\n"
     ]
    }
   ],
   "source": [
    "## An example of building a RNN model\n",
    "## with SimpleRNN layer\n",
    "\n",
    "from tensorflow.keras import Sequential\n",
    "from tensorflow.keras.layers import Embedding\n",
    "from tensorflow.keras.layers import SimpleRNN\n",
    "from tensorflow.keras.layers import Dense\n",
    "\n",
    "model = Sequential()\n",
    "model.add(Embedding(1000, 32))\n",
    "model.add(SimpleRNN(32, return_sequences=True))\n",
    "model.add(SimpleRNN(32))\n",
    "model.add(Dense(1))\n",
    "model.summary()"
   ]
  },
  {
   "cell_type": "code",
   "execution_count": 56,
   "id": "879ef239",
   "metadata": {},
   "outputs": [
    {
     "name": "stdout",
     "output_type": "stream",
     "text": [
      "Model: \"sequential_6\"\n",
      "_________________________________________________________________\n",
      " Layer (type)                Output Shape              Param #   \n",
      "=================================================================\n",
      " embedding_4 (Embedding)     (None, None, 32)          320000    \n",
      "                                                                 \n",
      " lstm_2 (LSTM)               (None, None, 32)          8320      \n",
      "                                                                 \n",
      " lstm_3 (LSTM)               (None, 32)                8320      \n",
      "                                                                 \n",
      " dense_4 (Dense)             (None, 1)                 33        \n",
      "                                                                 \n",
      "=================================================================\n",
      "Total params: 336,673\n",
      "Trainable params: 336,673\n",
      "Non-trainable params: 0\n",
      "_________________________________________________________________\n"
     ]
    }
   ],
   "source": [
    "## An example of building a RNN model\n",
    "## with LSTM layer\n",
    "\n",
    "\n",
    "from tensorflow.keras.layers import LSTM\n",
    "\n",
    "\n",
    "model = Sequential()\n",
    "model.add(Embedding(10000, 32))\n",
    "model.add(LSTM(32, return_sequences=True))\n",
    "model.add(LSTM(32))\n",
    "model.add(Dense(1))\n",
    "model.summary()"
   ]
  },
  {
   "cell_type": "code",
   "execution_count": 57,
   "id": "9eff9e7d",
   "metadata": {},
   "outputs": [
    {
     "name": "stdout",
     "output_type": "stream",
     "text": [
      "Model: \"sequential_7\"\n",
      "_________________________________________________________________\n",
      " Layer (type)                Output Shape              Param #   \n",
      "=================================================================\n",
      " embedding_5 (Embedding)     (None, None, 32)          320000    \n",
      "                                                                 \n",
      " gru_2 (GRU)                 (None, None, 32)          6336      \n",
      "                                                                 \n",
      " gru_3 (GRU)                 (None, 32)                6336      \n",
      "                                                                 \n",
      " dense_5 (Dense)             (None, 1)                 33        \n",
      "                                                                 \n",
      "=================================================================\n",
      "Total params: 332,705\n",
      "Trainable params: 332,705\n",
      "Non-trainable params: 0\n",
      "_________________________________________________________________\n"
     ]
    }
   ],
   "source": [
    "## An example of building a RNN model\n",
    "## with GRU layer\n",
    "from tensorflow.keras.layers import GRU\n",
    "\n",
    "model = Sequential()\n",
    "model.add(Embedding(10000, 32))\n",
    "model.add(GRU(32, return_sequences=True))\n",
    "model.add(GRU(32))\n",
    "model.add(Dense(1))\n",
    "model.summary()"
   ]
  },
  {
   "cell_type": "markdown",
   "id": "a78cac99",
   "metadata": {},
   "source": [
    "# Building an RNN model for the sentiment analysis task"
   ]
  },
  {
   "cell_type": "code",
   "execution_count": 58,
   "id": "5f8a827c",
   "metadata": {},
   "outputs": [
    {
     "name": "stdout",
     "output_type": "stream",
     "text": [
      "Model: \"sequential_8\"\n",
      "_________________________________________________________________\n",
      " Layer (type)                Output Shape              Param #   \n",
      "=================================================================\n",
      " embed-layer (Embedding)     (None, None, 20)          1740180   \n",
      "                                                                 \n",
      " bidir-lstm (Bidirectional)  (None, 128)               43520     \n",
      "                                                                 \n",
      " dense_6 (Dense)             (None, 64)                8256      \n",
      "                                                                 \n",
      " dense_7 (Dense)             (None, 1)                 65        \n",
      "                                                                 \n",
      "=================================================================\n",
      "Total params: 1,792,021\n",
      "Trainable params: 1,792,021\n",
      "Non-trainable params: 0\n",
      "_________________________________________________________________\n",
      "Epoch 1/10\n",
      "625/625 [==============================] - 614s 969ms/step - loss: 0.5044 - accuracy: 0.7426 - val_loss: 0.4934 - val_accuracy: 0.8210\n",
      "Epoch 2/10\n",
      "625/625 [==============================] - 685s 1s/step - loss: 0.2456 - accuracy: 0.9083 - val_loss: 0.3789 - val_accuracy: 0.8438\n",
      "Epoch 3/10\n",
      "625/625 [==============================] - 719s 1s/step - loss: 0.1646 - accuracy: 0.9416 - val_loss: 0.4207 - val_accuracy: 0.8506\n",
      "Epoch 4/10\n",
      "625/625 [==============================] - 767s 1s/step - loss: 0.0852 - accuracy: 0.9720 - val_loss: 0.5399 - val_accuracy: 0.8540\n",
      "Epoch 5/10\n",
      "625/625 [==============================] - 801s 1s/step - loss: 0.0616 - accuracy: 0.9798 - val_loss: 0.6171 - val_accuracy: 0.8274\n",
      "Epoch 6/10\n",
      "625/625 [==============================] - 829s 1s/step - loss: 0.0457 - accuracy: 0.9854 - val_loss: 0.6192 - val_accuracy: 0.8296\n",
      "Epoch 7/10\n",
      "625/625 [==============================] - 788s 1s/step - loss: 0.0544 - accuracy: 0.9821 - val_loss: 0.5917 - val_accuracy: 0.8346\n",
      "Epoch 8/10\n",
      "625/625 [==============================] - 816s 1s/step - loss: 0.0434 - accuracy: 0.9876 - val_loss: 0.6988 - val_accuracy: 0.8232\n",
      "Epoch 9/10\n",
      "625/625 [==============================] - 819s 1s/step - loss: 0.0200 - accuracy: 0.9936 - val_loss: 0.8391 - val_accuracy: 0.8208\n",
      "Epoch 10/10\n",
      "625/625 [==============================] - 802s 1s/step - loss: 0.0301 - accuracy: 0.9913 - val_loss: 0.7316 - val_accuracy: 0.8398\n",
      "782/782 [==============================] - 334s 427ms/step - loss: 0.7192 - accuracy: 0.8424\n",
      "Test Acc.: 84.24%\n"
     ]
    }
   ],
   "source": [
    "embedding_dim = 20\n",
    "vocab_size = len(token_counts) + 2\n",
    "\n",
    "tf.random.set_seed(1)\n",
    "\n",
    "## build the model\n",
    "bi_lstm_model = tf.keras.Sequential([\n",
    "    tf.keras.layers.Embedding(\n",
    "        input_dim=vocab_size,\n",
    "        output_dim=embedding_dim,\n",
    "        name='embed-layer'),\n",
    "    \n",
    "    tf.keras.layers.Bidirectional(\n",
    "        tf.keras.layers.LSTM(64, name='lstm-layer'),\n",
    "        name='bidir-lstm'), \n",
    "\n",
    "    tf.keras.layers.Dense(64, activation='relu'),\n",
    "    \n",
    "    tf.keras.layers.Dense(1, activation='sigmoid')\n",
    "])\n",
    "\n",
    "bi_lstm_model.summary()\n",
    "\n",
    "## compile and train:\n",
    "bi_lstm_model.compile(\n",
    "    optimizer=tf.keras.optimizers.Adam(1e-3),\n",
    "    loss=tf.keras.losses.BinaryCrossentropy(from_logits=False),\n",
    "    metrics=['accuracy'])\n",
    "\n",
    "history = bi_lstm_model.fit(\n",
    "    train_data, \n",
    "    validation_data=valid_data, \n",
    "    epochs=10)\n",
    "\n",
    "## evaluate on the test data\n",
    "test_results= bi_lstm_model.evaluate(test_data)\n",
    "print('Test Acc.: {:.2f}%'.format(test_results[1]*100))"
   ]
  },
  {
   "cell_type": "code",
   "execution_count": 59,
   "id": "98407fad",
   "metadata": {},
   "outputs": [],
   "source": [
    "import os\n",
    "import gzip\n",
    "import shutil\n",
    "if not os.path.exists('models'):\n",
    "    os.mkdir('models')\n",
    "\n",
    "\n",
    "bi_lstm_model.save('models/Bidir-LSTM-full-length-seq.h5')"
   ]
  },
  {
   "cell_type": "markdown",
   "id": "aa7f8a6c",
   "metadata": {},
   "source": [
    "# Trying SimpleRNN with short sequences\n"
   ]
  },
  {
   "cell_type": "code",
   "execution_count": 60,
   "id": "2f65bbbf",
   "metadata": {},
   "outputs": [],
   "source": [
    "def preprocess_datasets(\n",
    "    ds_raw_train, \n",
    "    ds_raw_valid, \n",
    "    ds_raw_test,\n",
    "    max_seq_length=None,\n",
    "    batch_size=32):\n",
    "    \n",
    "    ## Step 1: (already done => creating a dataset)\n",
    "    ## Step 2: find unique tokens\n",
    "    tokenizer = tfds.features.text.Tokenizer()\n",
    "    token_counts = Counter()\n",
    "\n",
    "    for example in ds_raw_train:\n",
    "        tokens = tokenizer.tokenize(example[0].numpy()[0])\n",
    "        if max_seq_length is not None:\n",
    "            tokens = tokens[-max_seq_length:]\n",
    "        token_counts.update(tokens)\n",
    "\n",
    "    print('Vocab-size:', len(token_counts))\n",
    "\n",
    "\n",
    "    ## Step 3: encoding the texts\n",
    "    encoder = tfds.features.text.TokenTextEncoder(token_counts)\n",
    "    def encode(text_tensor, label):\n",
    "        text = text_tensor.numpy()[0]\n",
    "        encoded_text = encoder.encode(text)\n",
    "        if max_seq_length is not None:\n",
    "            encoded_text = encoded_text[-max_seq_length:]\n",
    "        return encoded_text, label\n",
    "\n",
    "    def encode_map_fn(text, label):\n",
    "        return tf.py_function(encode, inp=[text, label], \n",
    "                              Tout=(tf.int64, tf.int64))\n",
    "\n",
    "    ds_train = ds_raw_train.map(encode_map_fn)\n",
    "    ds_valid = ds_raw_valid.map(encode_map_fn)\n",
    "    ds_test = ds_raw_test.map(encode_map_fn)\n",
    "\n",
    "    ## Step 4: batching the datasets\n",
    "    train_data = ds_train.padded_batch(\n",
    "        batch_size, padded_shapes=([-1],[]))\n",
    "\n",
    "    valid_data = ds_valid.padded_batch(\n",
    "        batch_size, padded_shapes=([-1],[]))\n",
    "\n",
    "    test_data = ds_test.padded_batch(\n",
    "        batch_size, padded_shapes=([-1],[]))\n",
    "\n",
    "    return (train_data, valid_data, \n",
    "            test_data, len(token_counts))"
   ]
  },
  {
   "cell_type": "code",
   "execution_count": 61,
   "id": "f17c7beb",
   "metadata": {},
   "outputs": [],
   "source": [
    "def build_rnn_model(embedding_dim, vocab_size,\n",
    "                    recurrent_type='SimpleRNN',\n",
    "                    n_recurrent_units=64,\n",
    "                    n_recurrent_layers=1,\n",
    "                    bidirectional=True):\n",
    "\n",
    "    tf.random.set_seed(1)\n",
    "\n",
    "    # build the model\n",
    "    model = tf.keras.Sequential()\n",
    "    \n",
    "    model.add(\n",
    "        Embedding(\n",
    "            input_dim=vocab_size,\n",
    "            output_dim=embedding_dim,\n",
    "            name='embed-layer')\n",
    "    )\n",
    "    \n",
    "    for i in range(n_recurrent_layers):\n",
    "        return_sequences = (i < n_recurrent_layers-1)\n",
    "            \n",
    "        if recurrent_type == 'SimpleRNN':\n",
    "            recurrent_layer = SimpleRNN(\n",
    "                units=n_recurrent_units, \n",
    "                return_sequences=return_sequences,\n",
    "                name='simprnn-layer-{}'.format(i))\n",
    "        elif recurrent_type == 'LSTM':\n",
    "            recurrent_layer = LSTM(\n",
    "                units=n_recurrent_units, \n",
    "                return_sequences=return_sequences,\n",
    "                name='lstm-layer-{}'.format(i))\n",
    "        elif recurrent_type == 'GRU':\n",
    "            recurrent_layer = GRU(\n",
    "                units=n_recurrent_units, \n",
    "                return_sequences=return_sequences,\n",
    "                name='gru-layer-{}'.format(i))\n",
    "        \n",
    "        if bidirectional:\n",
    "            recurrent_layer = Bidirectional(\n",
    "                recurrent_layer, name='bidir-'+recurrent_layer.name)\n",
    "            \n",
    "        model.add(recurrent_layer)\n",
    "\n",
    "    model.add(tf.keras.layers.Dense(64, activation='relu'))\n",
    "    model.add(tf.keras.layers.Dense(1, activation='sigmoid'))\n",
    "    \n",
    "    return model"
   ]
  },
  {
   "cell_type": "code",
   "execution_count": 62,
   "id": "44309627",
   "metadata": {},
   "outputs": [],
   "source": [
    "#pip install tensorflow-text"
   ]
  },
  {
   "cell_type": "code",
   "execution_count": 63,
   "id": "70a2efab",
   "metadata": {},
   "outputs": [],
   "source": [
    "from tensorflow.keras.layers import Bidirectional\n",
    "import tensorflow_text as tf_text\n",
    "#tokenizer =tfds.features.text.Tokenizer()\n",
    "#tokenizer = tf_text.WhitespaceTokenizer()\n",
    "\n",
    "batch_size = 32\n",
    "embedding_dim = 20\n",
    "max_seq_length = 100"
   ]
  },
  {
   "cell_type": "code",
   "execution_count": 66,
   "id": "968eb9c4",
   "metadata": {},
   "outputs": [
    {
     "ename": "IndentationError",
     "evalue": "unexpected indent (Temp/ipykernel_8164/3763951975.py, line 2)",
     "output_type": "error",
     "traceback": [
      "\u001b[1;36m  File \u001b[1;32m\"C:\\Users\\daars\\AppData\\Local\\Temp/ipykernel_8164/3763951975.py\"\u001b[1;36m, line \u001b[1;32m2\u001b[0m\n\u001b[1;33m    n = preprocess_datasets(\u001b[0m\n\u001b[1;37m    ^\u001b[0m\n\u001b[1;31mIndentationError\u001b[0m\u001b[1;31m:\u001b[0m unexpected indent\n"
     ]
    }
   ],
   "source": [
    "\n",
    "train_data, valid_data, test_data, \n",
    "    n = preprocess_datasets(\n",
    "    ds_raw_train, ds_raw_valid, ds_raw_test, \n",
    "    max_seq_length=max_seq_length, \n",
    "    batch_size=batch_size\n",
    ")\n",
    "\n",
    "\n",
    "vocab_size = n + 2\n",
    "\n"
   ]
  },
  {
   "cell_type": "code",
   "execution_count": 67,
   "id": "25d70b33",
   "metadata": {},
   "outputs": [
    {
     "name": "stdout",
     "output_type": "stream",
     "text": [
      "Model: \"sequential_9\"\n",
      "_________________________________________________________________\n",
      " Layer (type)                Output Shape              Param #   \n",
      "=================================================================\n",
      " embed-layer (Embedding)     (None, None, 20)          1740180   \n",
      "                                                                 \n",
      " bidir-simprnn-layer-0 (Bidi  (None, 128)              10880     \n",
      " rectional)                                                      \n",
      "                                                                 \n",
      " dense_8 (Dense)             (None, 64)                8256      \n",
      "                                                                 \n",
      " dense_9 (Dense)             (None, 1)                 65        \n",
      "                                                                 \n",
      "=================================================================\n",
      "Total params: 1,759,381\n",
      "Trainable params: 1,759,381\n",
      "Non-trainable params: 0\n",
      "_________________________________________________________________\n"
     ]
    }
   ],
   "source": [
    "rnn_model = build_rnn_model(\n",
    "    embedding_dim, vocab_size,\n",
    "    recurrent_type='SimpleRNN', \n",
    "    n_recurrent_units=64,\n",
    "    n_recurrent_layers=1,\n",
    "    bidirectional=True)\n",
    "\n",
    "rnn_model.summary()"
   ]
  },
  {
   "cell_type": "code",
   "execution_count": 68,
   "id": "9199e885",
   "metadata": {},
   "outputs": [
    {
     "name": "stdout",
     "output_type": "stream",
     "text": [
      "Epoch 1/10\n",
      "625/625 [==============================] - 293s 462ms/step - loss: 0.7000 - accuracy: 0.5052 - val_loss: 0.7098 - val_accuracy: 0.5124\n",
      "Epoch 2/10\n",
      "625/625 [==============================] - 290s 463ms/step - loss: 0.6991 - accuracy: 0.5103 - val_loss: 0.6947 - val_accuracy: 0.5076\n",
      "Epoch 3/10\n",
      "625/625 [==============================] - 3927s 6s/step - loss: 0.6778 - accuracy: 0.5653 - val_loss: 0.6818 - val_accuracy: 0.5630\n",
      "Epoch 4/10\n",
      "625/625 [==============================] - 358s 572ms/step - loss: 0.5710 - accuracy: 0.6992 - val_loss: 0.6309 - val_accuracy: 0.6626\n",
      "Epoch 5/10\n",
      "625/625 [==============================] - 310s 496ms/step - loss: 0.4129 - accuracy: 0.8172 - val_loss: 0.6300 - val_accuracy: 0.7078\n",
      "Epoch 6/10\n",
      "625/625 [==============================] - 308s 493ms/step - loss: 0.2998 - accuracy: 0.8783 - val_loss: 0.6739 - val_accuracy: 0.7200\n",
      "Epoch 7/10\n",
      "625/625 [==============================] - 307s 491ms/step - loss: 0.2023 - accuracy: 0.9283 - val_loss: 0.8133 - val_accuracy: 0.6672\n",
      "Epoch 8/10\n",
      "625/625 [==============================] - 337s 539ms/step - loss: 0.1500 - accuracy: 0.9507 - val_loss: 0.8668 - val_accuracy: 0.7374\n",
      "Epoch 9/10\n",
      "625/625 [==============================] - 303s 484ms/step - loss: 0.1466 - accuracy: 0.9492 - val_loss: 0.6787 - val_accuracy: 0.7002\n",
      "Epoch 10/10\n",
      "625/625 [==============================] - 303s 485ms/step - loss: 0.2658 - accuracy: 0.8961 - val_loss: 0.6868 - val_accuracy: 0.7474\n"
     ]
    }
   ],
   "source": [
    "rnn_model.compile(optimizer=tf.keras.optimizers.Adam(1e-3),\n",
    "                  loss=tf.keras.losses.BinaryCrossentropy(from_logits=False),\n",
    "                  metrics=['accuracy'])\n",
    "\n",
    "\n",
    "history = rnn_model.fit(\n",
    "    train_data, \n",
    "    validation_data=valid_data, \n",
    "    epochs=10)"
   ]
  },
  {
   "cell_type": "code",
   "execution_count": 69,
   "id": "e3b615b1",
   "metadata": {},
   "outputs": [
    {
     "name": "stdout",
     "output_type": "stream",
     "text": [
      "782/782 [==============================] - 106s 136ms/step - loss: 0.6790 - accuracy: 0.7432\n"
     ]
    }
   ],
   "source": [
    "results = rnn_model.evaluate(test_data)"
   ]
  },
  {
   "cell_type": "code",
   "execution_count": 70,
   "id": "054c0497",
   "metadata": {},
   "outputs": [
    {
     "name": "stdout",
     "output_type": "stream",
     "text": [
      "Test Acc.: 74.32%\n"
     ]
    }
   ],
   "source": [
    "print('Test Acc.: {:.2f}%'.format(results[1]*100))"
   ]
  }
 ],
 "metadata": {
  "kernelspec": {
   "display_name": "Python 3 (ipykernel)",
   "language": "python",
   "name": "python3"
  },
  "language_info": {
   "codemirror_mode": {
    "name": "ipython",
    "version": 3
   },
   "file_extension": ".py",
   "mimetype": "text/x-python",
   "name": "python",
   "nbconvert_exporter": "python",
   "pygments_lexer": "ipython3",
   "version": "3.9.7"
  }
 },
 "nbformat": 4,
 "nbformat_minor": 5
}
