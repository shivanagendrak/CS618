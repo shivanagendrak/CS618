{
 "cells": [
  {
   "cell_type": "markdown",
   "id": "frozen-tobago",
   "metadata": {
    "run_control": {
     "marked": true
    }
   },
   "source": [
    "# Sentiment Analysis"
   ]
  },
  {
   "cell_type": "markdown",
   "id": "young-tennis",
   "metadata": {},
   "source": [
    "## Sentiment of each line"
   ]
  },
  {
   "cell_type": "code",
   "execution_count": 1,
   "id": "martial-ghost",
   "metadata": {
    "run_control": {
     "marked": true
    },
    "scrolled": false
   },
   "outputs": [
    {
     "data": {
      "text/html": [
       "<div>\n",
       "<style scoped>\n",
       "    .dataframe tbody tr th:only-of-type {\n",
       "        vertical-align: middle;\n",
       "    }\n",
       "\n",
       "    .dataframe tbody tr th {\n",
       "        vertical-align: top;\n",
       "    }\n",
       "\n",
       "    .dataframe thead th {\n",
       "        text-align: right;\n",
       "    }\n",
       "</style>\n",
       "<table border=\"1\" class=\"dataframe\">\n",
       "  <thead>\n",
       "    <tr style=\"text-align: right;\">\n",
       "      <th></th>\n",
       "      <th>character</th>\n",
       "      <th>character_words</th>\n",
       "      <th>neg</th>\n",
       "      <th>neu</th>\n",
       "      <th>pos</th>\n",
       "      <th>compound</th>\n",
       "    </tr>\n",
       "  </thead>\n",
       "  <tbody>\n",
       "    <tr>\n",
       "      <th>0</th>\n",
       "      <td>Katara</td>\n",
       "      <td>Water. Earth. Fire. Air. My grandmother used t...</td>\n",
       "      <td>0.130</td>\n",
       "      <td>0.804</td>\n",
       "      <td>0.066</td>\n",
       "      <td>-0.6874</td>\n",
       "    </tr>\n",
       "    <tr>\n",
       "      <th>1</th>\n",
       "      <td>Sokka</td>\n",
       "      <td>It's not getting away from me this time.  Watc...</td>\n",
       "      <td>0.000</td>\n",
       "      <td>1.000</td>\n",
       "      <td>0.000</td>\n",
       "      <td>0.0000</td>\n",
       "    </tr>\n",
       "    <tr>\n",
       "      <th>2</th>\n",
       "      <td>Katara</td>\n",
       "      <td>Sokka, look!</td>\n",
       "      <td>0.000</td>\n",
       "      <td>1.000</td>\n",
       "      <td>0.000</td>\n",
       "      <td>0.0000</td>\n",
       "    </tr>\n",
       "    <tr>\n",
       "      <th>3</th>\n",
       "      <td>Sokka</td>\n",
       "      <td>Sshh! Katara, you're going to scare it away.  ...</td>\n",
       "      <td>0.200</td>\n",
       "      <td>0.800</td>\n",
       "      <td>0.000</td>\n",
       "      <td>-0.5411</td>\n",
       "    </tr>\n",
       "    <tr>\n",
       "      <th>4</th>\n",
       "      <td>Katara</td>\n",
       "      <td>But, Sokka! I caught one!</td>\n",
       "      <td>0.000</td>\n",
       "      <td>1.000</td>\n",
       "      <td>0.000</td>\n",
       "      <td>0.0000</td>\n",
       "    </tr>\n",
       "    <tr>\n",
       "      <th>...</th>\n",
       "      <td>...</td>\n",
       "      <td>...</td>\n",
       "      <td>...</td>\n",
       "      <td>...</td>\n",
       "      <td>...</td>\n",
       "      <td>...</td>\n",
       "    </tr>\n",
       "    <tr>\n",
       "      <th>7053</th>\n",
       "      <td>Zuko</td>\n",
       "      <td>At least you don't look like a boar-q-pine! My...</td>\n",
       "      <td>0.183</td>\n",
       "      <td>0.817</td>\n",
       "      <td>0.000</td>\n",
       "      <td>-0.4007</td>\n",
       "    </tr>\n",
       "    <tr>\n",
       "      <th>7054</th>\n",
       "      <td>Suki</td>\n",
       "      <td>And why did you paint me firebending?</td>\n",
       "      <td>0.000</td>\n",
       "      <td>1.000</td>\n",
       "      <td>0.000</td>\n",
       "      <td>0.0000</td>\n",
       "    </tr>\n",
       "    <tr>\n",
       "      <th>7055</th>\n",
       "      <td>Sokka</td>\n",
       "      <td>I thought it looked more exciting that way.  O...</td>\n",
       "      <td>0.000</td>\n",
       "      <td>0.687</td>\n",
       "      <td>0.313</td>\n",
       "      <td>0.7501</td>\n",
       "    </tr>\n",
       "    <tr>\n",
       "      <th>7056</th>\n",
       "      <td>Iroh</td>\n",
       "      <td>Hey, my belly's not that big anymore. I've rea...</td>\n",
       "      <td>0.000</td>\n",
       "      <td>1.000</td>\n",
       "      <td>0.000</td>\n",
       "      <td>0.0000</td>\n",
       "    </tr>\n",
       "    <tr>\n",
       "      <th>7057</th>\n",
       "      <td>Toph</td>\n",
       "      <td>Well I think you all look perfect!</td>\n",
       "      <td>0.000</td>\n",
       "      <td>0.396</td>\n",
       "      <td>0.604</td>\n",
       "      <td>0.7263</td>\n",
       "    </tr>\n",
       "  </tbody>\n",
       "</table>\n",
       "<p>7058 rows × 6 columns</p>\n",
       "</div>"
      ],
      "text/plain": [
       "     character                                    character_words    neg  \\\n",
       "0       Katara  Water. Earth. Fire. Air. My grandmother used t...  0.130   \n",
       "1        Sokka  It's not getting away from me this time.  Watc...  0.000   \n",
       "2       Katara                                       Sokka, look!  0.000   \n",
       "3        Sokka  Sshh! Katara, you're going to scare it away.  ...  0.200   \n",
       "4       Katara                          But, Sokka! I caught one!  0.000   \n",
       "...        ...                                                ...    ...   \n",
       "7053      Zuko  At least you don't look like a boar-q-pine! My...  0.183   \n",
       "7054      Suki              And why did you paint me firebending?  0.000   \n",
       "7055     Sokka  I thought it looked more exciting that way.  O...  0.000   \n",
       "7056      Iroh  Hey, my belly's not that big anymore. I've rea...  0.000   \n",
       "7057      Toph                 Well I think you all look perfect!  0.000   \n",
       "\n",
       "        neu    pos  compound  \n",
       "0     0.804  0.066   -0.6874  \n",
       "1     1.000  0.000    0.0000  \n",
       "2     1.000  0.000    0.0000  \n",
       "3     0.800  0.000   -0.5411  \n",
       "4     1.000  0.000    0.0000  \n",
       "...     ...    ...       ...  \n",
       "7053  0.817  0.000   -0.4007  \n",
       "7054  1.000  0.000    0.0000  \n",
       "7055  0.687  0.313    0.7501  \n",
       "7056  1.000  0.000    0.0000  \n",
       "7057  0.396  0.604    0.7263  \n",
       "\n",
       "[7058 rows x 6 columns]"
      ]
     },
     "execution_count": 1,
     "metadata": {},
     "output_type": "execute_result"
    }
   ],
   "source": [
    "import pandas as pd\n",
    "import nltk\n",
    "from nltk.sentiment.vader import SentimentIntensityAnalyzer\n",
    "\n",
    "# reading and wragling data\n",
    "df_avatar = pd.read_csv('avatar.csv', engine='python')\n",
    "df_avatar_lines = df_avatar.groupby('character').count()\n",
    "df_avatar_lines = df_avatar_lines.sort_values(by=['character_words'], ascending=False)[:10]\n",
    "top_character_names = df_avatar_lines.index.values\n",
    "\n",
    "# filtering out non-top characters\n",
    "df_character_sentiment = df_avatar[df_avatar['character'].isin(top_character_names)]\n",
    "df_character_sentiment = df_character_sentiment[['character', 'character_words']]\n",
    "\n",
    "# calculating sentiment score\n",
    "sid = SentimentIntensityAnalyzer()\n",
    "df_character_sentiment.reset_index(inplace=True, drop=True)\n",
    "df_character_sentiment[['neg', 'neu', 'pos', 'compound']] = df_character_sentiment['character_words'].apply(sid.polarity_scores).apply(pd.Series)\n",
    "df_character_sentiment"
   ]
  },
  {
   "cell_type": "markdown",
   "id": "burning-pointer",
   "metadata": {},
   "source": [
    "## Sentiment of each character"
   ]
  },
  {
   "cell_type": "code",
   "execution_count": 2,
   "id": "protecting-garbage",
   "metadata": {},
   "outputs": [
    {
     "data": {
      "text/html": [
       "<div>\n",
       "<style scoped>\n",
       "    .dataframe tbody tr th:only-of-type {\n",
       "        vertical-align: middle;\n",
       "    }\n",
       "\n",
       "    .dataframe tbody tr th {\n",
       "        vertical-align: top;\n",
       "    }\n",
       "\n",
       "    .dataframe thead th {\n",
       "        text-align: right;\n",
       "    }\n",
       "</style>\n",
       "<table border=\"1\" class=\"dataframe\">\n",
       "  <thead>\n",
       "    <tr style=\"text-align: right;\">\n",
       "      <th></th>\n",
       "      <th>character</th>\n",
       "      <th>neg</th>\n",
       "      <th>neu</th>\n",
       "      <th>pos</th>\n",
       "      <th>compound</th>\n",
       "    </tr>\n",
       "  </thead>\n",
       "  <tbody>\n",
       "    <tr>\n",
       "      <th>0</th>\n",
       "      <td>Zuko</td>\n",
       "      <td>0.099</td>\n",
       "      <td>0.789</td>\n",
       "      <td>0.111</td>\n",
       "      <td>0.026</td>\n",
       "    </tr>\n",
       "    <tr>\n",
       "      <th>1</th>\n",
       "      <td>Zhao</td>\n",
       "      <td>0.136</td>\n",
       "      <td>0.752</td>\n",
       "      <td>0.112</td>\n",
       "      <td>-0.051</td>\n",
       "    </tr>\n",
       "    <tr>\n",
       "      <th>2</th>\n",
       "      <td>Sokka</td>\n",
       "      <td>0.096</td>\n",
       "      <td>0.789</td>\n",
       "      <td>0.115</td>\n",
       "      <td>0.024</td>\n",
       "    </tr>\n",
       "    <tr>\n",
       "      <th>3</th>\n",
       "      <td>Katara</td>\n",
       "      <td>0.091</td>\n",
       "      <td>0.787</td>\n",
       "      <td>0.122</td>\n",
       "      <td>0.046</td>\n",
       "    </tr>\n",
       "    <tr>\n",
       "      <th>4</th>\n",
       "      <td>Azula</td>\n",
       "      <td>0.090</td>\n",
       "      <td>0.783</td>\n",
       "      <td>0.127</td>\n",
       "      <td>0.080</td>\n",
       "    </tr>\n",
       "    <tr>\n",
       "      <th>5</th>\n",
       "      <td>Suki</td>\n",
       "      <td>0.090</td>\n",
       "      <td>0.783</td>\n",
       "      <td>0.127</td>\n",
       "      <td>0.089</td>\n",
       "    </tr>\n",
       "    <tr>\n",
       "      <th>6</th>\n",
       "      <td>Jet</td>\n",
       "      <td>0.090</td>\n",
       "      <td>0.777</td>\n",
       "      <td>0.133</td>\n",
       "      <td>0.063</td>\n",
       "    </tr>\n",
       "    <tr>\n",
       "      <th>7</th>\n",
       "      <td>Toph</td>\n",
       "      <td>0.084</td>\n",
       "      <td>0.776</td>\n",
       "      <td>0.140</td>\n",
       "      <td>0.078</td>\n",
       "    </tr>\n",
       "    <tr>\n",
       "      <th>8</th>\n",
       "      <td>Aang</td>\n",
       "      <td>0.075</td>\n",
       "      <td>0.782</td>\n",
       "      <td>0.143</td>\n",
       "      <td>0.084</td>\n",
       "    </tr>\n",
       "    <tr>\n",
       "      <th>9</th>\n",
       "      <td>Iroh</td>\n",
       "      <td>0.077</td>\n",
       "      <td>0.755</td>\n",
       "      <td>0.168</td>\n",
       "      <td>0.164</td>\n",
       "    </tr>\n",
       "  </tbody>\n",
       "</table>\n",
       "</div>"
      ],
      "text/plain": [
       "  character    neg    neu    pos  compound\n",
       "0      Zuko  0.099  0.789  0.111     0.026\n",
       "1      Zhao  0.136  0.752  0.112    -0.051\n",
       "2     Sokka  0.096  0.789  0.115     0.024\n",
       "3    Katara  0.091  0.787  0.122     0.046\n",
       "4     Azula  0.090  0.783  0.127     0.080\n",
       "5      Suki  0.090  0.783  0.127     0.089\n",
       "6       Jet  0.090  0.777  0.133     0.063\n",
       "7      Toph  0.084  0.776  0.140     0.078\n",
       "8      Aang  0.075  0.782  0.143     0.084\n",
       "9      Iroh  0.077  0.755  0.168     0.164"
      ]
     },
     "execution_count": 2,
     "metadata": {},
     "output_type": "execute_result"
    }
   ],
   "source": [
    "# sentiment score for each character (mean)\n",
    "df_character_sentiment = df_character_sentiment.groupby('character').mean().round(3).sort_values('pos', ascending=True)\n",
    "df_character_sentiment.reset_index(inplace=True)\n",
    "df_character_sentiment"
   ]
  },
  {
   "cell_type": "markdown",
   "id": "quarterly-marina",
   "metadata": {},
   "source": [
    "## Plotting sentiment"
   ]
  },
  {
   "cell_type": "code",
   "execution_count": 3,
   "id": "greek-missouri",
   "metadata": {},
   "outputs": [
    {
     "data": {
      "image/png": "[encoded data removed]",
      "text/plain": [
       "<Figure size 1224x864 with 1 Axes>"
      ]
     },
     "metadata": {
      "needs_background": "light"
     },
     "output_type": "display_data"
    }
   ],
   "source": [
    "import matplotlib.pyplot as plt\n",
    "import numpy as np\n",
    "\n",
    "# preparing data\n",
    "X = np.arange(len(df_character_sentiment['pos']))\n",
    "#bar plot\n",
    "fig = plt.figure(figsize = (17, 12))\n",
    "plt.barh(X, df_character_sentiment['pos'], facecolor='#9999ff', edgecolor='white')\n",
    "plt.barh(X, -df_character_sentiment['neg'], facecolor='#ff9999', edgecolor='white')\n",
    "# plt.rcParams.update({'font.size':13})\n",
    "plt.xlim([-.16,.22])\n",
    "plt.yticks(ticks=X, labels=df_character_sentiment['character'], rotation='0')\n",
    "plt.show()"
   ]
  },
  {
   "cell_type": "markdown",
   "id": "national-biotechnology",
   "metadata": {},
   "source": [
    "# Named Entity Recognition (NER)"
   ]
  },
  {
   "cell_type": "code",
   "execution_count": 4,
   "id": "selected-numbers",
   "metadata": {},
   "outputs": [
    {
     "name": "stdout",
     "output_type": "stream",
     "text": [
      "[('Biden', 'PERSON'), ('Ukrainian', 'GPE'), ('White House', 'ORG'), ('this summer', 'DATE')]\n"
     ]
    }
   ],
   "source": [
    "import spacy\n",
    "nlp = spacy.load(\"en_core_web_sm\")\n",
    "doc = nlp(\"Biden invites Ukrainian president to White House this summer\")\n",
    "print([(X.text, X.label_) for X in doc.ents])"
   ]
  },
  {
   "cell_type": "markdown",
   "id": "pleasant-commerce",
   "metadata": {},
   "source": [
    "# Stemming"
   ]
  },
  {
   "cell_type": "code",
   "execution_count": 5,
   "id": "reliable-suggestion",
   "metadata": {},
   "outputs": [
    {
     "name": "stdout",
     "output_type": "stream",
     "text": [
      "friendship\n",
      "friend\n"
     ]
    }
   ],
   "source": [
    "from nltk.stem import PorterStemmer\n",
    "from nltk.stem import LancasterStemmer\n",
    "# PorterStemmer\n",
    "porter = PorterStemmer()\n",
    "# LancasterStemmer\n",
    "lancaster = LancasterStemmer()\n",
    "print(porter.stem(\"friendship\"))\n",
    "print(lancaster.stem(\"friendship\"))"
   ]
  },
  {
   "cell_type": "markdown",
   "id": "looking-portsmouth",
   "metadata": {},
   "source": [
    "# Lemmatization"
   ]
  },
  {
   "cell_type": "code",
   "execution_count": 6,
   "id": "another-administrator",
   "metadata": {},
   "outputs": [
    {
     "name": "stdout",
     "output_type": "stream",
     "text": [
      "article\n",
      "friendship\n",
      "study\n",
      "phone\n"
     ]
    }
   ],
   "source": [
    "from nltk import WordNetLemmatizer\n",
    "lemmatizer = WordNetLemmatizer()\n",
    "words = ['articles', 'friendship', 'studies', 'phones']\n",
    "for word in words:\n",
    "    print(lemmatizer.lemmatize(word))"
   ]
  },
  {
   "cell_type": "code",
   "execution_count": 7,
   "id": "requested-bronze",
   "metadata": {},
   "outputs": [
    {
     "name": "stdout",
     "output_type": "stream",
     "text": [
      "be\n",
      "be\n",
      "be\n",
      "be\n",
      "be\n"
     ]
    }
   ],
   "source": [
    "from nltk import WordNetLemmatizer\n",
    "lemmatizer = WordNetLemmatizer()\n",
    "words = ['be', 'is', 'are', 'were', 'was']\n",
    "for word in words:\n",
    "    print(lemmatizer.lemmatize(word, pos='v'))"
   ]
  },
  {
   "cell_type": "markdown",
   "id": "guided-trance",
   "metadata": {},
   "source": [
    "# Bag of Words (BoW)"
   ]
  },
  {
   "cell_type": "code",
   "execution_count": 8,
   "id": "injured-local",
   "metadata": {},
   "outputs": [
    {
     "data": {
      "text/html": [
       "<div>\n",
       "<style scoped>\n",
       "    .dataframe tbody tr th:only-of-type {\n",
       "        vertical-align: middle;\n",
       "    }\n",
       "\n",
       "    .dataframe tbody tr th {\n",
       "        vertical-align: top;\n",
       "    }\n",
       "\n",
       "    .dataframe thead th {\n",
       "        text-align: right;\n",
       "    }\n",
       "</style>\n",
       "<table border=\"1\" class=\"dataframe\">\n",
       "  <thead>\n",
       "    <tr style=\"text-align: right;\">\n",
       "      <th></th>\n",
       "      <th>code</th>\n",
       "      <th>hate</th>\n",
       "      <th>java</th>\n",
       "      <th>love</th>\n",
       "      <th>python</th>\n",
       "      <th>writing</th>\n",
       "    </tr>\n",
       "  </thead>\n",
       "  <tbody>\n",
       "    <tr>\n",
       "      <th>review1</th>\n",
       "      <td>2</td>\n",
       "      <td>0</td>\n",
       "      <td>0</td>\n",
       "      <td>2</td>\n",
       "      <td>2</td>\n",
       "      <td>1</td>\n",
       "    </tr>\n",
       "    <tr>\n",
       "      <th>review2</th>\n",
       "      <td>2</td>\n",
       "      <td>2</td>\n",
       "      <td>2</td>\n",
       "      <td>0</td>\n",
       "      <td>0</td>\n",
       "      <td>1</td>\n",
       "    </tr>\n",
       "  </tbody>\n",
       "</table>\n",
       "</div>"
      ],
      "text/plain": [
       "         code  hate  java  love  python  writing\n",
       "review1     2     0     0     2       2        1\n",
       "review2     2     2     2     0       0        1"
      ]
     },
     "execution_count": 8,
     "metadata": {},
     "output_type": "execute_result"
    }
   ],
   "source": [
    "import pandas as pd\n",
    "from sklearn.feature_extraction.text import CountVectorizer\n",
    "\n",
    "text = [\"I love writing code in Python. I love Python code\",\n",
    "        \"I hate writing code in Java. I hate Java code\"]\n",
    "\n",
    "df = pd.DataFrame({'review': ['review1', 'review2'], 'text':text})\n",
    "cv = CountVectorizer(stop_words='english')\n",
    "cv_matrix = cv.fit_transform(df['text'])\n",
    "df_dtm = pd.DataFrame(cv_matrix.toarray(),\n",
    "                      index=df['review'].values,\n",
    "                      columns=cv.get_feature_names())\n",
    "df_dtm"
   ]
  },
  {
   "cell_type": "markdown",
   "id": "uniform-sydney",
   "metadata": {},
   "source": [
    "# TF-IDF"
   ]
  },
  {
   "cell_type": "code",
   "execution_count": 9,
   "id": "variable-cologne",
   "metadata": {},
   "outputs": [
    {
     "data": {
      "text/html": [
       "<div>\n",
       "<style scoped>\n",
       "    .dataframe tbody tr th:only-of-type {\n",
       "        vertical-align: middle;\n",
       "    }\n",
       "\n",
       "    .dataframe tbody tr th {\n",
       "        vertical-align: top;\n",
       "    }\n",
       "\n",
       "    .dataframe thead th {\n",
       "        text-align: right;\n",
       "    }\n",
       "</style>\n",
       "<table border=\"1\" class=\"dataframe\">\n",
       "  <thead>\n",
       "    <tr style=\"text-align: right;\">\n",
       "      <th></th>\n",
       "      <th>code</th>\n",
       "      <th>hate</th>\n",
       "      <th>java</th>\n",
       "      <th>love</th>\n",
       "      <th>python</th>\n",
       "      <th>writing</th>\n",
       "    </tr>\n",
       "  </thead>\n",
       "  <tbody>\n",
       "    <tr>\n",
       "      <th>review1</th>\n",
       "      <td>2.0</td>\n",
       "      <td>0.00000</td>\n",
       "      <td>0.00000</td>\n",
       "      <td>2.81093</td>\n",
       "      <td>2.81093</td>\n",
       "      <td>1.0</td>\n",
       "    </tr>\n",
       "    <tr>\n",
       "      <th>review2</th>\n",
       "      <td>2.0</td>\n",
       "      <td>2.81093</td>\n",
       "      <td>2.81093</td>\n",
       "      <td>0.00000</td>\n",
       "      <td>0.00000</td>\n",
       "      <td>1.0</td>\n",
       "    </tr>\n",
       "  </tbody>\n",
       "</table>\n",
       "</div>"
      ],
      "text/plain": [
       "         code     hate     java     love   python  writing\n",
       "review1   2.0  0.00000  0.00000  2.81093  2.81093      1.0\n",
       "review2   2.0  2.81093  2.81093  0.00000  0.00000      1.0"
      ]
     },
     "execution_count": 9,
     "metadata": {},
     "output_type": "execute_result"
    }
   ],
   "source": [
    "import pandas as pd\n",
    "from sklearn.feature_extraction.text import TfidfVectorizer\n",
    "text = [\"I love writing code in Python. I love Python code\",\n",
    "        \"I hate writing code in Java. I hate Java code\"]\n",
    "\n",
    "df = pd.DataFrame({'review': ['review1', 'review2'], 'text':text})\n",
    "tfidf = TfidfVectorizer(stop_words='english', norm=None)\n",
    "tfidf_matrix = tfidf.fit_transform(df['text'])\n",
    "df_dtm = pd.DataFrame(tfidf_matrix.toarray(),\n",
    "                      index=df['review'].values,\n",
    "                      columns=tfidf.get_feature_names())\n",
    "df_dtm"
   ]
  },
  {
   "cell_type": "markdown",
   "id": "adopted-rapid",
   "metadata": {},
   "source": [
    "# Wordcloud"
   ]
  },
  {
   "cell_type": "code",
   "execution_count": 10,
   "id": "blond-memphis",
   "metadata": {},
   "outputs": [],
   "source": [
    "import stylecloud\n",
    "\n",
    "stylecloud.gen_stylecloud(file_path='SJ-Speech.txt',\n",
    "                          icon_name= \"fas fa-apple-alt\")"
   ]
  }
 ],
 "metadata": {
  "hide_input": false,
  "kernelspec": {
   "display_name": "Python 3",
   "language": "python",
   "name": "python3"
  },
  "language_info": {
   "codemirror_mode": {
    "name": "ipython",
    "version": 3
   },
   "file_extension": ".py",
   "mimetype": "text/x-python",
   "name": "python",
   "nbconvert_exporter": "python",
   "pygments_lexer": "ipython3",
   "version": "3.7.3"
  },
  "nbTranslate": {
   "displayLangs": [
    "es",
    "en"
   ],
   "hotkey": "alt-t",
   "langInMainMenu": true,
   "sourceLang": "en",
   "targetLang": "es",
   "useGoogleTranslate": true
  },
  "toc": {
   "base_numbering": 1,
   "nav_menu": {},
   "number_sections": true,
   "sideBar": true,
   "skip_h1_title": false,
   "title_cell": "Table of Contents",
   "title_sidebar": "Contents",
   "toc_cell": false,
   "toc_position": {
    "height": "527.8261108398438px",
    "left": "661px",
    "top": "109.57879638671875px",
    "width": "250.43478393554688px"
   },
   "toc_section_display": true,
   "toc_window_display": false
  }
 },
 "nbformat": 4,
 "nbformat_minor": 5
}
