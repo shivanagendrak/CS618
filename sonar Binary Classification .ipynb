{
 "cells": [
  {
   "cell_type": "markdown",
   "id": "00309df9",
   "metadata": {
    "papermill": {
     "duration": 0.00722,
     "end_time": "2022-12-08T08:29:11.368503",
     "exception": false,
     "start_time": "2022-12-08T08:29:11.361283",
     "status": "completed"
    },
    "tags": []
   },
   "source": [
    "# Import required libraries and Data"
   ]
  },
  {
   "cell_type": "code",
   "execution_count": 1,
   "id": "de1dc734",
   "metadata": {
    "_cell_guid": "b1076dfc-b9ad-4769-8c92-a6c4dae69d19",
    "_uuid": "8f2839f25d086af736a60e9eeb907d3b93b6e0e5",
    "execution": {
     "iopub.execute_input": "2022-12-08T08:29:11.387836Z",
     "iopub.status.busy": "2022-12-08T08:29:11.387369Z",
     "iopub.status.idle": "2022-12-08T08:29:19.127819Z",
     "shell.execute_reply": "2022-12-08T08:29:19.126733Z"
    },
    "papermill": {
     "duration": 7.75427,
     "end_time": "2022-12-08T08:29:19.130775",
     "exception": false,
     "start_time": "2022-12-08T08:29:11.376505",
     "status": "completed"
    },
    "tags": []
   },
   "outputs": [],
   "source": [
    "import numpy as np\n",
    "import pandas as pd\n",
    "from sklearn.model_selection import train_test_split\n",
    "\n",
    "import tensorflow as tf\n",
    "from tensorflow import keras\n",
    "\n",
    "from sklearn.metrics import classification_report, confusion_matrix"
   ]
  },
  {
   "cell_type": "code",
   "execution_count": 2,
   "id": "e425e2f5",
   "metadata": {
    "execution": {
     "iopub.execute_input": "2022-12-08T08:29:19.148595Z",
     "iopub.status.busy": "2022-12-08T08:29:19.147585Z",
     "iopub.status.idle": "2022-12-08T08:29:19.218707Z",
     "shell.execute_reply": "2022-12-08T08:29:19.217326Z"
    },
    "papermill": {
     "duration": 0.08322,
     "end_time": "2022-12-08T08:29:19.221660",
     "exception": false,
     "start_time": "2022-12-08T08:29:19.138440",
     "status": "completed"
    },
    "tags": []
   },
   "outputs": [
    {
     "data": {
      "text/html": [
       "<div>\n",
       "<style scoped>\n",
       "    .dataframe tbody tr th:only-of-type {\n",
       "        vertical-align: middle;\n",
       "    }\n",
       "\n",
       "    .dataframe tbody tr th {\n",
       "        vertical-align: top;\n",
       "    }\n",
       "\n",
       "    .dataframe thead th {\n",
       "        text-align: right;\n",
       "    }\n",
       "</style>\n",
       "<table border=\"1\" class=\"dataframe\">\n",
       "  <thead>\n",
       "    <tr style=\"text-align: right;\">\n",
       "      <th></th>\n",
       "      <th>0</th>\n",
       "      <th>1</th>\n",
       "      <th>2</th>\n",
       "      <th>3</th>\n",
       "      <th>4</th>\n",
       "      <th>5</th>\n",
       "      <th>6</th>\n",
       "      <th>7</th>\n",
       "      <th>8</th>\n",
       "      <th>9</th>\n",
       "      <th>...</th>\n",
       "      <th>51</th>\n",
       "      <th>52</th>\n",
       "      <th>53</th>\n",
       "      <th>54</th>\n",
       "      <th>55</th>\n",
       "      <th>56</th>\n",
       "      <th>57</th>\n",
       "      <th>58</th>\n",
       "      <th>59</th>\n",
       "      <th>60</th>\n",
       "    </tr>\n",
       "  </thead>\n",
       "  <tbody>\n",
       "    <tr>\n",
       "      <th>0</th>\n",
       "      <td>0.0200</td>\n",
       "      <td>0.0371</td>\n",
       "      <td>0.0428</td>\n",
       "      <td>0.0207</td>\n",
       "      <td>0.0954</td>\n",
       "      <td>0.0986</td>\n",
       "      <td>0.1539</td>\n",
       "      <td>0.1601</td>\n",
       "      <td>0.3109</td>\n",
       "      <td>0.2111</td>\n",
       "      <td>...</td>\n",
       "      <td>0.0027</td>\n",
       "      <td>0.0065</td>\n",
       "      <td>0.0159</td>\n",
       "      <td>0.0072</td>\n",
       "      <td>0.0167</td>\n",
       "      <td>0.0180</td>\n",
       "      <td>0.0084</td>\n",
       "      <td>0.0090</td>\n",
       "      <td>0.0032</td>\n",
       "      <td>R</td>\n",
       "    </tr>\n",
       "    <tr>\n",
       "      <th>1</th>\n",
       "      <td>0.0453</td>\n",
       "      <td>0.0523</td>\n",
       "      <td>0.0843</td>\n",
       "      <td>0.0689</td>\n",
       "      <td>0.1183</td>\n",
       "      <td>0.2583</td>\n",
       "      <td>0.2156</td>\n",
       "      <td>0.3481</td>\n",
       "      <td>0.3337</td>\n",
       "      <td>0.2872</td>\n",
       "      <td>...</td>\n",
       "      <td>0.0084</td>\n",
       "      <td>0.0089</td>\n",
       "      <td>0.0048</td>\n",
       "      <td>0.0094</td>\n",
       "      <td>0.0191</td>\n",
       "      <td>0.0140</td>\n",
       "      <td>0.0049</td>\n",
       "      <td>0.0052</td>\n",
       "      <td>0.0044</td>\n",
       "      <td>R</td>\n",
       "    </tr>\n",
       "    <tr>\n",
       "      <th>2</th>\n",
       "      <td>0.0262</td>\n",
       "      <td>0.0582</td>\n",
       "      <td>0.1099</td>\n",
       "      <td>0.1083</td>\n",
       "      <td>0.0974</td>\n",
       "      <td>0.2280</td>\n",
       "      <td>0.2431</td>\n",
       "      <td>0.3771</td>\n",
       "      <td>0.5598</td>\n",
       "      <td>0.6194</td>\n",
       "      <td>...</td>\n",
       "      <td>0.0232</td>\n",
       "      <td>0.0166</td>\n",
       "      <td>0.0095</td>\n",
       "      <td>0.0180</td>\n",
       "      <td>0.0244</td>\n",
       "      <td>0.0316</td>\n",
       "      <td>0.0164</td>\n",
       "      <td>0.0095</td>\n",
       "      <td>0.0078</td>\n",
       "      <td>R</td>\n",
       "    </tr>\n",
       "    <tr>\n",
       "      <th>3</th>\n",
       "      <td>0.0100</td>\n",
       "      <td>0.0171</td>\n",
       "      <td>0.0623</td>\n",
       "      <td>0.0205</td>\n",
       "      <td>0.0205</td>\n",
       "      <td>0.0368</td>\n",
       "      <td>0.1098</td>\n",
       "      <td>0.1276</td>\n",
       "      <td>0.0598</td>\n",
       "      <td>0.1264</td>\n",
       "      <td>...</td>\n",
       "      <td>0.0121</td>\n",
       "      <td>0.0036</td>\n",
       "      <td>0.0150</td>\n",
       "      <td>0.0085</td>\n",
       "      <td>0.0073</td>\n",
       "      <td>0.0050</td>\n",
       "      <td>0.0044</td>\n",
       "      <td>0.0040</td>\n",
       "      <td>0.0117</td>\n",
       "      <td>R</td>\n",
       "    </tr>\n",
       "    <tr>\n",
       "      <th>4</th>\n",
       "      <td>0.0762</td>\n",
       "      <td>0.0666</td>\n",
       "      <td>0.0481</td>\n",
       "      <td>0.0394</td>\n",
       "      <td>0.0590</td>\n",
       "      <td>0.0649</td>\n",
       "      <td>0.1209</td>\n",
       "      <td>0.2467</td>\n",
       "      <td>0.3564</td>\n",
       "      <td>0.4459</td>\n",
       "      <td>...</td>\n",
       "      <td>0.0031</td>\n",
       "      <td>0.0054</td>\n",
       "      <td>0.0105</td>\n",
       "      <td>0.0110</td>\n",
       "      <td>0.0015</td>\n",
       "      <td>0.0072</td>\n",
       "      <td>0.0048</td>\n",
       "      <td>0.0107</td>\n",
       "      <td>0.0094</td>\n",
       "      <td>R</td>\n",
       "    </tr>\n",
       "  </tbody>\n",
       "</table>\n",
       "<p>5 rows × 61 columns</p>\n",
       "</div>"
      ],
      "text/plain": [
       "       0       1       2       3       4       5       6       7       8   \\\n",
       "0  0.0200  0.0371  0.0428  0.0207  0.0954  0.0986  0.1539  0.1601  0.3109   \n",
       "1  0.0453  0.0523  0.0843  0.0689  0.1183  0.2583  0.2156  0.3481  0.3337   \n",
       "2  0.0262  0.0582  0.1099  0.1083  0.0974  0.2280  0.2431  0.3771  0.5598   \n",
       "3  0.0100  0.0171  0.0623  0.0205  0.0205  0.0368  0.1098  0.1276  0.0598   \n",
       "4  0.0762  0.0666  0.0481  0.0394  0.0590  0.0649  0.1209  0.2467  0.3564   \n",
       "\n",
       "       9   ...      51      52      53      54      55      56      57  \\\n",
       "0  0.2111  ...  0.0027  0.0065  0.0159  0.0072  0.0167  0.0180  0.0084   \n",
       "1  0.2872  ...  0.0084  0.0089  0.0048  0.0094  0.0191  0.0140  0.0049   \n",
       "2  0.6194  ...  0.0232  0.0166  0.0095  0.0180  0.0244  0.0316  0.0164   \n",
       "3  0.1264  ...  0.0121  0.0036  0.0150  0.0085  0.0073  0.0050  0.0044   \n",
       "4  0.4459  ...  0.0031  0.0054  0.0105  0.0110  0.0015  0.0072  0.0048   \n",
       "\n",
       "       58      59  60  \n",
       "0  0.0090  0.0032   R  \n",
       "1  0.0052  0.0044   R  \n",
       "2  0.0095  0.0078   R  \n",
       "3  0.0040  0.0117   R  \n",
       "4  0.0107  0.0094   R  \n",
       "\n",
       "[5 rows x 61 columns]"
      ]
     },
     "execution_count": 2,
     "metadata": {},
     "output_type": "execute_result"
    }
   ],
   "source": [
    "df = pd.read_csv('sonar data.csv')\n",
    "\n",
    "df.head()"
   ]
  },
  {
   "cell_type": "markdown",
   "id": "ddae4313",
   "metadata": {
    "papermill": {
     "duration": 0.007725,
     "end_time": "2022-12-08T08:29:19.238996",
     "exception": false,
     "start_time": "2022-12-08T08:29:19.231271",
     "status": "completed"
    },
    "tags": []
   },
   "source": [
    "#  Check the Data"
   ]
  },
  {
   "cell_type": "code",
   "execution_count": 3,
   "id": "91cd35dd",
   "metadata": {
    "execution": {
     "iopub.execute_input": "2022-12-08T08:29:19.257102Z",
     "iopub.status.busy": "2022-12-08T08:29:19.256476Z",
     "iopub.status.idle": "2022-12-08T08:29:19.263684Z",
     "shell.execute_reply": "2022-12-08T08:29:19.262039Z"
    },
    "papermill": {
     "duration": 0.019406,
     "end_time": "2022-12-08T08:29:19.266307",
     "exception": false,
     "start_time": "2022-12-08T08:29:19.246901",
     "status": "completed"
    },
    "tags": []
   },
   "outputs": [
    {
     "name": "stdout",
     "output_type": "stream",
     "text": [
      "No, of Rows in df :  208\n",
      "No, of Columns in df :  61\n"
     ]
    }
   ],
   "source": [
    "print(\"No, of Rows in df : \", df.shape[0])\n",
    "print(\"No, of Columns in df : \", df.shape[1])"
   ]
  },
  {
   "cell_type": "code",
   "execution_count": 4,
   "id": "788bd5ae",
   "metadata": {
    "execution": {
     "iopub.execute_input": "2022-12-08T08:29:19.285672Z",
     "iopub.status.busy": "2022-12-08T08:29:19.285283Z",
     "iopub.status.idle": "2022-12-08T08:29:19.293588Z",
     "shell.execute_reply": "2022-12-08T08:29:19.292122Z"
    },
    "papermill": {
     "duration": 0.021267,
     "end_time": "2022-12-08T08:29:19.296562",
     "exception": false,
     "start_time": "2022-12-08T08:29:19.275295",
     "status": "completed"
    },
    "tags": []
   },
   "outputs": [
    {
     "name": "stdout",
     "output_type": "stream",
     "text": [
      "Total null values in our Dataset is:  0\n"
     ]
    }
   ],
   "source": [
    "print(\"Total null values in our Dataset is: \", df.isnull().sum().sum())"
   ]
  },
  {
   "cell_type": "code",
   "execution_count": 5,
   "id": "903a1fbe",
   "metadata": {
    "execution": {
     "iopub.execute_input": "2022-12-08T08:29:19.317082Z",
     "iopub.status.busy": "2022-12-08T08:29:19.316500Z",
     "iopub.status.idle": "2022-12-08T08:29:19.326360Z",
     "shell.execute_reply": "2022-12-08T08:29:19.325064Z"
    },
    "papermill": {
     "duration": 0.022322,
     "end_time": "2022-12-08T08:29:19.329212",
     "exception": false,
     "start_time": "2022-12-08T08:29:19.306890",
     "status": "completed"
    },
    "tags": []
   },
   "outputs": [
    {
     "data": {
      "text/plain": [
       "Int64Index([ 0,  1,  2,  3,  4,  5,  6,  7,  8,  9, 10, 11, 12, 13, 14, 15, 16,\n",
       "            17, 18, 19, 20, 21, 22, 23, 24, 25, 26, 27, 28, 29, 30, 31, 32, 33,\n",
       "            34, 35, 36, 37, 38, 39, 40, 41, 42, 43, 44, 45, 46, 47, 48, 49, 50,\n",
       "            51, 52, 53, 54, 55, 56, 57, 58, 59, 60],\n",
       "           dtype='int64')"
      ]
     },
     "execution_count": 5,
     "metadata": {},
     "output_type": "execute_result"
    }
   ],
   "source": [
    "df.columns"
   ]
  },
  {
   "cell_type": "code",
   "execution_count": 6,
   "id": "1c8dc05e",
   "metadata": {
    "execution": {
     "iopub.execute_input": "2022-12-08T08:29:19.348715Z",
     "iopub.status.busy": "2022-12-08T08:29:19.348335Z",
     "iopub.status.idle": "2022-12-08T08:29:19.354706Z",
     "shell.execute_reply": "2022-12-08T08:29:19.353368Z"
    },
    "papermill": {
     "duration": 0.019144,
     "end_time": "2022-12-08T08:29:19.357194",
     "exception": false,
     "start_time": "2022-12-08T08:29:19.338050",
     "status": "completed"
    },
    "tags": []
   },
   "outputs": [],
   "source": [
    "df = df.rename(columns= {60:'output'})"
   ]
  },
  {
   "cell_type": "code",
   "execution_count": 7,
   "id": "52e05662",
   "metadata": {
    "execution": {
     "iopub.execute_input": "2022-12-08T08:29:19.377860Z",
     "iopub.status.busy": "2022-12-08T08:29:19.377459Z",
     "iopub.status.idle": "2022-12-08T08:29:19.388636Z",
     "shell.execute_reply": "2022-12-08T08:29:19.387276Z"
    },
    "papermill": {
     "duration": 0.024474,
     "end_time": "2022-12-08T08:29:19.391421",
     "exception": false,
     "start_time": "2022-12-08T08:29:19.366947",
     "status": "completed"
    },
    "tags": []
   },
   "outputs": [
    {
     "name": "stdout",
     "output_type": "stream",
     "text": [
      "Number of Mine data is:  111\n",
      "Number of Rock data is:  97\n"
     ]
    }
   ],
   "source": [
    "print(\"Number of Mine data is: \", df['output'].value_counts()[0])\n",
    "print(\"Number of Rock data is: \", df['output'].value_counts()[1])"
   ]
  },
  {
   "cell_type": "markdown",
   "id": "fb02b8d9",
   "metadata": {
    "papermill": {
     "duration": 0.008757,
     "end_time": "2022-12-08T08:29:19.443351",
     "exception": false,
     "start_time": "2022-12-08T08:29:19.434594",
     "status": "completed"
    },
    "tags": []
   },
   "source": [
    "# Feature Selection"
   ]
  },
  {
   "cell_type": "code",
   "execution_count": 8,
   "id": "a01aa566",
   "metadata": {
    "execution": {
     "iopub.execute_input": "2022-12-08T08:29:19.479091Z",
     "iopub.status.busy": "2022-12-08T08:29:19.478328Z",
     "iopub.status.idle": "2022-12-08T08:29:19.485184Z",
     "shell.execute_reply": "2022-12-08T08:29:19.484265Z"
    },
    "papermill": {
     "duration": 0.019504,
     "end_time": "2022-12-08T08:29:19.487686",
     "exception": false,
     "start_time": "2022-12-08T08:29:19.468182",
     "status": "completed"
    },
    "tags": []
   },
   "outputs": [],
   "source": [
    "X = df.drop('output', axis=1)\n",
    "y = df['output']"
   ]
  },
  {
   "cell_type": "code",
   "execution_count": 9,
   "id": "e0cf64ac",
   "metadata": {
    "execution": {
     "iopub.execute_input": "2022-12-08T08:29:19.507313Z",
     "iopub.status.busy": "2022-12-08T08:29:19.506550Z",
     "iopub.status.idle": "2022-12-08T08:29:19.520046Z",
     "shell.execute_reply": "2022-12-08T08:29:19.518665Z"
    },
    "papermill": {
     "duration": 0.02658,
     "end_time": "2022-12-08T08:29:19.522771",
     "exception": false,
     "start_time": "2022-12-08T08:29:19.496191",
     "status": "completed"
    },
    "tags": []
   },
   "outputs": [
    {
     "data": {
      "text/html": [
       "<div>\n",
       "<style scoped>\n",
       "    .dataframe tbody tr th:only-of-type {\n",
       "        vertical-align: middle;\n",
       "    }\n",
       "\n",
       "    .dataframe tbody tr th {\n",
       "        vertical-align: top;\n",
       "    }\n",
       "\n",
       "    .dataframe thead th {\n",
       "        text-align: right;\n",
       "    }\n",
       "</style>\n",
       "<table border=\"1\" class=\"dataframe\">\n",
       "  <thead>\n",
       "    <tr style=\"text-align: right;\">\n",
       "      <th></th>\n",
       "      <th>R</th>\n",
       "    </tr>\n",
       "  </thead>\n",
       "  <tbody>\n",
       "    <tr>\n",
       "      <th>0</th>\n",
       "      <td>1</td>\n",
       "    </tr>\n",
       "    <tr>\n",
       "      <th>1</th>\n",
       "      <td>1</td>\n",
       "    </tr>\n",
       "    <tr>\n",
       "      <th>2</th>\n",
       "      <td>1</td>\n",
       "    </tr>\n",
       "    <tr>\n",
       "      <th>3</th>\n",
       "      <td>1</td>\n",
       "    </tr>\n",
       "    <tr>\n",
       "      <th>4</th>\n",
       "      <td>1</td>\n",
       "    </tr>\n",
       "  </tbody>\n",
       "</table>\n",
       "</div>"
      ],
      "text/plain": [
       "   R\n",
       "0  1\n",
       "1  1\n",
       "2  1\n",
       "3  1\n",
       "4  1"
      ]
     },
     "execution_count": 9,
     "metadata": {},
     "output_type": "execute_result"
    }
   ],
   "source": [
    "y = pd.get_dummies(y, drop_first= True)\n",
    "y.head()"
   ]
  },
  {
   "cell_type": "markdown",
   "id": "6035e6ab",
   "metadata": {
    "papermill": {
     "duration": 0.008286,
     "end_time": "2022-12-08T08:29:19.539569",
     "exception": false,
     "start_time": "2022-12-08T08:29:19.531283",
     "status": "completed"
    },
    "tags": []
   },
   "source": [
    "# Data splitting"
   ]
  },
  {
   "cell_type": "code",
   "execution_count": 10,
   "id": "ac095eac",
   "metadata": {
    "execution": {
     "iopub.execute_input": "2022-12-08T08:29:19.558824Z",
     "iopub.status.busy": "2022-12-08T08:29:19.558442Z",
     "iopub.status.idle": "2022-12-08T08:29:19.565944Z",
     "shell.execute_reply": "2022-12-08T08:29:19.564916Z"
    },
    "papermill": {
     "duration": 0.019803,
     "end_time": "2022-12-08T08:29:19.568236",
     "exception": false,
     "start_time": "2022-12-08T08:29:19.548433",
     "status": "completed"
    },
    "tags": []
   },
   "outputs": [],
   "source": [
    "X_train, X_test, y_train, y_test = train_test_split(\n",
    "    X, y, test_size=0.2, random_state=10)"
   ]
  },
  {
   "cell_type": "code",
   "execution_count": 11,
   "id": "39834376",
   "metadata": {
    "execution": {
     "iopub.execute_input": "2022-12-08T08:29:19.588885Z",
     "iopub.status.busy": "2022-12-08T08:29:19.588092Z",
     "iopub.status.idle": "2022-12-08T08:29:19.596764Z",
     "shell.execute_reply": "2022-12-08T08:29:19.595194Z"
    },
    "papermill": {
     "duration": 0.022968,
     "end_time": "2022-12-08T08:29:19.599696",
     "exception": false,
     "start_time": "2022-12-08T08:29:19.576728",
     "status": "completed"
    },
    "tags": []
   },
   "outputs": [
    {
     "name": "stdout",
     "output_type": "stream",
     "text": [
      "Size of X_train:  166\n",
      "Size of X_test:  42\n",
      "Size of y_train:  166\n",
      "Size of y_test:  42\n"
     ]
    }
   ],
   "source": [
    "print(\"Size of X_train: \", len(X_train))\n",
    "print(\"Size of X_test: \", len(X_test))\n",
    "print(\"Size of y_train: \", len(y_train))\n",
    "print(\"Size of y_test: \", len(y_test))"
   ]
  },
  {
   "cell_type": "markdown",
   "id": "e858f78d",
   "metadata": {
    "papermill": {
     "duration": 0.008356,
     "end_time": "2022-12-08T08:29:19.616547",
     "exception": false,
     "start_time": "2022-12-08T08:29:19.608191",
     "status": "completed"
    },
    "tags": []
   },
   "source": [
    "# Create model architecture"
   ]
  },
  {
   "cell_type": "code",
   "execution_count": 12,
   "id": "8901a601",
   "metadata": {
    "execution": {
     "iopub.execute_input": "2022-12-08T08:29:19.637338Z",
     "iopub.status.busy": "2022-12-08T08:29:19.635770Z",
     "iopub.status.idle": "2022-12-08T08:29:21.209725Z",
     "shell.execute_reply": "2022-12-08T08:29:21.208279Z"
    },
    "papermill": {
     "duration": 1.588208,
     "end_time": "2022-12-08T08:29:21.213257",
     "exception": false,
     "start_time": "2022-12-08T08:29:19.625049",
     "status": "completed"
    },
    "tags": []
   },
   "outputs": [
    {
     "name": "stderr",
     "output_type": "stream",
     "text": [
      "2022-12-08 08:29:21.091954: I tensorflow/core/common_runtime/process_util.cc:146] Creating new thread pool with default inter op setting: 2. Tune using inter_op_parallelism_threads for best performance.\n"
     ]
    }
   ],
   "source": [
    "model  = keras.Sequential([\n",
    "    keras.layers.Dense(60, input_dim = 60, activation = 'relu'),\n",
    "    keras.layers.Dropout(0.3),\n",
    "    keras.layers.Dense(60, activation = 'relu'),\n",
    "    keras.layers.Dropout(0.3),\n",
    "    keras.layers.Dense(60, activation = 'relu'),\n",
    "    keras.layers.Dropout(0.3),\n",
    "    keras.layers.Dense(60, activation = 'relu'),\n",
    "    keras.layers.Dropout(0.3),\n",
    "    keras.layers.Dense(1, activation = 'sigmoid')])"
   ]
  },
  {
   "cell_type": "code",
   "execution_count": 13,
   "id": "ca36190e",
   "metadata": {
    "execution": {
     "iopub.execute_input": "2022-12-08T08:29:21.234288Z",
     "iopub.status.busy": "2022-12-08T08:29:21.233851Z",
     "iopub.status.idle": "2022-12-08T08:29:21.241666Z",
     "shell.execute_reply": "2022-12-08T08:29:21.240351Z"
    },
    "papermill": {
     "duration": 0.020945,
     "end_time": "2022-12-08T08:29:21.244050",
     "exception": false,
     "start_time": "2022-12-08T08:29:21.223105",
     "status": "completed"
    },
    "tags": []
   },
   "outputs": [
    {
     "name": "stdout",
     "output_type": "stream",
     "text": [
      "Model: \"sequential\"\n",
      "_________________________________________________________________\n",
      "Layer (type)                 Output Shape              Param #   \n",
      "=================================================================\n",
      "dense (Dense)                (None, 60)                3660      \n",
      "_________________________________________________________________\n",
      "dropout (Dropout)            (None, 60)                0         \n",
      "_________________________________________________________________\n",
      "dense_1 (Dense)              (None, 60)                3660      \n",
      "_________________________________________________________________\n",
      "dropout_1 (Dropout)          (None, 60)                0         \n",
      "_________________________________________________________________\n",
      "dense_2 (Dense)              (None, 60)                3660      \n",
      "_________________________________________________________________\n",
      "dropout_2 (Dropout)          (None, 60)                0         \n",
      "_________________________________________________________________\n",
      "dense_3 (Dense)              (None, 60)                3660      \n",
      "_________________________________________________________________\n",
      "dropout_3 (Dropout)          (None, 60)                0         \n",
      "_________________________________________________________________\n",
      "dense_4 (Dense)              (None, 1)                 61        \n",
      "=================================================================\n",
      "Total params: 14,701\n",
      "Trainable params: 14,701\n",
      "Non-trainable params: 0\n",
      "_________________________________________________________________\n"
     ]
    }
   ],
   "source": [
    "model.summary()"
   ]
  },
  {
   "cell_type": "code",
   "execution_count": 14,
   "id": "f3d15ded",
   "metadata": {
    "execution": {
     "iopub.execute_input": "2022-12-08T08:29:21.264440Z",
     "iopub.status.busy": "2022-12-08T08:29:21.264024Z",
     "iopub.status.idle": "2022-12-08T08:29:21.279677Z",
     "shell.execute_reply": "2022-12-08T08:29:21.278243Z"
    },
    "papermill": {
     "duration": 0.029139,
     "end_time": "2022-12-08T08:29:21.282617",
     "exception": false,
     "start_time": "2022-12-08T08:29:21.253478",
     "status": "completed"
    },
    "tags": []
   },
   "outputs": [],
   "source": [
    "model.compile(loss ='binary_crossentropy', optimizer = 'adam', metrics=['accuracy'])"
   ]
  },
  {
   "cell_type": "markdown",
   "id": "15f595d0",
   "metadata": {
    "papermill": {
     "duration": 0.008566,
     "end_time": "2022-12-08T08:29:21.300052",
     "exception": false,
     "start_time": "2022-12-08T08:29:21.291486",
     "status": "completed"
    },
    "tags": []
   },
   "source": [
    "# Model training"
   ]
  },
  {
   "cell_type": "code",
   "execution_count": 15,
   "id": "b970e975",
   "metadata": {
    "execution": {
     "iopub.execute_input": "2022-12-08T08:29:21.319722Z",
     "iopub.status.busy": "2022-12-08T08:29:21.319287Z",
     "iopub.status.idle": "2022-12-08T08:29:26.190086Z",
     "shell.execute_reply": "2022-12-08T08:29:26.188358Z"
    },
    "papermill": {
     "duration": 4.884212,
     "end_time": "2022-12-08T08:29:26.193294",
     "exception": false,
     "start_time": "2022-12-08T08:29:21.309082",
     "status": "completed"
    },
    "tags": []
   },
   "outputs": [
    {
     "name": "stderr",
     "output_type": "stream",
     "text": [
      "2022-12-08 08:29:21.433481: I tensorflow/compiler/mlir/mlir_graph_optimization_pass.cc:185] None of the MLIR Optimization Passes are enabled (registered 2)\n"
     ]
    },
    {
     "name": "stdout",
     "output_type": "stream",
     "text": [
      "Epoch 1/100\n",
      "11/11 [==============================] - 1s 3ms/step - loss: 0.6859 - accuracy: 0.5241\n",
      "Epoch 2/100\n",
      "11/11 [==============================] - 0s 3ms/step - loss: 0.6844 - accuracy: 0.5904\n",
      "Epoch 3/100\n",
      "11/11 [==============================] - 0s 3ms/step - loss: 0.6920 - accuracy: 0.5542\n",
      "Epoch 4/100\n",
      "11/11 [==============================] - 0s 3ms/step - loss: 0.6624 - accuracy: 0.5663\n",
      "Epoch 5/100\n",
      "11/11 [==============================] - 0s 3ms/step - loss: 0.6679 - accuracy: 0.5723\n",
      "Epoch 6/100\n",
      "11/11 [==============================] - 0s 3ms/step - loss: 0.6658 - accuracy: 0.6145\n",
      "Epoch 7/100\n",
      "11/11 [==============================] - 0s 4ms/step - loss: 0.6440 - accuracy: 0.6446\n",
      "Epoch 8/100\n",
      "11/11 [==============================] - 0s 4ms/step - loss: 0.6355 - accuracy: 0.6205\n",
      "Epoch 9/100\n",
      "11/11 [==============================] - 0s 3ms/step - loss: 0.6393 - accuracy: 0.6265\n",
      "Epoch 10/100\n",
      "11/11 [==============================] - 0s 3ms/step - loss: 0.6322 - accuracy: 0.6807\n",
      "Epoch 11/100\n",
      "11/11 [==============================] - 0s 3ms/step - loss: 0.5757 - accuracy: 0.7289\n",
      "Epoch 12/100\n",
      "11/11 [==============================] - 0s 3ms/step - loss: 0.5580 - accuracy: 0.7169\n",
      "Epoch 13/100\n",
      "11/11 [==============================] - 0s 3ms/step - loss: 0.5556 - accuracy: 0.6988\n",
      "Epoch 14/100\n",
      "11/11 [==============================] - 0s 3ms/step - loss: 0.5136 - accuracy: 0.7651\n",
      "Epoch 15/100\n",
      "11/11 [==============================] - 0s 3ms/step - loss: 0.5163 - accuracy: 0.7229\n",
      "Epoch 16/100\n",
      "11/11 [==============================] - 0s 3ms/step - loss: 0.4638 - accuracy: 0.8253\n",
      "Epoch 17/100\n",
      "11/11 [==============================] - 0s 3ms/step - loss: 0.4914 - accuracy: 0.7530\n",
      "Epoch 18/100\n",
      "11/11 [==============================] - 0s 3ms/step - loss: 0.4698 - accuracy: 0.7590\n",
      "Epoch 19/100\n",
      "11/11 [==============================] - 0s 3ms/step - loss: 0.4938 - accuracy: 0.7651\n",
      "Epoch 20/100\n",
      "11/11 [==============================] - 0s 3ms/step - loss: 0.4395 - accuracy: 0.7651\n",
      "Epoch 21/100\n",
      "11/11 [==============================] - 0s 3ms/step - loss: 0.4043 - accuracy: 0.8012\n",
      "Epoch 22/100\n",
      "11/11 [==============================] - 0s 3ms/step - loss: 0.4627 - accuracy: 0.7711\n",
      "Epoch 23/100\n",
      "11/11 [==============================] - 0s 3ms/step - loss: 0.4474 - accuracy: 0.7771\n",
      "Epoch 24/100\n",
      "11/11 [==============================] - 0s 3ms/step - loss: 0.3729 - accuracy: 0.8313\n",
      "Epoch 25/100\n",
      "11/11 [==============================] - 0s 3ms/step - loss: 0.3882 - accuracy: 0.8253\n",
      "Epoch 26/100\n",
      "11/11 [==============================] - 0s 3ms/step - loss: 0.4033 - accuracy: 0.8253\n",
      "Epoch 27/100\n",
      "11/11 [==============================] - 0s 3ms/step - loss: 0.3789 - accuracy: 0.8193\n",
      "Epoch 28/100\n",
      "11/11 [==============================] - 0s 3ms/step - loss: 0.3810 - accuracy: 0.8313\n",
      "Epoch 29/100\n",
      "11/11 [==============================] - 0s 3ms/step - loss: 0.3320 - accuracy: 0.8554\n",
      "Epoch 30/100\n",
      "11/11 [==============================] - 0s 3ms/step - loss: 0.3867 - accuracy: 0.8133\n",
      "Epoch 31/100\n",
      "11/11 [==============================] - 0s 2ms/step - loss: 0.3502 - accuracy: 0.8554\n",
      "Epoch 32/100\n",
      "11/11 [==============================] - 0s 3ms/step - loss: 0.3166 - accuracy: 0.8554\n",
      "Epoch 33/100\n",
      "11/11 [==============================] - 0s 5ms/step - loss: 0.3640 - accuracy: 0.8072\n",
      "Epoch 34/100\n",
      "11/11 [==============================] - 0s 6ms/step - loss: 0.3038 - accuracy: 0.8735\n",
      "Epoch 35/100\n",
      "11/11 [==============================] - 0s 3ms/step - loss: 0.3138 - accuracy: 0.8735\n",
      "Epoch 36/100\n",
      "11/11 [==============================] - 0s 3ms/step - loss: 0.3438 - accuracy: 0.8373\n",
      "Epoch 37/100\n",
      "11/11 [==============================] - 0s 3ms/step - loss: 0.2933 - accuracy: 0.8614\n",
      "Epoch 38/100\n",
      "11/11 [==============================] - 0s 3ms/step - loss: 0.3233 - accuracy: 0.8434\n",
      "Epoch 39/100\n",
      "11/11 [==============================] - 0s 3ms/step - loss: 0.2758 - accuracy: 0.8795\n",
      "Epoch 40/100\n",
      "11/11 [==============================] - 0s 3ms/step - loss: 0.3482 - accuracy: 0.8012\n",
      "Epoch 41/100\n",
      "11/11 [==============================] - 0s 2ms/step - loss: 0.2863 - accuracy: 0.8795\n",
      "Epoch 42/100\n",
      "11/11 [==============================] - 0s 2ms/step - loss: 0.3039 - accuracy: 0.8494\n",
      "Epoch 43/100\n",
      "11/11 [==============================] - 0s 2ms/step - loss: 0.2676 - accuracy: 0.8916\n",
      "Epoch 44/100\n",
      "11/11 [==============================] - 0s 3ms/step - loss: 0.3057 - accuracy: 0.8614\n",
      "Epoch 45/100\n",
      "11/11 [==============================] - 0s 2ms/step - loss: 0.2937 - accuracy: 0.8735\n",
      "Epoch 46/100\n",
      "11/11 [==============================] - 0s 2ms/step - loss: 0.2222 - accuracy: 0.9398\n",
      "Epoch 47/100\n",
      "11/11 [==============================] - 0s 3ms/step - loss: 0.2692 - accuracy: 0.8735\n",
      "Epoch 48/100\n",
      "11/11 [==============================] - 0s 3ms/step - loss: 0.2487 - accuracy: 0.8855\n",
      "Epoch 49/100\n",
      "11/11 [==============================] - 0s 2ms/step - loss: 0.2596 - accuracy: 0.8976\n",
      "Epoch 50/100\n",
      "11/11 [==============================] - 0s 3ms/step - loss: 0.2286 - accuracy: 0.9036\n",
      "Epoch 51/100\n",
      "11/11 [==============================] - 0s 3ms/step - loss: 0.2078 - accuracy: 0.9036\n",
      "Epoch 52/100\n",
      "11/11 [==============================] - 0s 2ms/step - loss: 0.2100 - accuracy: 0.9036\n",
      "Epoch 53/100\n",
      "11/11 [==============================] - 0s 3ms/step - loss: 0.1976 - accuracy: 0.9096\n",
      "Epoch 54/100\n",
      "11/11 [==============================] - 0s 2ms/step - loss: 0.2116 - accuracy: 0.9036\n",
      "Epoch 55/100\n",
      "11/11 [==============================] - 0s 2ms/step - loss: 0.1792 - accuracy: 0.9337\n",
      "Epoch 56/100\n",
      "11/11 [==============================] - 0s 3ms/step - loss: 0.1788 - accuracy: 0.9398\n",
      "Epoch 57/100\n",
      "11/11 [==============================] - 0s 3ms/step - loss: 0.1849 - accuracy: 0.9217\n",
      "Epoch 58/100\n",
      "11/11 [==============================] - 0s 2ms/step - loss: 0.2206 - accuracy: 0.9096\n",
      "Epoch 59/100\n",
      "11/11 [==============================] - 0s 3ms/step - loss: 0.2438 - accuracy: 0.9036\n",
      "Epoch 60/100\n",
      "11/11 [==============================] - 0s 3ms/step - loss: 0.2313 - accuracy: 0.9157\n",
      "Epoch 61/100\n",
      "11/11 [==============================] - 0s 2ms/step - loss: 0.2083 - accuracy: 0.9217\n",
      "Epoch 62/100\n",
      "11/11 [==============================] - 0s 2ms/step - loss: 0.2183 - accuracy: 0.9036\n",
      "Epoch 63/100\n",
      "11/11 [==============================] - 0s 3ms/step - loss: 0.2154 - accuracy: 0.9217\n",
      "Epoch 64/100\n",
      "11/11 [==============================] - 0s 3ms/step - loss: 0.2114 - accuracy: 0.9277\n",
      "Epoch 65/100\n",
      "11/11 [==============================] - 0s 3ms/step - loss: 0.2024 - accuracy: 0.9096\n",
      "Epoch 66/100\n",
      "11/11 [==============================] - 0s 3ms/step - loss: 0.1703 - accuracy: 0.9277\n",
      "Epoch 67/100\n",
      "11/11 [==============================] - 0s 3ms/step - loss: 0.1826 - accuracy: 0.9277\n",
      "Epoch 68/100\n",
      "11/11 [==============================] - 0s 2ms/step - loss: 0.1699 - accuracy: 0.9337\n",
      "Epoch 69/100\n",
      "11/11 [==============================] - 0s 3ms/step - loss: 0.1899 - accuracy: 0.9337\n",
      "Epoch 70/100\n",
      "11/11 [==============================] - 0s 2ms/step - loss: 0.1556 - accuracy: 0.9337\n",
      "Epoch 71/100\n",
      "11/11 [==============================] - 0s 2ms/step - loss: 0.1690 - accuracy: 0.9096\n",
      "Epoch 72/100\n",
      "11/11 [==============================] - 0s 2ms/step - loss: 0.1426 - accuracy: 0.9458\n",
      "Epoch 73/100\n",
      "11/11 [==============================] - 0s 3ms/step - loss: 0.1534 - accuracy: 0.9398\n",
      "Epoch 74/100\n",
      "11/11 [==============================] - 0s 3ms/step - loss: 0.1624 - accuracy: 0.9398\n",
      "Epoch 75/100\n",
      "11/11 [==============================] - 0s 2ms/step - loss: 0.2309 - accuracy: 0.8916\n",
      "Epoch 76/100\n",
      "11/11 [==============================] - 0s 2ms/step - loss: 0.1999 - accuracy: 0.9096\n",
      "Epoch 77/100\n",
      "11/11 [==============================] - 0s 2ms/step - loss: 0.1291 - accuracy: 0.9639\n",
      "Epoch 78/100\n",
      "11/11 [==============================] - 0s 3ms/step - loss: 0.1533 - accuracy: 0.9578\n",
      "Epoch 79/100\n",
      "11/11 [==============================] - 0s 3ms/step - loss: 0.0901 - accuracy: 0.9759\n",
      "Epoch 80/100\n",
      "11/11 [==============================] - 0s 3ms/step - loss: 0.1229 - accuracy: 0.9639\n",
      "Epoch 81/100\n",
      "11/11 [==============================] - 0s 3ms/step - loss: 0.1441 - accuracy: 0.9337\n",
      "Epoch 82/100\n",
      "11/11 [==============================] - 0s 3ms/step - loss: 0.0988 - accuracy: 0.9699\n",
      "Epoch 83/100\n",
      "11/11 [==============================] - 0s 3ms/step - loss: 0.1500 - accuracy: 0.9217\n",
      "Epoch 84/100\n",
      "11/11 [==============================] - 0s 3ms/step - loss: 0.1251 - accuracy: 0.9518\n",
      "Epoch 85/100\n",
      "11/11 [==============================] - 0s 3ms/step - loss: 0.1360 - accuracy: 0.9518\n",
      "Epoch 86/100\n",
      "11/11 [==============================] - 0s 3ms/step - loss: 0.1268 - accuracy: 0.9518\n",
      "Epoch 87/100\n",
      "11/11 [==============================] - 0s 3ms/step - loss: 0.1452 - accuracy: 0.9398\n",
      "Epoch 88/100\n",
      "11/11 [==============================] - 0s 3ms/step - loss: 0.1215 - accuracy: 0.9699\n",
      "Epoch 89/100\n",
      "11/11 [==============================] - 0s 3ms/step - loss: 0.1016 - accuracy: 0.9759\n",
      "Epoch 90/100\n",
      "11/11 [==============================] - 0s 3ms/step - loss: 0.0954 - accuracy: 0.9578\n",
      "Epoch 91/100\n",
      "11/11 [==============================] - 0s 3ms/step - loss: 0.0678 - accuracy: 0.9759\n",
      "Epoch 92/100\n",
      "11/11 [==============================] - 0s 3ms/step - loss: 0.0917 - accuracy: 0.9578\n",
      "Epoch 93/100\n",
      "11/11 [==============================] - 0s 2ms/step - loss: 0.1166 - accuracy: 0.9458\n",
      "Epoch 94/100\n",
      "11/11 [==============================] - 0s 3ms/step - loss: 0.1117 - accuracy: 0.9518\n",
      "Epoch 95/100\n",
      "11/11 [==============================] - 0s 3ms/step - loss: 0.0871 - accuracy: 0.9699\n",
      "Epoch 96/100\n",
      "11/11 [==============================] - 0s 3ms/step - loss: 0.0724 - accuracy: 0.9699\n",
      "Epoch 97/100\n",
      "11/11 [==============================] - 0s 3ms/step - loss: 0.1510 - accuracy: 0.9578\n",
      "Epoch 98/100\n",
      "11/11 [==============================] - 0s 3ms/step - loss: 0.0710 - accuracy: 0.9819\n",
      "Epoch 99/100\n",
      "11/11 [==============================] - 0s 3ms/step - loss: 0.1071 - accuracy: 0.9518\n",
      "Epoch 100/100\n",
      "11/11 [==============================] - 0s 3ms/step - loss: 0.0770 - accuracy: 0.9639\n"
     ]
    },
    {
     "data": {
      "text/plain": [
       "<keras.callbacks.History at 0x7f241fb01610>"
      ]
     },
     "execution_count": 15,
     "metadata": {},
     "output_type": "execute_result"
    }
   ],
   "source": [
    "model.fit(X_train, y_train, epochs=100, batch_size=16)"
   ]
  },
  {
   "cell_type": "markdown",
   "id": "f321f9e6",
   "metadata": {
    "papermill": {
     "duration": 0.023098,
     "end_time": "2022-12-08T08:29:26.239864",
     "exception": false,
     "start_time": "2022-12-08T08:29:26.216766",
     "status": "completed"
    },
    "tags": []
   },
   "source": [
    "# Model Evaluations"
   ]
  },
  {
   "cell_type": "code",
   "execution_count": 16,
   "id": "d5fd95b9",
   "metadata": {
    "execution": {
     "iopub.execute_input": "2022-12-08T08:29:26.287752Z",
     "iopub.status.busy": "2022-12-08T08:29:26.287210Z",
     "iopub.status.idle": "2022-12-08T08:29:26.583712Z",
     "shell.execute_reply": "2022-12-08T08:29:26.582490Z"
    },
    "papermill": {
     "duration": 0.323685,
     "end_time": "2022-12-08T08:29:26.586510",
     "exception": false,
     "start_time": "2022-12-08T08:29:26.262825",
     "status": "completed"
    },
    "tags": []
   },
   "outputs": [
    {
     "name": "stdout",
     "output_type": "stream",
     "text": [
      "2/2 [==============================] - 0s 7ms/step - loss: 0.9934 - accuracy: 0.7857\n"
     ]
    },
    {
     "data": {
      "text/plain": [
       "[0.9933953285217285, 0.7857142686843872]"
      ]
     },
     "execution_count": 16,
     "metadata": {},
     "output_type": "execute_result"
    }
   ],
   "source": [
    "model.evaluate(X_test,y_test)"
   ]
  },
  {
   "cell_type": "code",
   "execution_count": 17,
   "id": "23101fae",
   "metadata": {
    "execution": {
     "iopub.execute_input": "2022-12-08T08:29:26.636310Z",
     "iopub.status.busy": "2022-12-08T08:29:26.635879Z",
     "iopub.status.idle": "2022-12-08T08:29:26.830424Z",
     "shell.execute_reply": "2022-12-08T08:29:26.829111Z"
    },
    "papermill": {
     "duration": 0.223379,
     "end_time": "2022-12-08T08:29:26.833388",
     "exception": false,
     "start_time": "2022-12-08T08:29:26.610009",
     "status": "completed"
    },
    "tags": []
   },
   "outputs": [],
   "source": [
    "y_pred = model.predict(X_test)\n"
   ]
  },
  {
   "cell_type": "code",
   "execution_count": 18,
   "id": "562a6e14",
   "metadata": {
    "execution": {
     "iopub.execute_input": "2022-12-08T08:29:26.930076Z",
     "iopub.status.busy": "2022-12-08T08:29:26.929624Z",
     "iopub.status.idle": "2022-12-08T08:29:26.934791Z",
     "shell.execute_reply": "2022-12-08T08:29:26.933590Z"
    },
    "papermill": {
     "duration": 0.035122,
     "end_time": "2022-12-08T08:29:26.938288",
     "exception": false,
     "start_time": "2022-12-08T08:29:26.903166",
     "status": "completed"
    },
    "tags": []
   },
   "outputs": [],
   "source": [
    "y_pred = np.round(y_pred)"
   ]
  },
  {
   "cell_type": "code",
   "execution_count": 19,
   "id": "4d2e2fd4",
   "metadata": {
    "execution": {
     "iopub.execute_input": "2022-12-08T08:29:26.992111Z",
     "iopub.status.busy": "2022-12-08T08:29:26.989801Z",
     "iopub.status.idle": "2022-12-08T08:29:27.005835Z",
     "shell.execute_reply": "2022-12-08T08:29:27.004004Z"
    },
    "papermill": {
     "duration": 0.046366,
     "end_time": "2022-12-08T08:29:27.009784",
     "exception": false,
     "start_time": "2022-12-08T08:29:26.963418",
     "status": "completed"
    },
    "tags": []
   },
   "outputs": [
    {
     "name": "stdout",
     "output_type": "stream",
     "text": [
      "              precision    recall  f1-score   support\n",
      "\n",
      "           0       0.74      0.78      0.76        18\n",
      "           1       0.83      0.79      0.81        24\n",
      "\n",
      "    accuracy                           0.79        42\n",
      "   macro avg       0.78      0.78      0.78        42\n",
      "weighted avg       0.79      0.79      0.79        42\n",
      "\n"
     ]
    }
   ],
   "source": [
    "print(classification_report(y_test, y_pred))"
   ]
  },
  {
   "cell_type": "code",
   "execution_count": null,
   "id": "9e514950",
   "metadata": {
    "papermill": {
     "duration": 0.023275,
     "end_time": "2022-12-08T08:29:27.058327",
     "exception": false,
     "start_time": "2022-12-08T08:29:27.035052",
     "status": "completed"
    },
    "tags": []
   },
   "outputs": [],
   "source": []
  }
 ],
 "metadata": {
  "kernelspec": {
   "display_name": "Python 3 (ipykernel)",
   "language": "python",
   "name": "python3"
  },
  "language_info": {
   "codemirror_mode": {
    "name": "ipython",
    "version": 3
   },
   "file_extension": ".py",
   "mimetype": "text/x-python",
   "name": "python",
   "nbconvert_exporter": "python",
   "pygments_lexer": "ipython3",
   "version": "3.9.7"
  },
  "papermill": {
   "default_parameters": {},
   "duration": 29.308799,
   "end_time": "2022-12-08T08:29:30.488406",
   "environment_variables": {},
   "exception": null,
   "input_path": "__notebook__.ipynb",
   "output_path": "__notebook__.ipynb",
   "parameters": {},
   "start_time": "2022-12-08T08:29:01.179607",
   "version": "2.3.4"
  }
 },
 "nbformat": 4,
 "nbformat_minor": 5
}
