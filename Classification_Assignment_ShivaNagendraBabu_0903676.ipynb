{
 "cells": [
  {
   "cell_type": "markdown",
   "metadata": {},
   "source": [
    "# Classification - Fifa Dataset\n",
    "## Name - Shiva Nagendra Babu \n",
    "## ID- 0903676"
   ]
  },
  {
   "cell_type": "code",
   "execution_count": 1,
   "metadata": {},
   "outputs": [],
   "source": [
    "# Importing the Important Libraries for classification\n",
    "# Data visualization\n",
    "import pandas as pd \n",
    "import numpy as np\n",
    "import seaborn as sns\n",
    "from matplotlib import pyplot as plt\n",
    "\n",
    "# Tensorflow & Keras\n",
    "from tensorflow.keras.layers import Dense, Input\n",
    "from tensorflow.keras.models import Model\n",
    "from tensorflow.keras.layers import Dense\n",
    "from tensorflow.keras.optimizers import Adam\n",
    "from tensorflow.keras.utils import to_categorical\n",
    "from tensorflow.keras.layers import Dense, Dropout\n",
    "\n",
    "# Train-Test\n",
    "from sklearn.model_selection import train_test_split\n",
    "\n",
    "# Scaling data\n",
    "from sklearn.preprocessing import StandardScaler\n",
    "\n",
    "# Classification Report\n",
    "from sklearn.metrics import classification_report, confusion_matrix\n"
   ]
  },
  {
   "cell_type": "markdown",
   "metadata": {},
   "source": [
    "## Read the Dataset"
   ]
  },
  {
   "cell_type": "code",
   "execution_count": 2,
   "metadata": {},
   "outputs": [
    {
     "name": "stderr",
     "output_type": "stream",
     "text": [
      "C:\\Users\\shiva\\AppData\\Local\\Temp\\ipykernel_15988\\766921812.py:1: DtypeWarning: Columns (78) have mixed types. Specify dtype option on import or set low_memory=False.\n",
      "  fifa = pd.read_csv(\"fifa.csv\")\n"
     ]
    },
    {
     "data": {
      "text/html": [
       "<div>\n",
       "<style scoped>\n",
       "    .dataframe tbody tr th:only-of-type {\n",
       "        vertical-align: middle;\n",
       "    }\n",
       "\n",
       "    .dataframe tbody tr th {\n",
       "        vertical-align: top;\n",
       "    }\n",
       "\n",
       "    .dataframe thead th {\n",
       "        text-align: right;\n",
       "    }\n",
       "</style>\n",
       "<table border=\"1\" class=\"dataframe\">\n",
       "  <thead>\n",
       "    <tr style=\"text-align: right;\">\n",
       "      <th></th>\n",
       "      <th>ID</th>\n",
       "      <th>Name</th>\n",
       "      <th>Age</th>\n",
       "      <th>OVA</th>\n",
       "      <th>Nationality</th>\n",
       "      <th>Club</th>\n",
       "      <th>BOV</th>\n",
       "      <th>BP</th>\n",
       "      <th>Position</th>\n",
       "      <th>Player Photo</th>\n",
       "      <th>...</th>\n",
       "      <th>CDM</th>\n",
       "      <th>RDM</th>\n",
       "      <th>RWB</th>\n",
       "      <th>LB</th>\n",
       "      <th>LCB</th>\n",
       "      <th>CB</th>\n",
       "      <th>RCB</th>\n",
       "      <th>RB</th>\n",
       "      <th>GK</th>\n",
       "      <th>Gender</th>\n",
       "    </tr>\n",
       "  </thead>\n",
       "  <tbody>\n",
       "    <tr>\n",
       "      <th>0</th>\n",
       "      <td>2</td>\n",
       "      <td>G. Pasquale</td>\n",
       "      <td>33</td>\n",
       "      <td>69</td>\n",
       "      <td>Italy</td>\n",
       "      <td>Udinese</td>\n",
       "      <td>71</td>\n",
       "      <td>LWB</td>\n",
       "      <td>LM</td>\n",
       "      <td>https://cdn.sofifa.com/players/000/002/16_120.png</td>\n",
       "      <td>...</td>\n",
       "      <td>70+-1</td>\n",
       "      <td>70+-1</td>\n",
       "      <td>71+-2</td>\n",
       "      <td>70+-1</td>\n",
       "      <td>69+0</td>\n",
       "      <td>69+0</td>\n",
       "      <td>69+0</td>\n",
       "      <td>70+-1</td>\n",
       "      <td>17+0</td>\n",
       "      <td>Male</td>\n",
       "    </tr>\n",
       "    <tr>\n",
       "      <th>1</th>\n",
       "      <td>16</td>\n",
       "      <td>Luis García</td>\n",
       "      <td>37</td>\n",
       "      <td>71</td>\n",
       "      <td>Spain</td>\n",
       "      <td>KAS Eupen</td>\n",
       "      <td>70</td>\n",
       "      <td>CM</td>\n",
       "      <td>CM CAM CDM</td>\n",
       "      <td>https://cdn.sofifa.com/players/000/016/19_120.png</td>\n",
       "      <td>...</td>\n",
       "      <td>66+1</td>\n",
       "      <td>66+1</td>\n",
       "      <td>62+1</td>\n",
       "      <td>60+1</td>\n",
       "      <td>60+1</td>\n",
       "      <td>60+1</td>\n",
       "      <td>60+1</td>\n",
       "      <td>60+1</td>\n",
       "      <td>17+1</td>\n",
       "      <td>Male</td>\n",
       "    </tr>\n",
       "    <tr>\n",
       "      <th>2</th>\n",
       "      <td>27</td>\n",
       "      <td>J. Cole</td>\n",
       "      <td>33</td>\n",
       "      <td>71</td>\n",
       "      <td>England</td>\n",
       "      <td>Coventry City</td>\n",
       "      <td>71</td>\n",
       "      <td>CAM</td>\n",
       "      <td>CAM RM RW LM</td>\n",
       "      <td>https://cdn.sofifa.com/players/000/027/16_120.png</td>\n",
       "      <td>...</td>\n",
       "      <td>54+0</td>\n",
       "      <td>54+0</td>\n",
       "      <td>52+0</td>\n",
       "      <td>47+0</td>\n",
       "      <td>46+0</td>\n",
       "      <td>46+0</td>\n",
       "      <td>46+0</td>\n",
       "      <td>47+0</td>\n",
       "      <td>15+0</td>\n",
       "      <td>Male</td>\n",
       "    </tr>\n",
       "    <tr>\n",
       "      <th>3</th>\n",
       "      <td>36</td>\n",
       "      <td>D. Yorke</td>\n",
       "      <td>36</td>\n",
       "      <td>68</td>\n",
       "      <td>Trinidad &amp;amp; Tobago</td>\n",
       "      <td>Sunderland</td>\n",
       "      <td>70</td>\n",
       "      <td>ST</td>\n",
       "      <td>NaN</td>\n",
       "      <td>https://cdn.sofifa.com/players/000/036/09_120.png</td>\n",
       "      <td>...</td>\n",
       "      <td>65+0</td>\n",
       "      <td>65+0</td>\n",
       "      <td>56+0</td>\n",
       "      <td>57+0</td>\n",
       "      <td>51+0</td>\n",
       "      <td>51+0</td>\n",
       "      <td>51+0</td>\n",
       "      <td>57+0</td>\n",
       "      <td>22+0</td>\n",
       "      <td>Male</td>\n",
       "    </tr>\n",
       "    <tr>\n",
       "      <th>4</th>\n",
       "      <td>41</td>\n",
       "      <td>Iniesta</td>\n",
       "      <td>36</td>\n",
       "      <td>81</td>\n",
       "      <td>Spain</td>\n",
       "      <td>Vissel Kobe</td>\n",
       "      <td>82</td>\n",
       "      <td>CAM</td>\n",
       "      <td>CM CAM</td>\n",
       "      <td>https://cdn.sofifa.com/players/000/041/20_120.png</td>\n",
       "      <td>...</td>\n",
       "      <td>73+3</td>\n",
       "      <td>73+3</td>\n",
       "      <td>70+3</td>\n",
       "      <td>67+3</td>\n",
       "      <td>64+3</td>\n",
       "      <td>64+3</td>\n",
       "      <td>64+3</td>\n",
       "      <td>67+3</td>\n",
       "      <td>17+3</td>\n",
       "      <td>Male</td>\n",
       "    </tr>\n",
       "  </tbody>\n",
       "</table>\n",
       "<p>5 rows × 107 columns</p>\n",
       "</div>"
      ],
      "text/plain": [
       "   ID         Name  Age  OVA            Nationality           Club  BOV   BP  \\\n",
       "0   2  G. Pasquale   33   69                  Italy        Udinese   71  LWB   \n",
       "1  16  Luis García   37   71                  Spain      KAS Eupen   70   CM   \n",
       "2  27      J. Cole   33   71                England  Coventry City   71  CAM   \n",
       "3  36     D. Yorke   36   68  Trinidad &amp; Tobago     Sunderland   70   ST   \n",
       "4  41      Iniesta   36   81                  Spain    Vissel Kobe   82  CAM   \n",
       "\n",
       "       Position                                       Player Photo  ...  \\\n",
       "0            LM  https://cdn.sofifa.com/players/000/002/16_120.png  ...   \n",
       "1    CM CAM CDM  https://cdn.sofifa.com/players/000/016/19_120.png  ...   \n",
       "2  CAM RM RW LM  https://cdn.sofifa.com/players/000/027/16_120.png  ...   \n",
       "3           NaN  https://cdn.sofifa.com/players/000/036/09_120.png  ...   \n",
       "4        CM CAM  https://cdn.sofifa.com/players/000/041/20_120.png  ...   \n",
       "\n",
       "     CDM    RDM    RWB     LB   LCB    CB   RCB     RB    GK Gender  \n",
       "0  70+-1  70+-1  71+-2  70+-1  69+0  69+0  69+0  70+-1  17+0   Male  \n",
       "1   66+1   66+1   62+1   60+1  60+1  60+1  60+1   60+1  17+1   Male  \n",
       "2   54+0   54+0   52+0   47+0  46+0  46+0  46+0   47+0  15+0   Male  \n",
       "3   65+0   65+0   56+0   57+0  51+0  51+0  51+0   57+0  22+0   Male  \n",
       "4   73+3   73+3   70+3   67+3  64+3  64+3  64+3   67+3  17+3   Male  \n",
       "\n",
       "[5 rows x 107 columns]"
      ]
     },
     "execution_count": 2,
     "metadata": {},
     "output_type": "execute_result"
    }
   ],
   "source": [
    "fifa = pd.read_csv(\"fifa.csv\")\n",
    "fifa.head()"
   ]
  },
  {
   "cell_type": "markdown",
   "metadata": {},
   "source": [
    "## Data Cleaning"
   ]
  },
  {
   "cell_type": "code",
   "execution_count": 3,
   "metadata": {},
   "outputs": [
    {
     "data": {
      "text/plain": [
       "ID             0\n",
       "Name           0\n",
       "Age            0\n",
       "OVA            0\n",
       "Nationality    0\n",
       "              ..\n",
       "CB             0\n",
       "RCB            0\n",
       "RB             0\n",
       "GK             0\n",
       "Gender         0\n",
       "Length: 107, dtype: int64"
      ]
     },
     "execution_count": 3,
     "metadata": {},
     "output_type": "execute_result"
    }
   ],
   "source": [
    "#Checking the Null Values\n",
    "fifa.isnull().sum()"
   ]
  },
  {
   "cell_type": "markdown",
   "metadata": {},
   "source": [
    "## Filter nulls - Data Transformation"
   ]
  },
  {
   "cell_type": "code",
   "execution_count": 4,
   "metadata": {},
   "outputs": [],
   "source": [
    "na = pd.notnull(fifa[\"BP\"])\n",
    "fifa = fifa[na]"
   ]
  },
  {
   "cell_type": "markdown",
   "metadata": {},
   "source": [
    "### Filter numerical features/columns and \"BP\" as target"
   ]
  },
  {
   "cell_type": "code",
   "execution_count": 5,
   "metadata": {},
   "outputs": [],
   "source": [
    "fifa = fifa[[\"BP\", 'Finishing', 'Heading Accuracy', 'Short Passing', 'Volleys', 'Dribbling',\n",
    "       'Curve', 'FK Accuracy', 'Long Passing', 'Ball Control', 'Acceleration',\n",
    "       'Sprint Speed', 'Agility', 'Reactions', 'Balance', 'Shot Power',\n",
    "       'Jumping', 'Stamina', 'Strength', 'Long Shots', 'Aggression',\n",
    "       'Interceptions', 'Positioning', 'Vision', 'Penalties', 'Composure',\n",
    "       'Marking', 'Standing Tackle', 'Sliding Tackle', 'GK Diving', 'GK Handling',\n",
    "       'GK Kicking', 'GK Positioning', 'GK Reflexes']]"
   ]
  },
  {
   "cell_type": "code",
   "execution_count": 6,
   "metadata": {},
   "outputs": [],
   "source": [
    "fifa.fillna(0, inplace=True)"
   ]
  },
  {
   "cell_type": "code",
   "execution_count": 7,
   "metadata": {},
   "outputs": [
    {
     "data": {
      "text/plain": [
       "array(['LWB', 'CM', 'CAM', 'ST', 'RW', 'CB', 'CF', 'GK', 'CDM', 'RWB',\n",
       "       'LB', 'LM', 'RM', 'RB', 'LW'], dtype=object)"
      ]
     },
     "execution_count": 7,
     "metadata": {},
     "output_type": "execute_result"
    }
   ],
   "source": [
    "fifa[\"BP\"].unique()"
   ]
  },
  {
   "cell_type": "markdown",
   "metadata": {},
   "source": [
    "### categorizing the positions into  positions in FIFA"
   ]
  },
  {
   "cell_type": "code",
   "execution_count": 8,
   "metadata": {},
   "outputs": [],
   "source": [
    "forward_player = [\"ST\", \"LW\", \"RW\", \"LF\", \"RF\", \"RS\",\"LS\", \"CF\"]\n",
    "midfielder_player = [\"CM\",\"RCM\",\"LCM\", \"CDM\",\"RDM\",\"LDM\", \"CAM\", \"LAM\", \"RAM\", \"RM\", \"LM\"]\n",
    "defender_player = [\"CB\", \"RCB\", \"LCB\", \"LWB\", \"RWB\", \"LB\", \"RB\"]\n",
    "\n",
    "fifa.loc[fifa[\"BP\"] == \"GK\", \"BP\"] = 0\n",
    "\n",
    "fifa.loc[fifa[\"BP\"].isin(defender_player), \"BP\"] = 1\n",
    "\n",
    "fifa.loc[fifa[\"BP\"].isin(midfielder_player), \"BP\"] = 2\n",
    "\n",
    "fifa.loc[fifa[\"BP\"].isin(forward_player), \"BP\"] = 3"
   ]
  },
  {
   "cell_type": "code",
   "execution_count": 9,
   "metadata": {},
   "outputs": [
    {
     "data": {
      "text/plain": [
       "array([1, 2, 3, 0], dtype=object)"
      ]
     },
     "execution_count": 9,
     "metadata": {},
     "output_type": "execute_result"
    }
   ],
   "source": [
    "fifa[\"BP\"].unique()"
   ]
  },
  {
   "cell_type": "code",
   "execution_count": 10,
   "metadata": {},
   "outputs": [],
   "source": [
    "x = fifa.drop(\"BP\", axis = 1).values\n",
    "\n",
    "sc = StandardScaler()\n",
    "x = pd.DataFrame(sc.fit_transform(x))\n",
    "\n",
    "y = fifa[\"BP\"]\n",
    "y_cat = to_categorical(y)"
   ]
  },
  {
   "cell_type": "markdown",
   "metadata": {},
   "source": [
    "###  Split the data into test and train in 30-70% ratio"
   ]
  },
  {
   "cell_type": "code",
   "execution_count": 11,
   "metadata": {},
   "outputs": [],
   "source": [
    "x_train, x_test, y_train, y_test = train_test_split(x, y_cat, test_size=0.3)"
   ]
  },
  {
   "cell_type": "markdown",
   "metadata": {},
   "source": [
    "## Build classification model"
   ]
  },
  {
   "cell_type": "code",
   "execution_count": 12,
   "metadata": {},
   "outputs": [
    {
     "name": "stdout",
     "output_type": "stream",
     "text": [
      "Model: \"model\"\n",
      "_________________________________________________________________\n",
      " Layer (type)                Output Shape              Param #   \n",
      "=================================================================\n",
      " input_1 (InputLayer)        [(None, 33)]              0         \n",
      "                                                                 \n",
      " dense (Dense)               (None, 60)                2040      \n",
      "                                                                 \n",
      " dense_1 (Dense)             (None, 15)                915       \n",
      "                                                                 \n",
      " dropout (Dropout)           (None, 15)                0         \n",
      "                                                                 \n",
      " dense_2 (Dense)             (None, 4)                 64        \n",
      "                                                                 \n",
      "=================================================================\n",
      "Total params: 3,019\n",
      "Trainable params: 3,019\n",
      "Non-trainable params: 0\n",
      "_________________________________________________________________\n"
     ]
    },
    {
     "name": "stderr",
     "output_type": "stream",
     "text": [
      "C:\\Users\\shiva\\anaconda3\\lib\\site-packages\\keras\\optimizers\\optimizer_v2\\adam.py:114: UserWarning: The `lr` argument is deprecated, use `learning_rate` instead.\n",
      "  super().__init__(name, **kwargs)\n"
     ]
    }
   ],
   "source": [
    "input_layer = Input(shape=(33,))\n",
    "dense_layer_1 = Dense(60, input_shape = (33,), activation = \"relu\")(input_layer)\n",
    "dense_layer_2 = Dense(15, activation = \"relu\")(dense_layer_1)\n",
    "dropout_layer = Dropout(0.2)(dense_layer_2)\n",
    "output_layer = Dense(4, activation = \"softmax\")(dropout_layer)\n",
    "\n",
    "model = Model(input_layer, output_layer)\n",
    "model.compile(Adam(lr = 0.01), \"categorical_crossentropy\", metrics = [\"accuracy\"])\n",
    "model.summary()"
   ]
  },
  {
   "cell_type": "markdown",
   "metadata": {},
   "source": [
    "## Train the model"
   ]
  },
  {
   "cell_type": "code",
   "execution_count": 13,
   "metadata": {},
   "outputs": [
    {
     "name": "stdout",
     "output_type": "stream",
     "text": [
      "Epoch 1/100\n",
      "188/188 [==============================] - 2s 5ms/step - loss: 0.3181 - accuracy: 0.8752 - val_loss: 0.2262 - val_accuracy: 0.9068\n",
      "Epoch 2/100\n",
      "188/188 [==============================] - 1s 4ms/step - loss: 0.2363 - accuracy: 0.9052 - val_loss: 0.2060 - val_accuracy: 0.9105\n",
      "Epoch 3/100\n",
      "188/188 [==============================] - 1s 3ms/step - loss: 0.2209 - accuracy: 0.9097 - val_loss: 0.2081 - val_accuracy: 0.9155\n",
      "Epoch 4/100\n",
      "188/188 [==============================] - 1s 3ms/step - loss: 0.2067 - accuracy: 0.9134 - val_loss: 0.2062 - val_accuracy: 0.9130\n",
      "Epoch 5/100\n",
      "188/188 [==============================] - 1s 3ms/step - loss: 0.2040 - accuracy: 0.9196 - val_loss: 0.2392 - val_accuracy: 0.9052\n",
      "Epoch 6/100\n",
      "188/188 [==============================] - 1s 3ms/step - loss: 0.2034 - accuracy: 0.9147 - val_loss: 0.2033 - val_accuracy: 0.9157\n",
      "Epoch 7/100\n",
      "188/188 [==============================] - 1s 4ms/step - loss: 0.1992 - accuracy: 0.9201 - val_loss: 0.2040 - val_accuracy: 0.9124\n",
      "Epoch 8/100\n",
      "188/188 [==============================] - 1s 3ms/step - loss: 0.1997 - accuracy: 0.9192 - val_loss: 0.2112 - val_accuracy: 0.9128\n",
      "Epoch 9/100\n",
      "188/188 [==============================] - 1s 3ms/step - loss: 0.1967 - accuracy: 0.9221 - val_loss: 0.1950 - val_accuracy: 0.9177\n",
      "Epoch 10/100\n",
      "188/188 [==============================] - 1s 3ms/step - loss: 0.1938 - accuracy: 0.9197 - val_loss: 0.1961 - val_accuracy: 0.9169\n",
      "Epoch 11/100\n",
      "188/188 [==============================] - 1s 3ms/step - loss: 0.1902 - accuracy: 0.9236 - val_loss: 0.1924 - val_accuracy: 0.9208\n",
      "Epoch 12/100\n",
      "188/188 [==============================] - 1s 4ms/step - loss: 0.1888 - accuracy: 0.9240 - val_loss: 0.1943 - val_accuracy: 0.9169\n",
      "Epoch 13/100\n",
      "188/188 [==============================] - 1s 3ms/step - loss: 0.1859 - accuracy: 0.9227 - val_loss: 0.2140 - val_accuracy: 0.9122\n",
      "Epoch 14/100\n",
      "188/188 [==============================] - 1s 3ms/step - loss: 0.1879 - accuracy: 0.9223 - val_loss: 0.2040 - val_accuracy: 0.9175\n",
      "Epoch 15/100\n",
      "188/188 [==============================] - 1s 3ms/step - loss: 0.1838 - accuracy: 0.9225 - val_loss: 0.1950 - val_accuracy: 0.9153\n",
      "Epoch 16/100\n",
      "188/188 [==============================] - 1s 3ms/step - loss: 0.1873 - accuracy: 0.9222 - val_loss: 0.2011 - val_accuracy: 0.9202\n",
      "Epoch 17/100\n",
      "188/188 [==============================] - 1s 4ms/step - loss: 0.1778 - accuracy: 0.9251 - val_loss: 0.2051 - val_accuracy: 0.9091\n",
      "Epoch 18/100\n",
      "188/188 [==============================] - 1s 3ms/step - loss: 0.1780 - accuracy: 0.9294 - val_loss: 0.1879 - val_accuracy: 0.9175\n",
      "Epoch 19/100\n",
      "188/188 [==============================] - 1s 3ms/step - loss: 0.1767 - accuracy: 0.9269 - val_loss: 0.1951 - val_accuracy: 0.9167\n",
      "Epoch 20/100\n",
      "188/188 [==============================] - 1s 3ms/step - loss: 0.1799 - accuracy: 0.9258 - val_loss: 0.1999 - val_accuracy: 0.9177\n",
      "Epoch 21/100\n",
      "188/188 [==============================] - 1s 3ms/step - loss: 0.1758 - accuracy: 0.9257 - val_loss: 0.2036 - val_accuracy: 0.9185\n",
      "Epoch 22/100\n",
      "188/188 [==============================] - 1s 3ms/step - loss: 0.1722 - accuracy: 0.9299 - val_loss: 0.1968 - val_accuracy: 0.9167\n",
      "Epoch 23/100\n",
      "188/188 [==============================] - 1s 3ms/step - loss: 0.1774 - accuracy: 0.9277 - val_loss: 0.1986 - val_accuracy: 0.9177\n",
      "Epoch 24/100\n",
      "188/188 [==============================] - 1s 3ms/step - loss: 0.1752 - accuracy: 0.9299 - val_loss: 0.2320 - val_accuracy: 0.9161\n",
      "Epoch 25/100\n",
      "188/188 [==============================] - 1s 3ms/step - loss: 0.1712 - accuracy: 0.9295 - val_loss: 0.2250 - val_accuracy: 0.9159\n",
      "Epoch 26/100\n",
      "188/188 [==============================] - 1s 3ms/step - loss: 0.1708 - accuracy: 0.9278 - val_loss: 0.2131 - val_accuracy: 0.9159\n",
      "Epoch 27/100\n",
      "188/188 [==============================] - 1s 3ms/step - loss: 0.1685 - accuracy: 0.9300 - val_loss: 0.2067 - val_accuracy: 0.9185\n",
      "Epoch 28/100\n",
      "188/188 [==============================] - 1s 3ms/step - loss: 0.1613 - accuracy: 0.9323 - val_loss: 0.2314 - val_accuracy: 0.9072\n",
      "Epoch 29/100\n",
      "188/188 [==============================] - 1s 3ms/step - loss: 0.1672 - accuracy: 0.9309 - val_loss: 0.2156 - val_accuracy: 0.9138\n",
      "Epoch 30/100\n",
      "188/188 [==============================] - 1s 3ms/step - loss: 0.1645 - accuracy: 0.9315 - val_loss: 0.2164 - val_accuracy: 0.9144\n",
      "Epoch 31/100\n",
      "188/188 [==============================] - 1s 3ms/step - loss: 0.1644 - accuracy: 0.9315 - val_loss: 0.2031 - val_accuracy: 0.9167\n",
      "Epoch 32/100\n",
      "188/188 [==============================] - 1s 3ms/step - loss: 0.1634 - accuracy: 0.9349 - val_loss: 0.2066 - val_accuracy: 0.9136\n",
      "Epoch 33/100\n",
      "188/188 [==============================] - 1s 3ms/step - loss: 0.1591 - accuracy: 0.9353 - val_loss: 0.2238 - val_accuracy: 0.9142\n",
      "Epoch 34/100\n",
      "188/188 [==============================] - 1s 3ms/step - loss: 0.1756 - accuracy: 0.9319 - val_loss: 0.2216 - val_accuracy: 0.9136\n",
      "Epoch 35/100\n",
      "188/188 [==============================] - 1s 4ms/step - loss: 0.1740 - accuracy: 0.9322 - val_loss: 0.2061 - val_accuracy: 0.9183\n",
      "Epoch 36/100\n",
      "188/188 [==============================] - 1s 3ms/step - loss: 0.1582 - accuracy: 0.9350 - val_loss: 0.2154 - val_accuracy: 0.9148\n",
      "Epoch 37/100\n",
      "188/188 [==============================] - 1s 3ms/step - loss: 0.1574 - accuracy: 0.9319 - val_loss: 0.2166 - val_accuracy: 0.9148\n",
      "Epoch 38/100\n",
      "188/188 [==============================] - 1s 3ms/step - loss: 0.1563 - accuracy: 0.9353 - val_loss: 0.2353 - val_accuracy: 0.9157\n",
      "Epoch 39/100\n",
      "188/188 [==============================] - 1s 3ms/step - loss: 0.1745 - accuracy: 0.9295 - val_loss: 0.2242 - val_accuracy: 0.9148\n",
      "Epoch 40/100\n",
      "188/188 [==============================] - 1s 3ms/step - loss: 0.1629 - accuracy: 0.9329 - val_loss: 0.2268 - val_accuracy: 0.9171\n",
      "Epoch 41/100\n",
      "188/188 [==============================] - 1s 4ms/step - loss: 0.1544 - accuracy: 0.9373 - val_loss: 0.2179 - val_accuracy: 0.9179\n",
      "Epoch 42/100\n",
      "188/188 [==============================] - 1s 3ms/step - loss: 0.1537 - accuracy: 0.9356 - val_loss: 0.2253 - val_accuracy: 0.9159\n",
      "Epoch 43/100\n",
      "188/188 [==============================] - 1s 3ms/step - loss: 0.1472 - accuracy: 0.9388 - val_loss: 0.2259 - val_accuracy: 0.9109\n",
      "Epoch 44/100\n",
      "188/188 [==============================] - 1s 3ms/step - loss: 0.1535 - accuracy: 0.9384 - val_loss: 0.2182 - val_accuracy: 0.9105\n",
      "Epoch 45/100\n",
      "188/188 [==============================] - 1s 4ms/step - loss: 0.1457 - accuracy: 0.9384 - val_loss: 0.2282 - val_accuracy: 0.9171\n",
      "Epoch 46/100\n",
      "188/188 [==============================] - 1s 4ms/step - loss: 0.1522 - accuracy: 0.9384 - val_loss: 0.2276 - val_accuracy: 0.9149\n",
      "Epoch 47/100\n",
      "188/188 [==============================] - 1s 4ms/step - loss: 0.1494 - accuracy: 0.9386 - val_loss: 0.2297 - val_accuracy: 0.9177\n",
      "Epoch 48/100\n",
      "188/188 [==============================] - 1s 4ms/step - loss: 0.1497 - accuracy: 0.9378 - val_loss: 0.2445 - val_accuracy: 0.9165\n",
      "Epoch 49/100\n",
      "188/188 [==============================] - 1s 3ms/step - loss: 0.1434 - accuracy: 0.9410 - val_loss: 0.2421 - val_accuracy: 0.9120\n",
      "Epoch 50/100\n",
      "188/188 [==============================] - 1s 4ms/step - loss: 0.1452 - accuracy: 0.9369 - val_loss: 0.2302 - val_accuracy: 0.9146\n",
      "Epoch 51/100\n",
      "188/188 [==============================] - 1s 3ms/step - loss: 0.1444 - accuracy: 0.9383 - val_loss: 0.2493 - val_accuracy: 0.9161\n",
      "Epoch 52/100\n",
      "188/188 [==============================] - 1s 4ms/step - loss: 0.1434 - accuracy: 0.9399 - val_loss: 0.2691 - val_accuracy: 0.9122\n",
      "Epoch 53/100\n",
      "188/188 [==============================] - 1s 3ms/step - loss: 0.1432 - accuracy: 0.9404 - val_loss: 0.2517 - val_accuracy: 0.9173\n",
      "Epoch 54/100\n",
      "188/188 [==============================] - 1s 4ms/step - loss: 0.1499 - accuracy: 0.9411 - val_loss: 0.2455 - val_accuracy: 0.9134\n",
      "Epoch 55/100\n",
      "188/188 [==============================] - 1s 4ms/step - loss: 0.1450 - accuracy: 0.9414 - val_loss: 0.2656 - val_accuracy: 0.9167\n",
      "Epoch 56/100\n",
      "188/188 [==============================] - 1s 4ms/step - loss: 0.1767 - accuracy: 0.9377 - val_loss: 0.2291 - val_accuracy: 0.9109\n",
      "Epoch 57/100\n",
      "188/188 [==============================] - 1s 4ms/step - loss: 0.1657 - accuracy: 0.9338 - val_loss: 0.2666 - val_accuracy: 0.9142\n"
     ]
    },
    {
     "name": "stdout",
     "output_type": "stream",
     "text": [
      "Epoch 58/100\n",
      "188/188 [==============================] - 1s 3ms/step - loss: 0.1452 - accuracy: 0.9397 - val_loss: 0.2426 - val_accuracy: 0.9151\n",
      "Epoch 59/100\n",
      "188/188 [==============================] - 1s 3ms/step - loss: 0.1421 - accuracy: 0.9389 - val_loss: 0.2588 - val_accuracy: 0.9099\n",
      "Epoch 60/100\n",
      "188/188 [==============================] - 1s 3ms/step - loss: 0.1393 - accuracy: 0.9430 - val_loss: 0.2554 - val_accuracy: 0.9134\n",
      "Epoch 61/100\n",
      "188/188 [==============================] - 1s 3ms/step - loss: 0.1382 - accuracy: 0.9444 - val_loss: 0.2589 - val_accuracy: 0.9134\n",
      "Epoch 62/100\n",
      "188/188 [==============================] - 1s 4ms/step - loss: 0.1338 - accuracy: 0.9433 - val_loss: 0.2623 - val_accuracy: 0.9091\n",
      "Epoch 63/100\n",
      "188/188 [==============================] - 1s 4ms/step - loss: 0.1300 - accuracy: 0.9449 - val_loss: 0.2539 - val_accuracy: 0.9126\n",
      "Epoch 64/100\n",
      "188/188 [==============================] - 1s 4ms/step - loss: 0.1358 - accuracy: 0.9462 - val_loss: 0.2851 - val_accuracy: 0.9134\n",
      "Epoch 65/100\n",
      "188/188 [==============================] - 1s 4ms/step - loss: 0.1360 - accuracy: 0.9444 - val_loss: 0.2720 - val_accuracy: 0.9099\n",
      "Epoch 66/100\n",
      "188/188 [==============================] - 1s 3ms/step - loss: 0.1322 - accuracy: 0.9464 - val_loss: 0.2815 - val_accuracy: 0.9122\n",
      "Epoch 67/100\n",
      "188/188 [==============================] - 1s 3ms/step - loss: 0.1349 - accuracy: 0.9442 - val_loss: 0.2718 - val_accuracy: 0.9111\n",
      "Epoch 68/100\n",
      "188/188 [==============================] - 1s 3ms/step - loss: 0.1321 - accuracy: 0.9460 - val_loss: 0.2978 - val_accuracy: 0.9105\n",
      "Epoch 69/100\n",
      "188/188 [==============================] - 1s 4ms/step - loss: 0.1323 - accuracy: 0.9448 - val_loss: 0.3055 - val_accuracy: 0.9105\n",
      "Epoch 70/100\n",
      "188/188 [==============================] - 1s 3ms/step - loss: 0.1317 - accuracy: 0.9449 - val_loss: 0.2889 - val_accuracy: 0.9132\n",
      "Epoch 71/100\n",
      "188/188 [==============================] - 1s 4ms/step - loss: 0.1293 - accuracy: 0.9452 - val_loss: 0.2773 - val_accuracy: 0.9109\n",
      "Epoch 72/100\n",
      "188/188 [==============================] - 1s 4ms/step - loss: 0.1386 - accuracy: 0.9428 - val_loss: 0.2797 - val_accuracy: 0.9132\n",
      "Epoch 73/100\n",
      "188/188 [==============================] - 1s 4ms/step - loss: 0.1290 - accuracy: 0.9475 - val_loss: 0.2818 - val_accuracy: 0.9109\n",
      "Epoch 74/100\n",
      "188/188 [==============================] - 1s 4ms/step - loss: 0.1318 - accuracy: 0.9443 - val_loss: 0.2881 - val_accuracy: 0.9107\n",
      "Epoch 75/100\n",
      "188/188 [==============================] - 1s 4ms/step - loss: 0.1340 - accuracy: 0.9467 - val_loss: 0.2710 - val_accuracy: 0.9114\n",
      "Epoch 76/100\n",
      "188/188 [==============================] - 1s 4ms/step - loss: 0.1230 - accuracy: 0.9487 - val_loss: 0.3758 - val_accuracy: 0.9091\n",
      "Epoch 77/100\n",
      "188/188 [==============================] - 1s 4ms/step - loss: 0.1323 - accuracy: 0.9450 - val_loss: 0.3278 - val_accuracy: 0.9146\n",
      "Epoch 78/100\n",
      "188/188 [==============================] - 1s 4ms/step - loss: 0.1293 - accuracy: 0.9490 - val_loss: 0.3067 - val_accuracy: 0.9099\n",
      "Epoch 79/100\n",
      "188/188 [==============================] - 1s 3ms/step - loss: 0.1252 - accuracy: 0.9483 - val_loss: 0.3009 - val_accuracy: 0.9070\n",
      "Epoch 80/100\n",
      "188/188 [==============================] - 1s 3ms/step - loss: 0.1242 - accuracy: 0.9468 - val_loss: 0.2721 - val_accuracy: 0.9093\n",
      "Epoch 81/100\n",
      "188/188 [==============================] - 1s 3ms/step - loss: 0.1272 - accuracy: 0.9488 - val_loss: 0.2793 - val_accuracy: 0.9122\n",
      "Epoch 82/100\n",
      "188/188 [==============================] - 1s 3ms/step - loss: 0.1344 - accuracy: 0.9433 - val_loss: 0.3415 - val_accuracy: 0.9089\n",
      "Epoch 83/100\n",
      "188/188 [==============================] - 1s 4ms/step - loss: 0.1205 - accuracy: 0.9497 - val_loss: 0.3490 - val_accuracy: 0.9019\n",
      "Epoch 84/100\n",
      "188/188 [==============================] - 1s 4ms/step - loss: 0.1385 - accuracy: 0.9441 - val_loss: 0.2919 - val_accuracy: 0.9089\n",
      "Epoch 85/100\n",
      "188/188 [==============================] - 1s 4ms/step - loss: 0.1382 - accuracy: 0.9459 - val_loss: 0.3058 - val_accuracy: 0.9091\n",
      "Epoch 86/100\n",
      "188/188 [==============================] - 1s 4ms/step - loss: 0.1245 - accuracy: 0.9497 - val_loss: 0.3040 - val_accuracy: 0.9070\n",
      "Epoch 87/100\n",
      "188/188 [==============================] - 1s 4ms/step - loss: 0.1250 - accuracy: 0.9491 - val_loss: 0.3278 - val_accuracy: 0.9118\n",
      "Epoch 88/100\n",
      "188/188 [==============================] - 1s 3ms/step - loss: 0.1280 - accuracy: 0.9485 - val_loss: 0.3363 - val_accuracy: 0.9072\n",
      "Epoch 89/100\n",
      "188/188 [==============================] - 1s 4ms/step - loss: 0.1313 - accuracy: 0.9473 - val_loss: 0.2910 - val_accuracy: 0.9114\n",
      "Epoch 90/100\n",
      "188/188 [==============================] - 1s 4ms/step - loss: 0.1205 - accuracy: 0.9524 - val_loss: 0.3303 - val_accuracy: 0.9070\n",
      "Epoch 91/100\n",
      "188/188 [==============================] - 1s 4ms/step - loss: 0.1222 - accuracy: 0.9495 - val_loss: 0.3286 - val_accuracy: 0.9083\n",
      "Epoch 92/100\n",
      "188/188 [==============================] - 1s 4ms/step - loss: 0.1207 - accuracy: 0.9509 - val_loss: 0.3133 - val_accuracy: 0.9087\n",
      "Epoch 93/100\n",
      "188/188 [==============================] - 1s 4ms/step - loss: 0.1245 - accuracy: 0.9505 - val_loss: 0.3189 - val_accuracy: 0.9042\n",
      "Epoch 94/100\n",
      "188/188 [==============================] - 1s 3ms/step - loss: 0.1260 - accuracy: 0.9483 - val_loss: 0.3657 - val_accuracy: 0.9089\n",
      "Epoch 95/100\n",
      "188/188 [==============================] - 1s 3ms/step - loss: 0.1347 - accuracy: 0.9474 - val_loss: 0.3333 - val_accuracy: 0.9058\n",
      "Epoch 96/100\n",
      "188/188 [==============================] - 1s 4ms/step - loss: 0.1383 - accuracy: 0.9451 - val_loss: 0.3144 - val_accuracy: 0.9058\n",
      "Epoch 97/100\n",
      "188/188 [==============================] - 1s 4ms/step - loss: 0.1294 - accuracy: 0.9463 - val_loss: 0.3171 - val_accuracy: 0.9085\n",
      "Epoch 98/100\n",
      "188/188 [==============================] - 1s 4ms/step - loss: 0.1263 - accuracy: 0.9475 - val_loss: 0.3145 - val_accuracy: 0.9103\n",
      "Epoch 99/100\n",
      "188/188 [==============================] - 1s 4ms/step - loss: 0.1200 - accuracy: 0.9491 - val_loss: 0.3492 - val_accuracy: 0.9109\n",
      "Epoch 100/100\n",
      "188/188 [==============================] - 1s 4ms/step - loss: 0.1158 - accuracy: 0.9540 - val_loss: 0.3586 - val_accuracy: 0.9112\n"
     ]
    },
    {
     "data": {
      "text/plain": [
       "<keras.callbacks.History at 0x22d454c4af0>"
      ]
     },
     "execution_count": 13,
     "metadata": {},
     "output_type": "execute_result"
    }
   ],
   "source": [
    "model.fit(x_train, y_train, batch_size=64, verbose=1, epochs=100, validation_data=(x_test, y_test), shuffle=True)"
   ]
  },
  {
   "cell_type": "markdown",
   "metadata": {},
   "source": [
    "### Test the model"
   ]
  },
  {
   "cell_type": "code",
   "execution_count": 14,
   "metadata": {},
   "outputs": [
    {
     "name": "stdout",
     "output_type": "stream",
     "text": [
      "1/1 [==============================] - 0s 99ms/step\n"
     ]
    },
    {
     "data": {
      "text/plain": [
       "array([[4.7962355e-15, 9.0745407e-01, 9.2545882e-02, 5.4188298e-09]],\n",
       "      dtype=float32)"
      ]
     },
     "execution_count": 14,
     "metadata": {},
     "output_type": "execute_result"
    }
   ],
   "source": [
    "model.predict(x[0:1])"
   ]
  },
  {
   "cell_type": "markdown",
   "metadata": {},
   "source": [
    "## Confusion Matrix"
   ]
  },
  {
   "cell_type": "code",
   "execution_count": 15,
   "metadata": {},
   "outputs": [
    {
     "name": "stdout",
     "output_type": "stream",
     "text": [
      "161/161 [==============================] - 0s 2ms/step\n"
     ]
    },
    {
     "data": {
      "text/plain": [
       "array([[ 447,    0,    0,    0],\n",
       "       [   0, 1560,   96,    3],\n",
       "       [   0,  104, 1820,   97],\n",
       "       [   0,    5,  151,  855]], dtype=int64)"
      ]
     },
     "execution_count": 15,
     "metadata": {},
     "output_type": "execute_result"
    }
   ],
   "source": [
    "# Predict y data with model: \n",
    "y_pred = model.predict(x_test)\n",
    "\n",
    "cm = confusion_matrix(np.argmax(y_test, axis=1), np.argmax(y_pred, axis=1))\n",
    "cm"
   ]
  },
  {
   "cell_type": "code",
   "execution_count": 16,
   "metadata": {},
   "outputs": [
    {
     "data": {
      "image/png": "[encoded data removed]",
      "text/plain": [
       "<Figure size 1000x800 with 2 Axes>"
      ]
     },
     "metadata": {},
     "output_type": "display_data"
    }
   ],
   "source": [
    "#Plotting the confusion matrix\n",
    "\n",
    "plt.figure(figsize=(10,8))\n",
    "sns.heatmap(cm, annot=True)\n",
    "plt.title('Confusion Matrix')\n",
    "plt.ylabel('Actal Values')\n",
    "plt.xlabel('Predicted Values')\n",
    "plt.show()"
   ]
  },
  {
   "cell_type": "markdown",
   "metadata": {},
   "source": [
    "## Model Evaluation"
   ]
  },
  {
   "cell_type": "code",
   "execution_count": 17,
   "metadata": {},
   "outputs": [
    {
     "name": "stdout",
     "output_type": "stream",
     "text": [
      "              precision    recall  f1-score   support\n",
      "\n",
      "           0       1.00      1.00      1.00       447\n",
      "           1       0.93      0.94      0.94      1659\n",
      "           2       0.88      0.90      0.89      2021\n",
      "           3       0.90      0.85      0.87      1011\n",
      "\n",
      "    accuracy                           0.91      5138\n",
      "   macro avg       0.93      0.92      0.92      5138\n",
      "weighted avg       0.91      0.91      0.91      5138\n",
      "\n"
     ]
    }
   ],
   "source": [
    "report = classification_report(np.argmax(y_test, axis=1), np.argmax(y_pred, axis=1))\n",
    "print(report)"
   ]
  },
  {
   "cell_type": "code",
   "execution_count": 18,
   "metadata": {},
   "outputs": [
    {
     "name": "stdout",
     "output_type": "stream",
     "text": [
      "161/161 [==============================] - 0s 2ms/step - loss: 0.3586 - accuracy: 0.9112\n",
      "Model accuracy:  91.12495183944702 %\n"
     ]
    }
   ],
   "source": [
    "modelAccuracy = model.evaluate(x_test, y_test)[1]\n",
    "print(\"Model accuracy: \", modelAccuracy*100, \"%\")"
   ]
  },
  {
   "cell_type": "markdown",
   "metadata": {},
   "source": [
    "### With the above model we have acheived 91.1% of accuracy that the classification of the feature is derived"
   ]
  }
 ],
 "metadata": {
  "kernelspec": {
   "display_name": "Python 3 (ipykernel)",
   "language": "python",
   "name": "python3"
  },
  "language_info": {
   "codemirror_mode": {
    "name": "ipython",
    "version": 3
   },
   "file_extension": ".py",
   "mimetype": "text/x-python",
   "name": "python",
   "nbconvert_exporter": "python",
   "pygments_lexer": "ipython3",
   "version": "3.10.9"
  },
  "vscode": {
   "interpreter": {
    "hash": "5067bf59f322131bf1d085ff36e59d01b09335d9af222928e486f1f012c6674e"
   }
  }
 },
 "nbformat": 4,
 "nbformat_minor": 2
}
